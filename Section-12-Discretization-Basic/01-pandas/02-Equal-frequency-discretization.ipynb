{
 "cells": [
  {
   "cell_type": "markdown",
   "metadata": {},
   "source": [
    "## Discretization\n",
    "\n",
    "Discretization is the process of transforming continuous variables into discrete variables by creating a set of contiguous intervals that span the range of the variable's values. Discretization is also called **binning**, where bin is an alternative name for interval.\n",
    "\n",
    "\n",
    "### Discretization helps handle outliers and may improve the value spread in skewed variables\n",
    "\n",
    "Discretization helps handle outliers by placing these values into the lower or higher intervals, together with the remaining inlier values of the distribution. Thus, these outlier observations no longer differ from the rest of the values at the tails of the distribution, as they are now all together in the same interval / bucket. In addition, by creating appropriate bins or intervals, discretization can help spread the values of a skewed variable across a set of bins with an equal number of observations.\n",
    "\n",
    "\n",
    "### Discretization approaches\n",
    "\n",
    "There are several approaches to transforming continuous variables into discrete ones. Discretization methods fall into 2 categories: **supervised and unsupervised**. Unsupervised methods do not use any information, other than the variable distribution, to create the contiguous bins in which the values will be placed. Supervised methods typically use target information in order to create the bins or intervals.\n",
    "\n",
    "\n",
    "####  Unsupervised discretization methods\n",
    "\n",
    "- Equal width discretisation\n",
    "- Equal frequency discretization\n",
    "- K-means discretization\n",
    "\n",
    "#### Supervised discretization methods\n",
    "\n",
    "- Discretization using decision trees\n",
    "\n",
    "\n",
    "In this lecture, I will describe **equal frequency discretization.\n",
    "\n",
    "\n",
    "## Equal frequency discretization\n",
    "\n",
    "Equal frequency discretization divides the scope of possible values of the variable into N bins, where each bin carries the same amount of observations. This is particularly useful for skewed variables, as it spreads the observations over the different bins equally. We find the interval boundaries by determining the quantiles.\n",
    "\n",
    "Equal frequency discretization using quantiles consists of dividing the continuous variable into N quantiles, where N to be defined by the user.\n",
    "\n",
    "Equal frequency binning is straightforward to implement, and by spreading the values of the observations more evenly, it may help boost the algorithm's performance. This arbitrary binning may also disrupt the relationship with the target."
   ]
  },
  {
   "cell_type": "markdown",
   "metadata": {},
   "source": [
    "## Titanic dataset"
   ]
  },
  {
   "cell_type": "code",
   "execution_count": 1,
   "metadata": {},
   "outputs": [],
   "source": [
    "import pandas as pd\n",
    "import matplotlib.pyplot as plt\n",
    "\n",
    "from sklearn.model_selection import train_test_split"
   ]
  },
  {
   "cell_type": "code",
   "execution_count": 2,
   "metadata": {},
   "outputs": [
    {
     "data": {
      "text/html": [
       "<div>\n",
       "<style scoped>\n",
       "    .dataframe tbody tr th:only-of-type {\n",
       "        vertical-align: middle;\n",
       "    }\n",
       "\n",
       "    .dataframe tbody tr th {\n",
       "        vertical-align: top;\n",
       "    }\n",
       "\n",
       "    .dataframe thead th {\n",
       "        text-align: right;\n",
       "    }\n",
       "</style>\n",
       "<table border=\"1\" class=\"dataframe\">\n",
       "  <thead>\n",
       "    <tr style=\"text-align: right;\">\n",
       "      <th></th>\n",
       "      <th>survived</th>\n",
       "      <th>age</th>\n",
       "      <th>fare</th>\n",
       "    </tr>\n",
       "  </thead>\n",
       "  <tbody>\n",
       "    <tr>\n",
       "      <th>0</th>\n",
       "      <td>1</td>\n",
       "      <td>29.0000</td>\n",
       "      <td>211.3375</td>\n",
       "    </tr>\n",
       "    <tr>\n",
       "      <th>1</th>\n",
       "      <td>1</td>\n",
       "      <td>0.9167</td>\n",
       "      <td>151.5500</td>\n",
       "    </tr>\n",
       "    <tr>\n",
       "      <th>2</th>\n",
       "      <td>0</td>\n",
       "      <td>2.0000</td>\n",
       "      <td>151.5500</td>\n",
       "    </tr>\n",
       "    <tr>\n",
       "      <th>3</th>\n",
       "      <td>0</td>\n",
       "      <td>30.0000</td>\n",
       "      <td>151.5500</td>\n",
       "    </tr>\n",
       "    <tr>\n",
       "      <th>4</th>\n",
       "      <td>0</td>\n",
       "      <td>25.0000</td>\n",
       "      <td>151.5500</td>\n",
       "    </tr>\n",
       "  </tbody>\n",
       "</table>\n",
       "</div>"
      ],
      "text/plain": [
       "   survived      age      fare\n",
       "0         1  29.0000  211.3375\n",
       "1         1   0.9167  151.5500\n",
       "2         0   2.0000  151.5500\n",
       "3         0  30.0000  151.5500\n",
       "4         0  25.0000  151.5500"
      ]
     },
     "execution_count": 2,
     "metadata": {},
     "output_type": "execute_result"
    }
   ],
   "source": [
    "# load the numerical variables of the Titanic Dataset\n",
    "\n",
    "data = pd.read_csv('../../Data/titanic.csv', usecols=['age', 'fare', 'survived'])\n",
    "\n",
    "data.head()"
   ]
  },
  {
   "cell_type": "code",
   "execution_count": 3,
   "metadata": {},
   "outputs": [
    {
     "data": {
      "text/plain": [
       "((916, 2), (393, 2))"
      ]
     },
     "execution_count": 3,
     "metadata": {},
     "output_type": "execute_result"
    }
   ],
   "source": [
    "# Let's separate into train and test set\n",
    "X_train, X_test, y_train, y_test = train_test_split(\n",
    "    data[['age', 'fare']],\n",
    "    data['survived'],\n",
    "    test_size=0.3,\n",
    "    random_state=0)\n",
    "\n",
    "X_train.shape, X_test.shape"
   ]
  },
  {
   "cell_type": "markdown",
   "metadata": {},
   "source": [
    "The variables Age and Fare contain missing data, that I will fill by extracting a random sample of the variable."
   ]
  },
  {
   "cell_type": "code",
   "execution_count": 4,
   "metadata": {},
   "outputs": [],
   "source": [
    "def impute_na(data, variable):\n",
    "    # function to fill NA with a random sample\n",
    "    df = data.copy()\n",
    "\n",
    "    # random sampling\n",
    "    df[variable+'_random'] = df[variable]\n",
    "\n",
    "    # extract the random sample to fill the na\n",
    "    random_sample = X_train[variable].dropna().sample(\n",
    "        df[variable].isnull().sum(), random_state=0)\n",
    "\n",
    "    # pandas needs to have the same index in order to merge datasets\n",
    "    random_sample.index = df[df[variable].isnull()].index\n",
    "    df.loc[df[variable].isnull(), variable+'_random'] = random_sample\n",
    "\n",
    "    return df[variable+'_random']"
   ]
  },
  {
   "cell_type": "code",
   "execution_count": 5,
   "metadata": {},
   "outputs": [],
   "source": [
    "# replace NA in both train and test sets\n",
    "X_train['age'] = impute_na(X_train, 'age')\n",
    "X_test['age'] = impute_na(X_test, 'age')\n",
    "\n",
    "X_train['fare'] = impute_na(X_train, 'fare')\n",
    "X_test['fare'] = impute_na(X_test, 'fare')"
   ]
  },
  {
   "cell_type": "code",
   "execution_count": 6,
   "metadata": {},
   "outputs": [
    {
     "data": {
<<<<<<< HEAD
      "image/png": "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",
=======
      "image/png": "iVBORw0KGgoAAAANSUhEUgAAAqQAAAF2CAYAAAC4WIoQAAAAOXRFWHRTb2Z0d2FyZQBNYXRwbG90bGliIHZlcnNpb24zLjcuMiwgaHR0cHM6Ly9tYXRwbG90bGliLm9yZy8pXeV/AAAACXBIWXMAAA9hAAAPYQGoP6dpAAA5u0lEQVR4nO3de3hU5b328XtyDoFJDEomEQKpopwFQZMRtFRCIkYLhUvFUo2WShsDirEecANykiBthYoRqqW4tVJa3EJbQCBEhK2EABEqB4tYwbiVCQoN4WDCkKz3D95MHQgkgUmemeT7ua5cZNZ61prf8zCz5s46jc2yLEsAAACAIUGmCwAAAEDLRiAFAACAUQRSAAAAGEUgBQAAgFEEUgAAABhFIAUAAIBRBFIAAAAYRSAFAACAUQRSAAAAGEUgBQAAkqStW7fqpptuUlRUlGw2m3bs2GG6JLQQIaYLAAAA5rndbt11112KiIjQnDlz1KpVK3Xs2NF0WWghCKQAAED/+te/9Pnnn+vVV1/Vz372M9PloIXhkD0AANChQ4ckSTExMT5Z34kTJ3yyHrQMBFL4pc8//1wPP/ywrr32WkVGRqpt27a66667dODAgXPafvTRR/r+97+vyMhItW/fXjNmzNCiRYtks9nOaf/OO+/o5ptvVlRUlNq0aaOMjAzt3r27aToFAH7qgQce0Pe//31J0l133SWbzaaBAwfqo48+0gMPPKDvfe97ioiIkMPh0E9/+lMdPnzYa/kpU6bIZrNpz549+vGPf6zLLrtMAwYM8Mz/4x//qL59+yoyMlKxsbEaOXKkvvjiiybtI/wbh+zhl7Zu3apNmzZp5MiRat++vQ4cOKD58+dr4MCB2rNnj1q1aiVJ+vLLL/WDH/xANptNEyZMUFRUlH7/+98rPDz8nHW+8cYbyszMVHp6up5//nmdPHlS8+fP14ABA7R9+3Z16tSpiXsJAP7h5z//ua688krNnDlTjzzyiG644QbFxcUpPz9fn332mR588EE5HA7t3r1br7zyinbv3q3NmzfLZrN5reeuu+5S586dNXPmTFmWJUl67rnnNGnSJN1999362c9+pq+//lrz5s3TLbfcou3bt/tsjywCnAX4oZMnT54zrbCw0JJkvf76655p48aNs2w2m7V9+3bPtMOHD1uxsbGWJGv//v2WZVnWsWPHrJiYGOuhhx7yWqfL5bKio6PPmQ4ALc369estSdbSpUs902rbFv/pT3+yJFkbN270THv22WctSda9997r1fbAgQNWcHCw9dxzz3lN37lzpxUSEnLOdLRcHLKHX4qMjPT87na7dfjwYV199dWKiYnRhx9+6Jm3evVqOZ1O9e7d2zMtNjZWo0aN8lpffn6+ysrKdO+99+qbb77x/AQHBys5OVnr169v9D4BQKD57ra4oqJC33zzjVJSUiTJa1tc4xe/+IXX47ffflvV1dW6++67vba9DodDnTt3ZtsLDw7Zwy99++23ys3N1aJFi/Tll196Dv1I0tGjRz2/f/7553I6necsf/XVV3s93rdvnyTp1ltvrfX57Ha7L8oGgGblyJEjmjp1qpYsWeK56KnGd7fFNZKSkrwe79u3T5ZlqXPnzrWuPzQ01HfFIqARSOGXxo0bp0WLFmn8+PFyOp2Kjo6WzWbTyJEjVV1d3eD11SzzxhtvyOFwnDM/JIS3AgCc7e6779amTZv0xBNPqHfv3mrdurWqq6t122231bot/u4eVenMttdms+mdd95RcHDwOe1bt27daLUjsPApDL/01ltvKTMzU7/5zW880yoqKlRWVubVrmPHjvr000/PWf7saVdddZUkqV27dkpNTfV9wQDQzPz73/9WQUGBpk6dqsmTJ3um1xxxqo+rrrpKlmUpKSlJ11xzTWOUiWaCc0jhl4KDg70O00vSvHnzVFVV5TUtPT1dhYWFXl9vd+TIEb355pvntLPb7Zo5c6bcbvc5z/f111/7rngAaAZq9mievS2eO3duvdcxfPhwBQcHa+rUqeesx7Ksc24fhZaLPaTwS3fccYfeeOMNRUdHq1u3biosLNS6devUtm1br3ZPPvmk/vjHP2rw4MEaN26c57ZPiYmJOnLkiOeWJHa7XfPnz9d9992n66+/XiNHjtQVV1yhkpISrVy5Uv3799dLL71koqsA4JfsdrtuueUWzZ49W263W1deeaXWrl2r/fv313sdV111lWbMmKEJEybowIEDGjZsmNq0aaP9+/dr2bJlGjNmjH75y182Yi8QKAik8Eu//e1vFRwcrDfffFMVFRXq37+/1q1bp/T0dK92HTp00Pr16/XII49o5syZuuKKK5Sdna2oqCg98sgjioiI8LT98Y9/rISEBM2aNUu/+tWvVFlZqSuvvFI333yzHnzwwabuIgD4vcWLF2vcuHHKy8uTZVlKS0vTO++8o4SEhHqv4+mnn9Y111yjOXPmaOrUqZLObLvT0tL0wx/+sLFKR4CxWWfvQweagfHjx+t3v/udjh8/XuuJ9AAAwH9wDikC3rfffuv1+PDhw3rjjTc0YMAAwigAAAGAQ/YIeE6nUwMHDlTXrl1VWlqqhQsXqry8XJMmTTJdGgAAqAcCKQLe7bffrrfeekuvvPKKbDabrr/+ei1cuFC33HKL6dIAAEA9cA4pAAAAjOIcUgAAABhFIAUAAIBRAXkOaXV1tb766iu1adPGc+NzALgQy7J07NgxJSQkKCiIv8UvBtteAA3RkO1uQAbSr776Sh06dDBdBoAA9MUXX6h9+/amywhIbHsBXIz6bHcDMpC2adNG0pkO2u32Otu73W6tXbtWaWlpCg0Nbezy/Bbj8B+MxRktaRzKy8vVoUMHz/YDDdfStr2BXH8g1y5Rv2m+qr8h292ADKTf/X7y+m4UW7VqJbvdHpAvDF9hHP6DsTijJY4Dh5ovXkvb9gZy/YFcu0T9pvm6/vpsdzmRCgAAAEYRSAEAAGAUgRQAAABGEUgBAABgFIEUAAAARhFIAQAAYBSBFAAAAEY1OJBu3LhRd955pxISEmSz2bR8+XKv+ZZlafLkyYqPj1dkZKRSU1O1b98+rzZHjhzRqFGjZLfbFRMTo9GjR+v48eOX1BEAAAAEpgYH0hMnTui6665TXl5erfNnz56tF198UQsWLFBRUZGioqKUnp6uiooKT5tRo0Zp9+7dys/P14oVK7Rx40aNGTPm4nsBAACAgNXgb2oaMmSIhgwZUus8y7I0d+5cTZw4UUOHDpUkvf7664qLi9Py5cs1cuRIffzxx1q9erW2bt2qfv36SZLmzZun22+/Xb/+9a+VkJBwCd0BAABAoPHpOaT79++Xy+VSamqqZ1p0dLSSk5NVWFgoSSosLFRMTIwnjEpSamqqgoKCVFRU5MtyAAAAEAB8+l32LpdLkhQXF+c1PS4uzjPP5XKpXbt23kWEhCg2NtbT5myVlZWqrKz0PC4vL5d05rtW3W53nXXVtKlP2+aMcfgPxuKMljQOLaGPABCofBpIG0tubq6mTp16zvS1a9eqVatW9V5Pfn6+L8sKWIzDfzAWZ7SEcTh58qTpElqsHlPWqLLKVuu8A7MymrgaAP7Ip4HU4XBIkkpLSxUfH++ZXlpaqt69e3vaHDp0yGu506dP68iRI57lzzZhwgTl5OR4HpeXl6tDhw5KS0uT3W6vsy632638/HwNHjxYoaGhDe1Ws1EzDpO2BamyuvYPh11T0pu4KjN4TZzRksah5sgKAMD/+DSQJiUlyeFwqKCgwBNAy8vLVVRUpKysLEmS0+lUWVmZiouL1bdvX0nSu+++q+rqaiUnJ9e63vDwcIWHh58zPTQ0tEEfog1t31xVVtvOu7eipY0Pr4kzWsI4NPf+AUAga3AgPX78uD799FPP4/3792vHjh2KjY1VYmKixo8frxkzZqhz585KSkrSpEmTlJCQoGHDhkmSunbtqttuu00PPfSQFixYILfbrbFjx2rkyJFcYQ8AANACNfgq+23btqlPnz7q06ePJCknJ0d9+vTR5MmTJUlPPvmkxo0bpzFjxuiGG27Q8ePHtXr1akVERHjW8eabb6pLly4aNGiQbr/9dg0YMECvvPKKj7oEAM3LlClTZLPZvH66dOnimV9RUaHs7Gy1bdtWrVu31ogRI1RaWuq1jpKSEmVkZKhVq1Zq166dnnjiCZ0+fbqpuwIAtWrwHtKBAwfKsqzzzrfZbJo2bZqmTZt23jaxsbFavHhxQ58aAFqs7t27a926dZ7HISH/2Xw/9thjWrlypZYuXaro6GiNHTtWw4cP1wcffCBJqqqqUkZGhhwOhzZt2qSDBw/q/vvvV2hoqGbOnNnkfQGAswXEVfYA0NKFhITUeuHn0aNHtXDhQi1evFi33nqrJGnRokXq2rWrNm/erJSUFK1du1Z79uzRunXrFBcXp969e2v69Ol66qmnNGXKFIWFhTV1dwDAC4EUAALAvn37lJCQoIiICDmdTuXm5ioxMVHFxcVyu91eX0jSpUsXJSYmqrCwUCkpKSosLFTPnj297hGdnp6urKws7d6923MK1tl8dQ/o8KDzH1Xz5/vDBvJ9egO5don6TfNV/Q1ZnkAKAH4uOTlZr732mq699lodPHhQU6dO1c0336xdu3bJ5XIpLCxMMTExXsuc/YUktX1hSc288/HVPaCn96s+77xVq1bVez2mBPJ9egO5don6TbvU+hty/2cCKQD4uSFDhnh+79Wrl5KTk9WxY0f95S9/UWRkZKM9r6/uAR2o9z4O5Pv0BnLtEvWb5qv6G3L/ZwIpAASYmJgYXXPNNfr00081ePBgnTp1SmVlZV57SUtLSz3nnDocDm3ZssVrHTVX4Z/vC0kk390DOtDvfRzI9+kN5Nol6jftUutvyLINvu0TAMCs48eP61//+pfi4+PVt29fhYaGqqCgwDN/7969KikpkdPplHTmC0l27tzp9S15+fn5stvt6tatW5PXDwBnYw8pAPi5X/7yl7rzzjvVsWNHffXVV3r22WcVHByse++9V9HR0Ro9erRycnIUGxsru92ucePGyel0KiUlRZKUlpambt266b777tPs2bPlcrk0ceJEZWdn17oHFACaGoEUAPzc//3f/+nee+/V4cOHdcUVV2jAgAHavHmzrrjiCknSnDlzFBQUpBEjRqiyslLp6el6+eWXPcsHBwdrxYoVysrKktPpVFRUlDIzMy94v2gAaEoEUgDwc0uWLLng/IiICOXl5SkvL++8bTp27BgQV7QDaJk4hxQAAABGEUgBAABgFIEUAAAARhFIAQAAYBSBFAAAAEYRSAEAAGAUgRQAAABGEUgBAABgFIEUAAAARhFIAQAAYBSBFAAAAEYRSAEAAGAUgRQAAABGEUgBAABgFIEUAAAARhFIAQAAYBSBFAAAAEaFmC4AgaXT0ysvOP/ArIwmqgQAADQX7CEFAACAUQRSAAAAGMUhezSpug75Sxz2BwCgpWEPKQAAAIwikAIAAMAoAikAAACMIpACAADAKAIpAAAAjCKQAgAAwCgCKQAAAIwikAIAAMAoAikAAACMIpACAADAKAIpAAAAjCKQAgAAwCgCKQAAAIwikAIAAMAoAikAAACMIpACAADAKAIpAAAAjCKQAgAAwCifB9KqqipNmjRJSUlJioyM1FVXXaXp06fLsixPG8uyNHnyZMXHxysyMlKpqanat2+fr0sBAABAAPB5IH3++ec1f/58vfTSS/r444/1/PPPa/bs2Zo3b56nzezZs/Xiiy9qwYIFKioqUlRUlNLT01VRUeHrcgAAAODnQny9wk2bNmno0KHKyMiQJHXq1El/+tOftGXLFkln9o7OnTtXEydO1NChQyVJr7/+uuLi4rR8+XKNHDnS1yUBAADAj/l8D+lNN92kgoICffLJJ5Kkf/zjH3r//fc1ZMgQSdL+/fvlcrmUmprqWSY6OlrJyckqLCz0dTkAAADwcz7fQ/r000+rvLxcXbp0UXBwsKqqqvTcc89p1KhRkiSXyyVJiouL81ouLi7OM+9slZWVqqys9DwuLy+XJLndbrnd7jprqmlTn7bNWU3/w4OsOtucT3jw+Zf1xfL1WYcv8Jo4oyWNQ0voIwAEKp8H0r/85S968803tXjxYnXv3l07duzQ+PHjlZCQoMzMzItaZ25urqZOnXrO9LVr16pVq1b1Xk9+fv5FPX9zM71f9XnnrVq16oLLzr7xwuu+1OXrsw5f4jVxRksYh5MnT5ouAQBwHj4PpE888YSefvppz7mgPXv21Oeff67c3FxlZmbK4XBIkkpLSxUfH+9ZrrS0VL179651nRMmTFBOTo7ncXl5uTp06KC0tDTZ7fY6a3K73crPz9fgwYMVGhp6Cb0LbDXjMGlbkCqrbbW22TUl/YLr6DFlzQXnX+ry9VmHL/CaOKMljUPNkRUAgP/xeSA9efKkgoK8T00NDg5WdfWZvXJJSUlyOBwqKCjwBNDy8nIVFRUpKyur1nWGh4crPDz8nOmhoaEN+hBtaPvmqrLapsqq2gNpXeNzvuV8tXx91uFLvCbOaAnj0Fz6N2vWLE2YMEGPPvqo5s6dK0mqqKjQ448/riVLlqiyslLp6el6+eWXvU6NKikpUVZWltavX6/WrVsrMzNTubm5Cgnx+ccAADSYz7dEd955p5577jklJiaqe/fu2r59u1544QX99Kc/lSTZbDaNHz9eM2bMUOfOnZWUlKRJkyYpISFBw4YN83U5ANBsbN26Vb/73e/Uq1cvr+mPPfaYVq5cqaVLlyo6Olpjx47V8OHD9cEHH0g6c3/ojIwMORwObdq0SQcPHtT999+v0NBQzZw500RXAMCLzwPpvHnzNGnSJD388MM6dOiQEhIS9POf/1yTJ0/2tHnyySd14sQJjRkzRmVlZRowYIBWr16tiIgIX5cDAM3C8ePHNWrUKL366quaMWOGZ/rRo0e1cOFCLV68WLfeeqskadGiReratas2b96slJQUrV27Vnv27NG6desUFxen3r17a/r06Xrqqac0ZcoUhYWFmeoWAEhqhEDapk0bzZ0713MoqTY2m03Tpk3TtGnTfP30ANAsZWdnKyMjQ6mpqV6BtLi4WG632+tWel26dFFiYqIKCwuVkpKiwsJC9ezZ0+sQfnp6urKysrR792716dOn1uf01R1OLuXOHiYF8l0oArl2ifpN81X9DVmek4cAwM8tWbJEH374obZu3XrOPJfLpbCwMMXExHhN/+6t9FwuV6232quZdz6+usPJpdzZwx8E8l0oArl2ifpNu9T6G3J3EwIpAPixL774Qo8++qjy8/Ob/LQmX93h5FLu7GFSIN+FIpBrl6jfNF/V35C7mxBIAcCPFRcX69ChQ7r++us906qqqrRx40a99NJLWrNmjU6dOqWysjKvvaSlpaWe2+w5HA7P1zd/d37NvPPx1R1OLuXOHv4gkO9CEci1S9Rv2qXW35Blff7VoQAA3xk0aJB27typHTt2eH769eunUaNGeX4PDQ1VQUGBZ5m9e/eqpKRETqdTkuR0OrVz504dOnTI0yY/P192u13dunVr8j4BwNnYQwoAfqxNmzbq0aOH17SoqCi1bdvWM3306NHKyclRbGys7Ha7xo0bJ6fTqZSUFElSWlqaunXrpvvuu0+zZ8+Wy+XSxIkTlZ2dXeseUABoagRSAAhwc+bMUVBQkEaMGOF1Y/wawcHBWrFihbKysuR0OhUVFaXMzEzudALAbxBIASDAvPfee16PIyIilJeXp7y8vPMu07Fjx4C4oh1Ay8Q5pAAAADCKQAoAAACjCKQAAAAwikAKAAAAowikAAAAMIpACgAAAKMIpAAAADCKQAoAAACjCKQAAAAwikAKAAAAowikAAAAMIpACgAAAKMIpAAAADCKQAoAAACjCKQAAAAwikAKAAAAowikAAAAMIpACgAAAKMIpAAAADCKQAoAAACjCKQAAAAwikAKAAAAowikAAAAMIpACgAAAKMIpAAAADCKQAoAAACjCKQAAAAwikAKAAAAowikAAAAMIpACgAAAKMIpAAAADCKQAoAAACjCKQAAAAwikAKAAAAowikAAAAMIpACgAAAKMIpAAAADCKQAoAAACjCKQAAAAwKsR0AfAvnZ5eaboEAADQwrCHFAAAAEY1SiD98ssv9ZOf/ERt27ZVZGSkevbsqW3btnnmW5alyZMnKz4+XpGRkUpNTdW+ffsaoxQAAAD4OZ8H0n//+9/q37+/QkND9c4772jPnj36zW9+o8suu8zTZvbs2XrxxRe1YMECFRUVKSoqSunp6aqoqPB1OQAAAPBzPj+H9Pnnn1eHDh20aNEiz7SkpCTP75Zlae7cuZo4caKGDh0qSXr99dcVFxen5cuXa+TIkb4uCQAAAH7M54H0b3/7m9LT03XXXXdpw4YNuvLKK/Xwww/roYcekiTt379fLpdLqampnmWio6OVnJyswsLCWgNpZWWlKisrPY/Ly8slSW63W263u86aatrUp21zVtP/8CCr0Z/jfMKD637upvh/4jVxRksah5bQRwAIVD4PpJ999pnmz5+vnJwcPfPMM9q6daseeeQRhYWFKTMzUy6XS5IUFxfntVxcXJxn3tlyc3M1derUc6avXbtWrVq1qndt+fn5DehJ8zW9X3WjrXvVqlUXnD/7xktfhy/xmjijJYzDyZMnTZcAADgPnwfS6upq9evXTzNnzpQk9enTR7t27dKCBQuUmZl5UeucMGGCcnJyPI/Ly8vVoUMHpaWlyW6317m82+1Wfn6+Bg8erNDQ0IuqIVD0mLLmvPPCgyxN71etSduCVFlta8KqGmbXlPRGf46W9Jq4kJY0DjVHVgLR/PnzNX/+fB04cECS1L17d02ePFlDhgyRJFVUVOjxxx/XkiVLVFlZqfT0dL388stef/iXlJQoKytL69evV+vWrZWZmanc3FyFhHD3PwDm+XxLFB8fr27dunlN69q1q/7nf/5HkuRwOCRJpaWlio+P97QpLS1V7969a11neHi4wsPDz5keGhraoA/RhrYPRJVVdQfNympbvdqZ0pT/Ry3hNVEfLWEcArl/7du316xZs9S5c2dZlqX//u//1tChQ7V9+3Z1795djz32mFauXKmlS5cqOjpaY8eO1fDhw/XBBx9IkqqqqpSRkSGHw6FNmzbp4MGDuv/++xUaGurZeQAAJvk8kPbv31979+71mvbJJ5+oY8eOks5c4ORwOFRQUOAJoOXl5SoqKlJWVpavy0EzVNfN+w/MymiiSoCmceedd3o9fu655zR//nxt3rxZ7du318KFC7V48WLdeuutkqRFixapa9eu2rx5s1JSUrR27Vrt2bNH69atU1xcnHr37q3p06frqaee0pQpUxQWFmaiWwDg4fNA+thjj+mmm27SzJkzdffdd2vLli165ZVX9Morr0iSbDabxo8frxkzZqhz585KSkrSpEmTlJCQoGHDhvm6HABoVqqqqrR06VKdOHFCTqdTxcXFcrvdXheKdunSRYmJiSosLFRKSooKCwvVs2dPr0P46enpysrK0u7du9WnT59an8tXF5Re6EJKf77YLJAv+gvk2iXqN81X9TdkeZ8H0htuuEHLli3ThAkTNG3aNCUlJWnu3LkaNWqUp82TTz6pEydOaMyYMSorK9OAAQO0evVqRURE+LocAGgWdu7cKafTqYqKCrVu3VrLli1Tt27dtGPHDoWFhSkmJsar/XcvFHW5XLVeSFoz73x8dUHphS6kbMqLGC9WIF/0F8i1S9Rv2qXW35CLSRvlbPY77rhDd9xxx3nn22w2TZs2TdOmTWuMpweAZufaa6/Vjh07dPToUb311lvKzMzUhg0bGvU5fXVB6YUupGyKixgvViBf9BfItUvUb5qv6m/IxaRcXgkAASAsLExXX321JKlv377aunWrfvvb3+qee+7RqVOnVFZW5rWXtLS01HMRqcPh0JYtW7zWV1pa6pl3Pr66oPRCF1IGwod1IF/0F8i1S9Rv2qXW35BlG+W77AEAjau6ulqVlZXq27evQkNDVVBQ4Jm3d+9elZSUyOl0SpKcTqd27typQ4cOedrk5+fLbrefc1cUADCBPaQA4OcmTJigIUOGKDExUceOHdPixYv13nvvac2aNYqOjtbo0aOVk5Oj2NhY2e12jRs3Tk6nUykpKZKktLQ0devWTffdd59mz54tl8uliRMnKjs7u9Y9oADQ1AikAODnDh06pPvvv18HDx5UdHS0evXqpTVr1mjw4MGSpDlz5igoKEgjRozwujF+jeDgYK1YsUJZWVlyOp2KiopSZmYm5/ED8BsEUgDwcwsXLrzg/IiICOXl5SkvL++8bTp27BgQV7QDaJk4hxQAAABGEUgBAABgFIEUAAAARhFIAQAAYBSBFAAAAEYRSAEAAGAUgRQAAABGEUgBAABgFIEUAAAARhFIAQAAYBSBFAAAAEYRSAEAAGAUgRQAAABGEUgBAABgFIEUAAAARhFIAQAAYBSBFAAAAEYRSAEAAGAUgRQAAABGEUgBAABgFIEUAAAARhFIAQAAYBSBFAAAAEYRSAEAAGAUgRQAAABGEUgBAABgFIEUAAAARhFIAQAAYBSBFAAAAEYRSAEAAGAUgRQAAABGEUgBAABgFIEUAAAARhFIAQAAYBSBFAAAAEYRSAEAAGAUgRQAAABGEUgBAABgFIEUAAAARhFIAQAAYBSBFAAAAEYRSAEAAGBUowfSWbNmyWazafz48Z5pFRUVys7OVtu2bdW6dWuNGDFCpaWljV0KAAAA/FCjBtKtW7fqd7/7nXr16uU1/bHHHtPf//53LV26VBs2bNBXX32l4cOHN2YpAAAA8FMhjbXi48ePa9SoUXr11Vc1Y8YMz/SjR49q4cKFWrx4sW699VZJ0qJFi9S1a1dt3rxZKSkpjVUSIEnq9PRKhQdbmn2j1GPKGlVW2bzmH5iVYagyAABapkbbQ5qdna2MjAylpqZ6TS8uLpbb7faa3qVLFyUmJqqwsLCxygEAAICfapQ9pEuWLNGHH36orVu3njPP5XIpLCxMMTExXtPj4uLkcrlqXV9lZaUqKys9j8vLyyVJbrdbbre7znpq2tSnbaALD7bOPy/I8vrXX9X1/3ShPtZ3+QuNRUt4ndRoSe+NQO5jbm6u3n77bf3zn/9UZGSkbrrpJj3//PO69tprPW0qKir0+OOPa8mSJaqsrFR6erpefvllxcXFedqUlJQoKytL69evV+vWrZWZmanc3FyFhDTawTIAqBefb4W++OILPfroo8rPz1dERIRP1pmbm6upU6eeM33t2rVq1apVvdeTn5/vk3r82ewb624zvV914xdyCVatWnXB+XX1sSHL1zYWdS3fHLWE98bJkydNl3DRNmzYoOzsbN1www06ffq0nnnmGaWlpWnPnj2KioqSdObc/JUrV2rp0qWKjo7W2LFjNXz4cH3wwQeSpKqqKmVkZMjhcGjTpk06ePCg7r//foWGhmrmzJkmuwcAvg+kxcXFOnTokK6//nrPtKqqKm3cuFEvvfSS1qxZo1OnTqmsrMxrL2lpaakcDket65wwYYJycnI8j8vLy9WhQwelpaXJbrfXWZPb7VZ+fr4GDx6s0NDQi+9cAOgxZc1554UHWZrer1qTtgWpstp23nam7ZqSfsH5F+pjfZe/0FjUtXxz0pLeGzVHVgLR6tWrvR6/9tprateunYqLi3XLLbfU69z8tWvXas+ePVq3bp3i4uLUu3dvTZ8+XU899ZSmTJmisLAwE10DAEmNEEgHDRqknTt3ek178MEH1aVLFz311FPq0KGDQkNDVVBQoBEjRkiS9u7dq5KSEjmdzlrXGR4ervDw8HOmh4aGNuhDtKHtA9HZF+jU2qbaVq92ptT1f1RX7Q1ZvraxaO6vkdq0hPdGc+rf0aNHJUmxsbGS6j43PyUlRYWFherZs6fXIfz09HRlZWVp9+7d6tOnzznP46vTpS50mpA/n0oRyKe0BHLtEvWb5qv6G7K8zwNpmzZt1KNHD69pUVFRatu2rWf66NGjlZOTo9jYWNntdo0bN05Op5Mr7AGgDtXV1Ro/frz69+/v2abW59x8l8vlFUZr5tfMq42vTpe60GlCgXCKTCCf0hLItUvUb9ql1t+QU6WMnMk+Z84cBQUFacSIEV4n3wMALiw7O1u7du3S+++/3+jP5avTpS50mpA/nyITyKe0BHLtEvWb5qv6G3KqVJME0vfee8/rcUREhPLy8pSXl9cUTw8AzcLYsWO1YsUKbdy4Ue3bt/dMdzgcdZ6b73A4tGXLFq/11XxD3vnO3/fV6VIXOk0oED6sA/mUlkCuXaJ+0y61/oYsy3fZA4CfsyxLY8eO1bJly/Tuu+8qKSnJa37fvn095+bXOPvcfKfTqZ07d+rQoUOeNvn5+bLb7erWrVvTdAQAzoObzwGAn8vOztbixYv117/+VW3atPGc8xkdHa3IyEhFR0fXeW5+WlqaunXrpvvuu0+zZ8+Wy+XSxIkTlZ2dXeteUABoSgRSAPBz8+fPlyQNHDjQa/qiRYv0wAMPSKr73Pzg4GCtWLFCWVlZcjqdioqKUmZmpqZNm9ZU3QCA8yKQAoCfs6y6v12tPufmd+zYMSCuagfQ8nAOKQAAAIxiDykAwJhOT6+84PwDszKaqBIAJhFIA0hdG+7moqX0EwAAnMEhewAAABhFIAUAAIBRBFIAAAAYRSAFAACAUQRSAAAAGEUgBQAAgFEEUgAAABhFIAUAAIBRBFIAAAAYRSAFAACAUQRSAAAAGEUgBQAAgFEEUgAAABhFIAUAAIBRBFIAAAAYRSAFAACAUSGmCwB8rdPTK02XUGcNB2ZlNFElAAD4P/aQAgAAwCgCKQAAAIwikAIAAMAoAikAAACMIpACAADAqBZ1lX2PKWtUWWU773yufAYAAGh67CEFAACAUQRSAAAAGEUgBQAAgFEEUgAAABhFIAUAAIBRBFIAAAAYRSAFAACAUQRSAAAAGEUgBQAAgFEEUgAAABhFIAUAAIBRLeq77AFf6PT0StMlAADQrLCHFAAAAEYRSAEAAGAUh+wBA+o67H9gVkYTVQIAgHnsIQUAAIBRBFIAAAAYRSAFAACAUT4PpLm5ubrhhhvUpk0btWvXTsOGDdPevXu92lRUVCg7O1tt27ZV69atNWLECJWWlvq6FAAAAAQAnwfSDRs2KDs7W5s3b1Z+fr7cbrfS0tJ04sQJT5vHHntMf//737V06VJt2LBBX331lYYPH+7rUgAAABAAfB5IV69erQceeEDdu3fXddddp9dee00lJSUqLi6WJB09elQLFy7UCy+8oFtvvVV9+/bVokWLtGnTJm3evNnX5QBAwNu4caPuvPNOJSQkyGazafny5V7zLcvS5MmTFR8fr8jISKWmpmrfvn1ebY4cOaJRo0bJbrcrJiZGo0eP1vHjx5uwFwBwfo1+DunRo0clSbGxsZKk4uJiud1upaametp06dJFiYmJKiwsbOxyACDgnDhxQtddd53y8vJqnT979my9+OKLWrBggYqKihQVFaX09HRVVFR42owaNUq7d+9Wfn6+VqxYoY0bN2rMmDFN1QUAuKBGvQ9pdXW1xo8fr/79+6tHjx6SJJfLpbCwMMXExHi1jYuLk8vlqnU9lZWVqqys9DwuLy+XJLndbrnd7jrrqGkTHmTVq52/Cg++cP11Lv//+1/XOLQEFxqLul4Hl/r/UB9N9VqseR5/f+37QiD3cciQIRoyZEit8yzL0ty5czVx4kQNHTpUkvT6668rLi5Oy5cv18iRI/Xxxx9r9erV2rp1q/r16ydJmjdvnm6//Xb9+te/VkJCQpP1BQBq06iBNDs7W7t27dL7779/SevJzc3V1KlTz5m+du1atWrVqt7rmd6v+oLzV61a1eDamtLsG32znrrGoSWpbSzqeh346v/hQpr6tZifn9+kz2fCyZMnTZfQKPbv3y+Xy+V11Ck6OlrJyckqLCzUyJEjVVhYqJiYGE8YlaTU1FQFBQWpqKhIP/rRj2pdd1PtDKjPOkwI5D/YArl2ifpN81X9DVm+0QLp2LFjPYeF2rdv75nucDh06tQplZWVee0lLS0tlcPhqHVdEyZMUE5OjudxeXm5OnTooLS0NNnt9jprcbvdys/P16RtQaqstp233a4p6fXomTk9pqy5pOXDgyxN71dd5zi0BBcai7peB5f6/1AfTfVarHlvDB48WKGhoU3ynKbUhKnmpubIUlxcnNf07x51crlcateundf8kJAQxcbGnvfIlNR0OwMuxB92FATyH2yBXLtE/aZdav0N2RHg80BqWZbGjRunZcuW6b333lNSUpLX/L59+yo0NFQFBQUaMWKEJGnv3r0qKSmR0+msdZ3h4eEKDw8/Z3poaGiDPkQrq22qrDp/EPP3D+QL1d6g9dQxDi1JbWNR1+ugKcauqV+LDX0vBaLm3r/G0FQ7Ay7E5I6CQP6DLZBrl6jfNF/V35AdAT4PpNnZ2Vq8eLH++te/qk2bNp6/vqOjoxUZGano6GiNHj1aOTk5io2Nld1u17hx4+R0OpWSkuLrcoAGq+t75gF/UnNkqbS0VPHx8Z7ppaWl6t27t6fNoUOHvJY7ffq0jhw5ct4jU1LT7Qy4EH/4MA/kP9gCuXaJ+k271PobsqzPr7KfP3++jh49qoEDByo+Pt7z8+c//9nTZs6cObrjjjs0YsQI3XLLLXI4HHr77bd9XQoANHtJSUlyOBwqKCjwTCsvL1dRUZHnqJPT6VRZWZnn9nuS9O6776q6ulrJyclNXjMAnK1RDtnXJSIiQnl5eee9hQkA4D+OHz+uTz/91PN4//792rFjh2JjY5WYmKjx48drxowZ6ty5s5KSkjRp0iQlJCRo2LBhkqSuXbvqtttu00MPPaQFCxbI7XZr7NixGjlyJFfYA/ALjXqVPQDg0m3btk0/+MEPPI9rzuvMzMzUa6+9pieffFInTpzQmDFjVFZWpgEDBmj16tWKiIjwLPPmm29q7NixGjRokIKCgjRixAi9+OKLTd4XAKgNgRQA/NzAgQMvePTJZrNp2rRpmjZt2nnbxMbGavHixY1RHgBcMgIp4IfqurDqwKyMJqoEAIDG1+hfHQoAAABcCIEUAAAARnHIHmiBak4JCA+2NPvGM98+dfZ9IjktAADQVNhDCgAAAKMIpAAAADCKQ/bfcalXNnNlNAAAQMOxhxQAAABGEUgBAABgFIEUAAAARhFIAQAAYBSBFAAAAEZxlT2AWnHXCABAU2EPKQAAAIwikAIAAMAoAikAAACMIpACAADAKAIpAAAAjOIq+ybEVcsAAADnYg8pAAAAjCKQAgAAwCgCKQAAAIziHFIAQLNV17n7EufvA/6AQAoACFj1CZwA/B+BFAhAfAgDAJoTAikAwG/xxxfQMnBREwAAAIxiD2kD8Jc6AACA77GHFAAAAEYRSAEAAGAUh+z9CKcEAACAlog9pAAAADCKQAoAAACjCKQAAAAwikAKAAAAowikAAAAMIqr7AFclLruCnFgVkYTVQIACHTsIQUAAIBRBFIAAAAYRSAFAACAUQRSAAAAGMVFTQCM4KIoAEANAikAoEU73x9H4cGWZt/YxMUALRSBFACAZo4jEvB3BFIAjaKuD0AAAGoQSAEAuIAeU9aossrWaOtvDnsn2QOLS2XsKvu8vDx16tRJERERSk5O1pYtW0yVAgAtBtteAP7IyB7SP//5z8rJydGCBQuUnJysuXPnKj09XXv37lW7du1MlATAz7DHxffY9gLwV0b2kL7wwgt66KGH9OCDD6pbt25asGCBWrVqpT/84Q8mygGAFoFtLwB/1eR7SE+dOqXi4mJNmDDBMy0oKEipqakqLCysdZnKykpVVlZ6Hh89elSSdOTIEbnd7jqf0+126+TJkwpxB6mquvHOA/J3IdWWTp6sbvHjIDEWNQJ5HA4fPtyg9seOHZMkWZbVGOX4Pba9DddU74+rf/mXC84vmjCoweusGfvDhw8rNDRUIadPNGoNda2/oe/Xs+sPNNR/RkO2u00eSL/55htVVVUpLi7Oa3pcXJz++c9/1rpMbm6upk6des70pKSkRqmxOfux6QL8CGNxRqCOw+W/ubjljh07pujoaN8WEwDY9l4cf3h/XOxr3Z9q8Ic+wJz6bHcD4ir7CRMmKCcnx/O4urpaR44cUdu2bWWz1f1Xa3l5uTp06KAvvvhCdru9MUv1a4zDfzAWZ7SkcbAsS8eOHVNCQoLpUgJGS9/2BnL9gVy7RP2m+ar+hmx3mzyQXn755QoODlZpaanX9NLSUjkcjlqXCQ8PV3h4uNe0mJiYBj+33W4PyBeGrzEO/8FYnNFSxqEl7hmtwbb34gVy/YFcu0T9pvmi/vpud5v8oqawsDD17dtXBQUFnmnV1dUqKCiQ0+ls6nIAoEVg2wvAnxk5ZJ+Tk6PMzEz169dPN954o+bOnasTJ07owQcfNFEOALQIbHsB+CsjgfSee+7R119/rcmTJ8vlcql3795avXr1OSfb+0p4eLieffbZcw49tTSMw38wFmcwDi0L296GCeT6A7l2ifpNM1G/zWqp90ABAACAXzD21aEAAACARCAFAACAYQRSAAAAGEUgBQAAgFHNPpDm5eWpU6dOioiIUHJysrZs2WK6pEaVm5urG264QW3atFG7du00bNgw7d2716tNRUWFsrOz1bZtW7Vu3VojRow452bZzc2sWbNks9k0fvx4z7SWNA5ffvmlfvKTn6ht27aKjIxUz549tW3bNs98y7I0efJkxcfHKzIyUqmpqdq3b5/BihHo/HXbu3HjRt15551KSEiQzWbT8uXLvebX571w5MgRjRo1Sna7XTExMRo9erSOHz/e6LX7avteUlKijIwMtWrVSu3atdMTTzyh06dPN3r98+fPV69evTw3W3c6nXrnnXcCovbaXOzniqk+TJkyRTabzeunS5cu/lO71YwtWbLECgsLs/7whz9Yu3fvth566CErJibGKi0tNV1ao0lPT7cWLVpk7dq1y9qxY4d1++23W4mJidbx48c9bX7xi19YHTp0sAoKCqxt27ZZKSkp1k033WSw6sa1ZcsWq1OnTlavXr2sRx991DO9pYzDkSNHrI4dO1oPPPCAVVRUZH322WfWmjVrrE8//dTTZtasWVZ0dLS1fPly6x//+If1wx/+0EpKSrK+/fZbg5UjUPnztnfVqlXWf/3Xf1lvv/22JclatmyZ1/z6vBduu+0267rrrrM2b95s/e///q919dVXW/fee2+j1+6L7fvp06etHj16WKmpqdb27dutVatWWZdffrk1YcKERq//b3/7m7Vy5Urrk08+sfbu3Ws988wzVmhoqLVr1y6/r/1sF/u5YrIPzz77rNW9e3fr4MGDnp+vv/7ab2pv1oH0xhtvtLKzsz2Pq6qqrISEBCs3N9dgVU3r0KFDliRrw4YNlmVZVllZmRUaGmotXbrU0+bjjz+2JFmFhYWmymw0x44dszp37mzl5+db3//+9z0bjpY0Dk899ZQ1YMCA886vrq62HA6H9atf/cozrayszAoPD7f+9Kc/NUWJaGYCZdt7diCtz3thz549liRr69atnjbvvPOOZbPZrC+//LLJaresi9u+r1q1ygoKCrJcLpenzfz58y273W5VVlY2af2WZVmXXXaZ9fvf/z6gar+UzxWTfXj22Wet6667rtZ5/lB7sz1kf+rUKRUXFys1NdUzLSgoSKmpqSosLDRYWdM6evSoJCk2NlaSVFxcLLfb7TUuXbp0UWJiYrMcl+zsbGVkZHj1V2pZ4/C3v/1N/fr101133aV27dqpT58+evXVVz3z9+/fL5fL5TUW0dHRSk5ObnZjgcYXyNve+rwXCgsLFRMTo379+nnapKamKigoSEVFRU1a78Vs3wsLC9WzZ0+vL0NIT09XeXm5du/e3WS1V1VVacmSJTpx4oScTmdA1X4pnyum+7Bv3z4lJCToe9/7nkaNGqWSkhK/qd3INzU1hW+++UZVVVXnfANJXFyc/vnPfxqqqmlVV1dr/Pjx6t+/v3r06CFJcrlcCgsLU0xMjFfbuLg4uVwuA1U2niVLlujDDz/U1q1bz5nXksbhs88+0/z585WTk6NnnnlGW7du1SOPPKKwsDBlZmZ6+lvbe6W5jQUaXyBve+vzXnC5XGrXrp3X/JCQEMXGxjbp++Vit+8ul6vW/tXMa2w7d+6U0+lURUWFWrdurWXLlqlbt27asWOH39cuXfrnisk+JCcn67XXXtO1116rgwcPaurUqbr55pu1a9cuv6i92QZSnPkrbteuXXr//fdNl9LkvvjiCz366KPKz89XRESE6XKMqq6uVr9+/TRz5kxJUp8+fbRr1y4tWLBAmZmZhqsDcDECdft+7bXXaseOHTp69KjeeustZWZmasOGDabLqpdA/1wZMmSI5/devXopOTlZHTt21F/+8hdFRkYarOyMZnvI/vLLL1dwcPA5V4iVlpbK4XAYqqrpjB07VitWrND69evVvn17z3SHw6FTp06prKzMq31zG5fi4mIdOnRI119/vUJCQhQSEqINGzboxRdfVEhIiOLi4lrEOEhSfHy8unXr5jWta9eunkM1Nf1tqe8V+FYgb3vr815wOBw6dOiQ1/zTp0/ryJEjTda/S9m+OxyOWvtXM6+xhYWF6eqrr1bfvn2Vm5ur6667Tr/97W8DonZffK6Y7sN3xcTE6JprrtGnn37qF+PfbANpWFiY+vbtq4KCAs+06upqFRQUyOl0GqyscVmWpbFjx2rZsmV69913lZSU5DW/b9++Cg0N9RqXvXv3qqSkpFmNy6BBg7Rz507t2LHD89OvXz+NGjXK83tLGAdJ6t+//zm3hvnkk0/UsWNHSVJSUpIcDofXWJSXl6uoqKjZjQUaXyBve+vzXnA6nSorK1NxcbGnzbvvvqvq6molJyc3an2+2L47nU7t3LnTK1Tn5+fLbref84drU6iurlZlZWVA1O6LzxXTffiu48eP61//+pfi4+P9Y/wv+bIoP7ZkyRIrPDzceu2116w9e/ZYY8aMsWJiYryuEGtusrKyrOjoaOu9997zurXDyZMnPW1+8YtfWImJida7775rbdu2zXI6nZbT6TRYddP47tWQltVyxmHLli1WSEiI9dxzz1n79u2z3nzzTatVq1bWH//4R0+bWbNmWTExMdZf//pX66OPPrKGDh3KbZ9w0fx523vs2DFr+/bt1vbt2y1J1gsvvGBt377d+vzzzy3Lqt974bbbbrP69OljFRUVWe+//77VuXPnJrntky+27zW37klLS7N27NhhrV692rriiiua5LZDTz/9tLVhwwZr//791kcffWQ9/fTTls1ms9auXev3tZ9PQz9XTPbh8ccft9577z1r//791gcffGClpqZal19+uXXo0CG/qL1ZB1LLsqx58+ZZiYmJVlhYmHXjjTdamzdvNl1So5JU68+iRYs8bb799lvr4Ycfti677DKrVatW1o9+9CPr4MGD5opuImdvOFrSOPz973+3evToYYWHh1tdunSxXnnlFa/51dXV1qRJk6y4uDgrPDzcGjRokLV3715D1aI58Ndt7/r162vdRmZmZlqWVb/3wuHDh617773Xat26tWW3260HH3zQOnbsWKPX7qvt+4EDB6whQ4ZYkZGR1uWXX249/vjjltvtbvT6f/rTn1odO3a0wsLCrCuuuMIaNGiQJ4z6e+3nczGfK6b6cM8991jx8fFWWFiYdeWVV1r33HOP1/2oTddusyzLuvT9rAAAAMDFabbnkAIAACAwEEgBAABgFIEUAAAARhFIAQAAYBSBFAAAAEYRSAEAAGAUgRQAAABGEUgBAABgFIEUAAAARhFIAQAAYBSBFAAAAEYRSAEAAGDU/wNBLvLxFtSH7gAAAABJRU5ErkJggg==",
>>>>>>> 6c701644f6cc21bda7b47781abc6d3b67cf0b0d2
      "text/plain": [
       "<Figure size 800x400 with 2 Axes>"
      ]
     },
     "metadata": {},
     "output_type": "display_data"
    }
   ],
   "source": [
    "# let's explore the distribution of age\n",
    "X_train[['age', 'fare']].hist(bins=30, figsize=(8,4))\n",
    "plt.show()"
   ]
  },
  {
   "cell_type": "markdown",
   "metadata": {},
   "source": [
    "## Equal frequency discretization with pandas\n",
    "\n",
    "The interval limits are the quantile limits. We can find those out with pandas qcut."
   ]
  },
  {
   "cell_type": "code",
   "execution_count": 7,
   "metadata": {},
   "outputs": [
    {
     "data": {
      "text/html": [
       "<div>\n",
       "<style scoped>\n",
       "    .dataframe tbody tr th:only-of-type {\n",
       "        vertical-align: middle;\n",
       "    }\n",
       "\n",
       "    .dataframe tbody tr th {\n",
       "        vertical-align: top;\n",
       "    }\n",
       "\n",
       "    .dataframe thead th {\n",
       "        text-align: right;\n",
       "    }\n",
       "</style>\n",
       "<table border=\"1\" class=\"dataframe\">\n",
       "  <thead>\n",
       "    <tr style=\"text-align: right;\">\n",
       "      <th></th>\n",
       "      <th>age</th>\n",
       "      <th>age</th>\n",
       "    </tr>\n",
       "  </thead>\n",
       "  <tbody>\n",
       "    <tr>\n",
       "      <th>501</th>\n",
       "      <td>(0.166, 16.0]</td>\n",
       "      <td>13.0</td>\n",
       "    </tr>\n",
       "    <tr>\n",
       "      <th>588</th>\n",
       "      <td>(0.166, 16.0]</td>\n",
       "      <td>4.0</td>\n",
       "    </tr>\n",
       "    <tr>\n",
       "      <th>402</th>\n",
       "      <td>(28.0, 31.0]</td>\n",
       "      <td>30.0</td>\n",
       "    </tr>\n",
       "    <tr>\n",
       "      <th>1193</th>\n",
       "      <td>(36.0, 42.0]</td>\n",
       "      <td>40.5</td>\n",
       "    </tr>\n",
       "    <tr>\n",
       "      <th>686</th>\n",
       "      <td>(20.0, 22.0]</td>\n",
       "      <td>22.0</td>\n",
       "    </tr>\n",
       "    <tr>\n",
       "      <th>971</th>\n",
       "      <td>(36.0, 42.0]</td>\n",
       "      <td>39.0</td>\n",
       "    </tr>\n",
       "    <tr>\n",
       "      <th>117</th>\n",
       "      <td>(28.0, 31.0]</td>\n",
       "      <td>30.0</td>\n",
       "    </tr>\n",
       "    <tr>\n",
       "      <th>540</th>\n",
       "      <td>(0.166, 16.0]</td>\n",
       "      <td>2.0</td>\n",
       "    </tr>\n",
       "    <tr>\n",
       "      <th>294</th>\n",
       "      <td>(42.0, 50.0]</td>\n",
       "      <td>49.0</td>\n",
       "    </tr>\n",
       "    <tr>\n",
       "      <th>261</th>\n",
       "      <td>(31.0, 36.0]</td>\n",
       "      <td>35.0</td>\n",
       "    </tr>\n",
       "  </tbody>\n",
       "</table>\n",
       "</div>"
      ],
      "text/plain": [
       "                age   age\n",
       "501   (0.166, 16.0]  13.0\n",
       "588   (0.166, 16.0]   4.0\n",
       "402    (28.0, 31.0]  30.0\n",
       "1193   (36.0, 42.0]  40.5\n",
       "686    (20.0, 22.0]  22.0\n",
       "971    (36.0, 42.0]  39.0\n",
       "117    (28.0, 31.0]  30.0\n",
       "540   (0.166, 16.0]   2.0\n",
       "294    (42.0, 50.0]  49.0\n",
       "261    (31.0, 36.0]  35.0"
      ]
     },
     "execution_count": 7,
     "metadata": {},
     "output_type": "execute_result"
    }
   ],
   "source": [
    "# let's use pandas qcut (quantile cut) and I indicate that\n",
    "# we want 10 bins.\n",
    "\n",
    "# retbins = True indicates that I want to capture the limits\n",
    "# of each interval (so I can then use them to cut the test set)\n",
<<<<<<< HEAD
    "Age_disccretised, intervals = pd.qcut(\n",
=======
    "\n",
    "Age_disccretised, bins = pd.qcut(\n",
>>>>>>> 6c701644f6cc21bda7b47781abc6d3b67cf0b0d2
    "    X_train['age'], 10, labels=None, retbins=True, precision=3, duplicates='raise')\n",
    "\n",
    "pd.concat([Age_disccretised, X_train['age']], axis=1).head(10)"
   ]
  },
  {
   "cell_type": "markdown",
   "metadata": {},
   "source": [
    "We can see in the above output how by discretising using quantiles, we placed each Age observation within one interval. For example, age 30 was placed in the 28-31 interval, whereas age 49 was placed into the 42-50 interval. \n",
    "\n",
    "Note how the interval widths are different.\n",
    "\n",
    "We can visualise the interval cut points below:"
   ]
  },
  {
   "cell_type": "code",
   "execution_count": 8,
   "metadata": {
    "scrolled": false
   },
   "outputs": [
    {
     "data": {
      "text/plain": [
       "array([ 0.1667, 16.    , 20.    , 22.    , 25.    , 28.    , 31.    ,\n",
       "       36.    , 42.    , 50.    , 74.    ])"
      ]
     },
     "execution_count": 8,
     "metadata": {},
     "output_type": "execute_result"
    }
   ],
   "source": [
    "bins"
   ]
  },
  {
   "cell_type": "markdown",
   "metadata": {},
   "source": [
    "And because we generated the bins using the quantile cut method, we should have roughly the same amount of observations per bin. See below."
   ]
  },
  {
   "cell_type": "code",
   "execution_count": 9,
   "metadata": {},
   "outputs": [
    {
     "data": {
      "text/plain": [
       "age\n",
       "(0.166, 16.0]    106\n",
       "(31.0, 36.0]     106\n",
       "(16.0, 20.0]      92\n",
       "(22.0, 25.0]      92\n",
       "(25.0, 28.0]      92\n",
       "(28.0, 31.0]      90\n",
       "(42.0, 50.0]      90\n",
       "(36.0, 42.0]      85\n",
       "(20.0, 22.0]      82\n",
       "(50.0, 74.0]      81\n",
       "Name: count, dtype: int64"
      ]
     },
     "execution_count": 9,
     "metadata": {},
     "output_type": "execute_result"
    }
   ],
   "source": [
    "# roughly the same number of passengers per interval\n",
    "Age_disccretised.value_counts()"
   ]
  },
  {
   "cell_type": "code",
   "execution_count": 10,
   "metadata": {},
   "outputs": [
    {
     "data": {
      "text/plain": [
       "['Q1', 'Q2', 'Q3', 'Q4', 'Q5', 'Q6', 'Q7', 'Q8', 'Q9', 'Q10']"
      ]
     },
     "execution_count": 10,
     "metadata": {},
     "output_type": "execute_result"
    }
   ],
   "source": [
    "# we can also add labels instead of having the interval boundaries,\n",
    "# to the bins, as follows:\n",
    "labels = [\"Q\" + str(i) for i in range(1, 11)]\n",
    "labels"
   ]
  },
  {
   "cell_type": "code",
   "execution_count": 11,
   "metadata": {
    "scrolled": true
   },
   "outputs": [
    {
     "data": {
      "text/plain": [
       "501     Q1\n",
       "588     Q1\n",
       "402     Q6\n",
       "1193    Q8\n",
       "686     Q3\n",
       "Name: age, dtype: category\n",
       "Categories (10, object): ['Q1' < 'Q2' < 'Q3' < 'Q4' ... 'Q7' < 'Q8' < 'Q9' < 'Q10']"
      ]
     },
     "execution_count": 11,
     "metadata": {},
     "output_type": "execute_result"
    }
   ],
   "source": [
    "Age_disccretised, bins = pd.qcut(X_train['age'], 10, labels=labels,\n",
    "                                      retbins=True,\n",
    "                                      precision=3, duplicates='raise')\n",
    "\n",
    "Age_disccretised.head()"
   ]
  },
  {
   "cell_type": "code",
   "execution_count": 12,
   "metadata": {},
   "outputs": [
    {
     "data": {
      "text/plain": [
       "array([-inf,  16.,  20.,  22.,  25.,  28.,  31.,  36.,  42.,  50.,  inf])"
      ]
     },
     "execution_count": 12,
     "metadata": {},
     "output_type": "execute_result"
    }
   ],
   "source": [
    "# to apply the intervals to the test set, we need to extend\n",
    "# the limits of the outer bins to -inf and +inf, so that if\n",
    "# in the test set, there are smaller or bigger values than the \n",
    "# minimum or maximum values in the train set, they can be \n",
    "# accomodated in the outer intervals. \n",
    "# Otherwise, they will be replaced by NaN.\n",
    "\n",
    "# Prepend/Append infinities to accommodate outliers\n",
    "bins[0] = float(\"-inf\")\n",
    "bins[len(bins) - 1] = float(\"inf\")\n",
    "\n",
    "bins"
   ]
  },
  {
   "cell_type": "code",
   "execution_count": 13,
   "metadata": {},
   "outputs": [
    {
     "data": {
      "text/html": [
       "<div>\n",
       "<style scoped>\n",
       "    .dataframe tbody tr th:only-of-type {\n",
       "        vertical-align: middle;\n",
       "    }\n",
       "\n",
       "    .dataframe tbody tr th {\n",
       "        vertical-align: top;\n",
       "    }\n",
       "\n",
       "    .dataframe thead th {\n",
       "        text-align: right;\n",
       "    }\n",
       "</style>\n",
       "<table border=\"1\" class=\"dataframe\">\n",
       "  <thead>\n",
       "    <tr style=\"text-align: right;\">\n",
       "      <th></th>\n",
       "      <th>age</th>\n",
       "      <th>fare</th>\n",
       "      <th>Age_disc_label</th>\n",
       "      <th>Age_disc</th>\n",
       "    </tr>\n",
       "  </thead>\n",
       "  <tbody>\n",
       "    <tr>\n",
       "      <th>1139</th>\n",
       "      <td>38.0</td>\n",
       "      <td>7.8958</td>\n",
       "      <td>Q8</td>\n",
       "      <td>(36.0, 42.0]</td>\n",
       "    </tr>\n",
       "    <tr>\n",
       "      <th>533</th>\n",
       "      <td>21.0</td>\n",
       "      <td>21.0000</td>\n",
       "      <td>Q3</td>\n",
       "      <td>(20.0, 22.0]</td>\n",
       "    </tr>\n",
       "    <tr>\n",
       "      <th>459</th>\n",
       "      <td>42.0</td>\n",
       "      <td>27.0000</td>\n",
       "      <td>Q8</td>\n",
       "      <td>(36.0, 42.0]</td>\n",
       "    </tr>\n",
       "    <tr>\n",
       "      <th>1150</th>\n",
       "      <td>3.0</td>\n",
       "      <td>14.5000</td>\n",
       "      <td>Q1</td>\n",
       "      <td>(-inf, 16.0]</td>\n",
       "    </tr>\n",
       "    <tr>\n",
       "      <th>393</th>\n",
       "      <td>25.0</td>\n",
       "      <td>31.5000</td>\n",
       "      <td>Q4</td>\n",
       "      <td>(22.0, 25.0]</td>\n",
       "    </tr>\n",
       "    <tr>\n",
       "      <th>1189</th>\n",
       "      <td>4.0</td>\n",
       "      <td>16.7000</td>\n",
       "      <td>Q1</td>\n",
       "      <td>(-inf, 16.0]</td>\n",
       "    </tr>\n",
       "    <tr>\n",
       "      <th>5</th>\n",
       "      <td>48.0</td>\n",
       "      <td>26.5500</td>\n",
       "      <td>Q9</td>\n",
       "      <td>(42.0, 50.0]</td>\n",
       "    </tr>\n",
       "    <tr>\n",
       "      <th>231</th>\n",
       "      <td>52.0</td>\n",
       "      <td>30.5000</td>\n",
       "      <td>Q10</td>\n",
       "      <td>(50.0, inf]</td>\n",
       "    </tr>\n",
       "    <tr>\n",
       "      <th>330</th>\n",
       "      <td>57.0</td>\n",
       "      <td>13.0000</td>\n",
       "      <td>Q10</td>\n",
       "      <td>(50.0, inf]</td>\n",
       "    </tr>\n",
       "    <tr>\n",
       "      <th>887</th>\n",
       "      <td>31.0</td>\n",
       "      <td>8.1125</td>\n",
       "      <td>Q6</td>\n",
       "      <td>(28.0, 31.0]</td>\n",
       "    </tr>\n",
       "  </tbody>\n",
       "</table>\n",
       "</div>"
      ],
      "text/plain": [
       "       age     fare Age_disc_label      Age_disc\n",
       "1139  38.0   7.8958             Q8  (36.0, 42.0]\n",
       "533   21.0  21.0000             Q3  (20.0, 22.0]\n",
       "459   42.0  27.0000             Q8  (36.0, 42.0]\n",
       "1150   3.0  14.5000             Q1  (-inf, 16.0]\n",
       "393   25.0  31.5000             Q4  (22.0, 25.0]\n",
       "1189   4.0  16.7000             Q1  (-inf, 16.0]\n",
       "5     48.0  26.5500             Q9  (42.0, 50.0]\n",
       "231   52.0  30.5000            Q10   (50.0, inf]\n",
       "330   57.0  13.0000            Q10   (50.0, inf]\n",
       "887   31.0   8.1125             Q6  (28.0, 31.0]"
      ]
     },
     "execution_count": 13,
     "metadata": {},
     "output_type": "execute_result"
    }
   ],
   "source": [
    "# to transform the test set:\n",
    "# we use pandas cut method (instead of qcut) and\n",
    "# pass the quantile edges calculated in the training set\n",
    "\n",
<<<<<<< HEAD
    "X_test['Age_disc_label'] = pd.cut(x = X_test['age'],\n",
    "                                  bins=intervals, \n",
    "                                  labels=labels)\n",
    "\n",
    "X_test['Age_disc'] = pd.cut(x = X_test['age'], bins=intervals)\n",
=======
    "X_test['Age_disc_label'] = pd.cut(x = X_test['age'], bins=bins, labels=labels)\n",
    "X_test['Age_disc'] = pd.cut(x = X_test['age'], bins=bins)\n",
>>>>>>> 6c701644f6cc21bda7b47781abc6d3b67cf0b0d2
    "\n",
    "X_test.head(10)"
   ]
  },
  {
   "cell_type": "code",
   "execution_count": 14,
   "metadata": {},
   "outputs": [
    {
     "data": {
      "text/plain": [
       "0"
      ]
     },
     "execution_count": 14,
     "metadata": {},
     "output_type": "execute_result"
    }
   ],
   "source": [
    "X_test['Age_disc_label'].isnull().sum()"
   ]
  },
  {
   "cell_type": "code",
   "execution_count": 15,
   "metadata": {},
   "outputs": [
    {
     "data": {
      "text/plain": [
       "<Axes: xlabel='Age_disc'>"
      ]
     },
     "execution_count": 15,
     "metadata": {},
     "output_type": "execute_result"
    },
    {
     "data": {
<<<<<<< HEAD
      "image/png": "iVBORw0KGgoAAAANSUhEUgAAAX4AAAEfCAYAAABGcq0DAAAAOXRFWHRTb2Z0d2FyZQBNYXRwbG90bGliIHZlcnNpb24zLjYuMiwgaHR0cHM6Ly9tYXRwbG90bGliLm9yZy8o6BhiAAAACXBIWXMAAAsTAAALEwEAmpwYAAAtDklEQVR4nO3dedgcVZn+8e+dhERAQZaISsBEQcaAiBpwBRWGXQkqyKIsbqCCg4MbKiKijiwOoBIcoggIsg0jQ5QgLjiKDvJLRAEjIgGRBEYJq4KEkOT5/fGcJkX7knTet6u7Sd2f63qvdFVXVT+pqn666pxT5ygiMDOz5hjV7wDMzKy3nPjNzBrGid/MrGGc+M3MGsaJ38ysYZz4zcwaZky/A2i3/vrrx8SJE/sdhpnZU8qvfvWreyJifCfLDlzinzhxIrNnz+53GGZmTymS/tTpsi7qMTNrGCd+M7OGceI3M2sYJ34zs4Zx4jczaxgnfjOzhnHiNzNrGCd+M7OGGbgHuDox8ajLR7yN24/fvQuRmJk99fiK38ysYZz4zcwapqPEL2kXSTdLmivpqCHe307SdZIWS9qr7b2NJf1A0k2SfidpYpdiNzOzYVhh4pc0GpgG7ApMBvaTNLltsTuAg4Hzh9jEt4CTIuJFwDbA3SMJ2MzMRqaTyt1tgLkRcRuApAuBqcDvWgtExO3lvaXVFcsPxJiI+GFZ7qHuhG1mZsPVSVHPhsC8yvT8Mq8TLwQekPQdSb+WdFK5gzAzsz6pu3J3DLAt8BFga+D5ZJHQE0g6RNJsSbMXLFhQc0hmZs3WSeK/E9ioMj2hzOvEfOA3EXFbRCwG/ht4WftCETE9IqZExJTx4zsaQMbMzIapk8Q/C9hU0iRJY4F9gRkdbn8W8ExJrWy+PZW6ATMz670VJv5ypX44cCVwE3BxRMyRdJykPQAkbS1pPrA3cIakOWXdJWQxz48l3QgI+Ho9/xUzM+tER102RMRMYGbbvGMqr2eRRUBDrftDYMsRxGhmZl3kJ3fNzBrGid/MrGGc+M3MGsaJ38ysYZz4zcwaxonfzKxhnPjNzBrGid/MrGGc+M3MGsaJ38ysYZz4zcwaxonfzKxhnPjNzBrGid/MrGGc+M3MGsaJ38ysYTpK/JJ2kXSzpLmSjhri/e0kXSdpsaS9hnh/LUnzJZ3WjaDNzGz4Vpj4JY0GpgG7ApOB/SRNblvsDuBg4Pwn2czngJ8NP0wzM+uWTq74twHmRsRtEbEIuBCYWl0gIm6PiBuApe0rS3o5sAHwgy7Ea2ZmI9RJ4t8QmFeZnl/mrZCkUcC/kwOum5nZAKi7cvcDwMyImL+8hSQdImm2pNkLFiyoOSQzs2Yb08EydwIbVaYnlHmdeBWwraQPAE8Hxkp6KCKeUEEcEdOB6QBTpkyJDrdtZmbD0EninwVsKmkSmfD3BfbvZOMR8fbWa0kHA1Pak76ZmfXWCot6ImIxcDhwJXATcHFEzJF0nKQ9ACRtLWk+sDdwhqQ5dQZtZmbD18kVPxExE5jZNu+YyutZZBHQ8rZxNnD2SkdoZmZd5Sd3zcwaxonfzKxhnPjNzBrGid/MrGGc+M3MGsaJ38ysYZz4zcwaxonfzKxhnPjNzBrGid/MrGGc+M3MGsaJ38ysYZz4zcwaxonfzKxhnPjNzBrGid/MrGE6SvySdpF0s6S5kv5h6ERJ20m6TtJiSXtV5m8l6RpJcyTdIGmfbgZvZmYrb4UjcEkaDUwDdgTmA7MkzYiI31UWuwM4GPhI2+p/Bw6MiFskPRf4laQrI+KBbgRvZkObeNTlI1r/9uN371IkNog6GXpxG2BuRNwGIOlCYCrweOKPiNvLe0urK0bEHyqv75J0NzAeeGCkgZuZ2fB0UtSzITCvMj2/zFspkrYBxgK3ruy6ZmbWPT2p3JX0HOBc4J0RsXSI9w+RNFvS7AULFvQiJDOzxuok8d8JbFSZnlDmdUTSWsDlwKci4pdDLRMR0yNiSkRMGT9+fKebNjOzYegk8c8CNpU0SdJYYF9gRicbL8tfCnwrIi4ZfphmZtYtK0z8EbEYOBy4ErgJuDgi5kg6TtIeAJK2ljQf2Bs4Q9KcsvrbgO2AgyX9pvxtVcd/xMzMOtNJqx4iYiYws23eMZXXs8gioPb1zgPOG2GMZmbWRX5y18ysYZz4zcwaxonfzKxhnPjNzBrGid/MrGE6atVj/2iknWCBO8Iys/7wFb+ZWcM48ZuZNYyLemzEXOxl9tTiK34zs4Zx4jczaxgnfjOzhnHiNzNrGCd+M7OGceI3M2sYJ34zs4bpKPFL2kXSzZLmSjpqiPe3k3SdpMWS9mp77yBJt5S/g7oVuJmZDc8KE7+k0cA0YFdgMrCfpMlti90BHAyc37buusBngFcA2wCfkbTOyMM2M7Ph6uSKfxtgbkTcFhGLgAuBqdUFIuL2iLgBWNq27s7ADyPivoi4H/ghsEsX4jYzs2HqJPFvCMyrTM8v8zoxknXNzKwGA1G5K+kQSbMlzV6wYEG/wzEzW6V1kvjvBDaqTE8o8zrR0boRMT0ipkTElPHjx3e4aTMzG45OEv8sYFNJkySNBfYFZnS4/SuBnSStUyp1dyrzzMysT1aY+CNiMXA4mbBvAi6OiDmSjpO0B4CkrSXNB/YGzpA0p6x7H/A58sdjFnBcmWdmZn3SUX/8ETETmNk275jK61lkMc5Q634T+OYIYjQzsy4aiMpdMzPrHSd+M7OGceI3M2sYJ34zs4Zx4jczaxgnfjOzhumoOaeZmQ3fxKMuH/E2bj9+9y5EknzFb2bWME78ZmYN46IeM6vFoBVv2DK+4jczaxgnfjOzhnFRj1kXuXjDngp8xW9m1jBO/GZmDeOiHjNbpY20+G1VLHrr6Ipf0i6SbpY0V9JRQ7w/TtJF5f1rJU0s81eTdI6kGyXdJOkTXY7fzMxW0goTv6TRwDRgV2AysJ+kyW2LvRu4PyI2AU4BTijz9wbGRcSLgZcDh7Z+FMzMrD86ueLfBpgbEbdFxCLgQmBq2zJTgXPK60uAHSQJCGBNSWOA1YFFwF+7ErmZmQ1LJ4l/Q2BeZXp+mTfkMmVw9geB9cgfgYeB/wPuAL7kwdbNzPqr7lY92wBLgOcCk4APS3p++0KSDpE0W9LsBQsW1BySmVmzdZL47wQ2qkxPKPOGXKYU66wN3AvsD3w/Ih6LiLuBXwBT2j8gIqZHxJSImDJ+/PiV/1+YmVnHOkn8s4BNJU2SNBbYF5jRtswM4KDyei/gqogIsnhnewBJawKvBH7fjcDNzGx4Vpj4S5n94cCVwE3AxRExR9JxkvYoi50JrCdpLnAk0GryOQ14uqQ55A/IWRFxQ7f/E2Zm1rmOHuCKiJnAzLZ5x1ReLySbbrav99BQ883MrH/cZYOZWcM48ZuZNYwTv5lZw7iTtqc49/9uZivLV/xmZg3jxG9m1jBO/GZmDePEb2bWME78ZmYN48RvZtYwTvxmZg3jxG9m1jBO/GZmDeMnd22VMdKnmP0EszWFr/jNzBrGid/MrGGc+M3MGqajxC9pF0k3S5or6agh3h8n6aLy/rWSJlbe21LSNZLmSLpR0tO6GL+Zma2kFSZ+SaPJsXN3BSYD+0ma3LbYu4H7I2IT4BTghLLuGOA84H0RsTnweuCxrkVvZmYrrZMr/m2AuRFxW0QsAi4EprYtMxU4p7y+BNhBkoCdgBsi4nqAiLg3IpZ0J3QzMxuOThL/hsC8yvT8Mm/IZSJiMfAgsB7wQiAkXSnpOkkfG+oDJB0iabak2QsWLFjZ/4OZma2Euit3xwCvBd5e/n2zpB3aF4qI6RExJSKmjB8/vuaQzMyarZPEfyewUWV6Qpk35DKlXH9t4F7y7uBnEXFPRPwdmAm8bKRBm5nZ8HWS+GcBm0qaJGkssC8wo22ZGcBB5fVewFUREcCVwIslrVF+EF4H/K47oZuZ2XCssMuGiFgs6XAyiY8GvhkRcyQdB8yOiBnAmcC5kuYC95E/DkTE/ZJOJn88ApgZESMfHdzMzIato756ImImWUxTnXdM5fVCYO8nWfc8skmnmZkNAD+5a2bWME78ZmYN48RvZtYwTvxmZg3jxG9m1jBO/GZmDePEb2bWME78ZmYN48RvZtYwTvxmZg3jxG9m1jBO/GZmDePEb2bWME78ZmYN48RvZtYwTvxmZg3TUeKXtIukmyXNlXTUEO+Pk3RRef9aSRPb3t9Y0kOSPtKluM3MbJhWmPgljQamAbsCk4H9JE1uW+zdwP0RsQlwCnBC2/snA1eMPFwzMxupTq74twHmRsRtEbEIuBCY2rbMVOCc8voSYAdJApC0J/BHYE5XIjYzsxHpJPFvCMyrTM8v84ZcJiIWAw8C60l6OvBx4LPL+wBJh0iaLWn2ggULOo3dzMyGoe7K3WOBUyLioeUtFBHTI2JKREwZP358zSGZmTXbmA6WuRPYqDI9ocwbapn5ksYAawP3Aq8A9pJ0IvBMYKmkhRFx2kgDNzOz4ekk8c8CNpU0iUzw+wL7ty0zAzgIuAbYC7gqIgLYtrWApGOBh5z0zcz6a4WJPyIWSzocuBIYDXwzIuZIOg6YHREzgDOBcyXNBe4jfxzMzGwAdXLFT0TMBGa2zTum8nohsPcKtnHsMOIzM7Mu85O7ZmYN48RvZtYwTvxmZg3jxG9m1jBO/GZmDePEb2bWME78ZmYN48RvZtYwTvxmZg3jxG9m1jBO/GZmDePEb2bWME78ZmYN48RvZtYwTvxmZg3jxG9m1jAdJX5Ju0i6WdJcSUcN8f44SReV96+VNLHM31HSryTdWP7dvsvxm5nZSlph4pc0GpgG7ApMBvaTNLltsXcD90fEJsApwAll/j3AmyLixeSYvOd2K3AzMxueTq74twHmRsRtEbEIuBCY2rbMVOCc8voSYAdJiohfR8RdZf4cYHVJ47oRuJmZDU8niX9DYF5len6ZN+QyEbEYeBBYr22ZtwLXRcSj7R8g6RBJsyXNXrBgQaexm5nZMPSkclfS5mTxz6FDvR8R0yNiSkRMGT9+fC9CMjNrrE4S/53ARpXpCWXekMtIGgOsDdxbpicAlwIHRsStIw3YzMxGppPEPwvYVNIkSWOBfYEZbcvMICtvAfYCroqIkPRM4HLgqIj4RZdiNjOzEVhh4i9l9ocDVwI3ARdHxBxJx0naoyx2JrCepLnAkUCryefhwCbAMZJ+U/6e1fX/hZmZdWxMJwtFxExgZtu8YyqvFwJ7D7He54HPjzBGMzPrIj+5a2bWME78ZmYN48RvZtYwTvxmZg3jxG9m1jBO/GZmDePEb2bWME78ZmYN48RvZtYwTvxmZg3jxG9m1jBO/GZmDePEb2bWME78ZmYN48RvZtYwTvxmZg3TUeKXtIukmyXNlXTUEO+Pk3RRef9aSRMr732izL9Z0s5djN3MzIZhhYlf0mhgGrArMBnYT9LktsXeDdwfEZsApwAnlHUnk2P0bg7sApxetmdmZn3SyRX/NsDciLgtIhYBFwJT25aZCpxTXl8C7CBJZf6FEfFoRPwRmFu2Z2ZmfaKIWP4C0l7ALhHxnjJ9APCKiDi8ssxvyzLzy/StwCuAY4FfRsR5Zf6ZwBURcUnbZxwCHFImNwNuHuH/a33gnhFuoxsGIY5BiAEGI45BiAEGI45BiAEGI45BiAFGHsfzImJ8Jwt2NNh63SJiOjC9W9uTNDsipnRre0/lOAYhhkGJYxBiGJQ4BiGGQYljEGLodRydFPXcCWxUmZ5Q5g25jKQxwNrAvR2ua2ZmPdRJ4p8FbCppkqSxZGXtjLZlZgAHldd7AVdFliHNAPYtrX4mAZsC/687oZuZ2XCssKgnIhZLOhy4EhgNfDMi5kg6DpgdETOAM4FzJc0F7iN/HCjLXQz8DlgMHBYRS2r6v1R1rdhohAYhjkGIAQYjjkGIAQYjjkGIAQYjjkGIAXoYxword83MbNXiJ3fNzBrGid/MrGGc+M3MnqIkrT6c9Zz4KyR9UdIL+x1Hi6R/lbS7Y9DnJb2rnzGUOAZhXxwoaRDanPc9jkGIoZ9xSDoPOFHSeiu7rhN/IekjwBHALyS9aADi+Rj5NPNUSXs0OIb3kv08vam87osB2RdfBD4H7Cmpb12fDEIcgxBDP+MoHV6OByYCh69s8nfiX+aCiFgD+AzwswFI/j8AtgeuJpNee/9ITYnhh8B2ZOd/byzde/TDIOyL75M/ggvJRPOKPsQwKHEMQgx9iUPSNOCvEbEz+fzUK4EPrkzyb3zil7ShpAkRcSdARJwOnESfkr+kfypPP98QEf9HJprZZNLrSbIZkBheLml9YH5E/B24AfgPYLdeJv8B2Retp99/FhE3Ad8DlgJ79DLhDUIcgxBDP+Mofae9LiKukfTCiLiPvBPdmpVI/gPRV0+/lIfLng6sL+kS4KsR8UhEnJidi/IzSduVA9uLeM4EXgjMAR6SdHRE3C5pZlnkjZKIiMtW8Ri+CbyoxLCOpHdExAOSflEWObTEUOsDLwOyL84Ani/pZuAmSV+PiN9IWgLsQyYaIuLaumIYlDgGIYYBiOOnwC8l3UDebXwsIuZJej/wNTL5fzUi7l3eRhp7xS9pP2CtiNgNOBjYHfiYpOcARMSJwInAT3tx5S/pnWTPpDsAZwNPAy6T9LSImAdcTs1XmgMSw17AZhHxKuBjwN3ALEmrR8RfgZ8DZ5BX/ofWEUOJYxD2xQdLDG8FriV/hL4qaVxE3Eh2kR7Uf5XZ9zgGIYYBieMRcnyTMeRdMAARcQfwPrLb+xWW+Tc28QMLgIWS1oyI3wEHAFsB72ktEBEnAUcDVyv7GqrTfODHZcyD2cCHgduACySNLV1eXw78hKxg3H4VjeGW8tlExH0R8X7gF+QxGBcRfyOLW04ky9rfVkMMMBj74m/AZeUH7z+B04HHgBMkjYmI3wIXAQ8Db5a0ZQ0xDEocgxBDX+JQZfCqiHiIPBc/ArymXOm33psH7A1sCxyp5Q16FRGN/AMmkbdGrwHGlnkbAzcBB7QtuxB4Sc3xbEUmm50q855JXt1OrczbFPg98KJVNIYXkFdSU9vmfwP4UGV6feBGYKtV+HhsS/7YvLZMjypxfa16PpJXebcCz69pX/Q9jkGIoR9xsKxbnVHAycA7gJeXefuU8/HQtnX+H7Dt8rbb2Cv+yBHB7gDeD7xY0jMib5eOIZtJofQ84JURcX1dsUhSRPwG+BfgK5J2LDE+QCafCZXF1wP2iS7XO/QzBpUKlfJ5t5ID+Jwt6Y2Vxa4C1miL4W0l5q4aoONxNdlU8GhJr4qIpSWu1YHqleR6wL4RcVs3P38Q4hiUGPoVR5RMDnyFvCjaAjhC0q4RcRHZ6u2fJb2hstrUEudyN9yIP2DN9l/R8vo44CzgA2XH/gA4todxjQbEsl/2fYA/A/uVk2cGcHTdMVT3Sz9iaD82wJuA/wMOBV4OXAac1KsYBmFflM9/Bll2ey2we5n3XeB9vYqhn3EAo/odQ/mc0b2MA1i38noG8LnyegPgQOBcctRDgK1XdvuN6J1T0jfI2vBLIuKRMm90lC6iS0Xv5mSCuT2yXLnOeHYCxkTEzCd5f2eyidZjwOKIeEeZr+jSAVM+bLIkIn5Vph/fHz2M4Yvk0JyXtc1XRISkbYE9yWKdhRFxaLdjKNt7L3nFdlFE/KV9+z3aF+Mi4tHlvL8X8HFgHnkh+NZux1C29yWy6eq3+hWHpM2BR6JcLQ9xbvZqX7yaPN5DjiFSVxylYcGiiPh2mb6YbGSwcUQ8LOm5wE7A24CjIuKGlf3cVT7xS/oy8MKI2HWI954WEQsr0+tFaQYlaVRELK0hnovJK8dFwKPkLdy15YCuFhGPleXWJE+6R7sdj7I52gvIMRKWRrZsar1X/UGsM4bTgA0iYu+2+aPIq7zFT7JeV4+LpLPIH5ZHgedGxKsr741pxVHzvvgK2WT0kmhrhlf9HEnjgccii5zq2BfnAmuRdVx/rcwfDVA5L2qLQ9LpZFPe+4AFEfG+ynu93BcXAM8hK3NHkUXC88oFyeg690XlwucI4D8j4i5J3yaLeV4eOUbKRsDEWFGRzpPp1q3JIP4B44DzgAllekfgdbRVfJBPZFZv5VRTPFsAV1amP0YOvrAHMK4yf9O29boWD3AC2SqhNX0ZWRbZvlydMRxPfqlb05sDL27/DLKC7Gl1HReyOOnHlelvk5X96wCr9WhffJpMLmcB+wPrPcly69UVQ9neeOC/KtNbkg8FjepVHOTT2d8B1iQvTC5o/672aF+8jhxFsDU9DTgf2LLuOFrbIH9svksOcvWsMu8c4Ppqrhru566ylbvlynE0sBowRtKbgC+QteJHSPpkWW4H4DlRuZWMsjdrcBf5QFKrsvBEsi3unsCGJZ49S4yP61Y8kp4J3E6WT7ZcDzy7bbk31xVDcSlwm6T9JR1Itoj4MnC5pH8qMWxPtpx4/I6shuNyC/CApF0kfRzYjWwm901g5xLHVOo7HquTQ5tuQX7JdwN2VVsbbEkHkT8QXY+h4hHg2ZK2kHQY+ZT0F4DvqjzHUo5VLXFI2gC4H3hvRDxMNrx4hGx9V12uthgqbgMelbRF2f5hwJ+Az0oaV2ccERHlin8pmRdENhV9VkQcRBYrHTfSz21CUc/HybKwP5C3aw+SV3XvJit0F0cpXqk5jrERsUjSkeTDF5dGxC3lvdPJYo+39iCOZwBLyDLzpZL2AaZExEfr/uzy+WMib1VfRv4AALwmIuaXYrnNImKXHsQxGhhLttx5EfBSYPuIuLcco52BXaOG4r4hYhlVjsW+5IOEPwK+HU9S3FXD57eOySfJZLsl8K+RT0ufQjZVre2YVIo2JgJ/Icu3l0j6F/KO78S6PrstjhcAfyQrbz8D/BqYEREPlvcvAe6NUtdUcyyjyz4YTZYKCPhUZLchI7bKXfFLenM5gC0nkbXiuwIbll/HP5BX2OvXnfQlnah89P/fJE0mr+w2AXaX9OKy2MeBv0l6Wk0xfFbSacqxkzeIiL9XEtqaZJ0Dkq5Q5WlYaVkzyy7E0NoPx0uaEhHXAW8kW0XML4sdC9wtaY0n204X4zgBmBQRJwAfJO98JgBExMlkvysb1xTDSZJOl/RJSc9vHYuIuJB8DH9bYC9J15Zj1lqva8ejEsc08on1Z5MPxu1EPpn6vLLYkcD95W6x63FI+ipwffnxuz2yy5TW3fc44FlluQuVjTC6HkPZ3jnkmOBLS6L/ATl2+O5l3wB8Aniobb0RxzHUNlpJv+yLQ4B1ye9LVz53lUr8yorTacA+Kv3qly9Vq4zu25JeS97Gzo180q3OeM4iv0CXAPeSt7G3kE2xJpJFTh8hH/MeVS3W6HIMLyKvXp5HFidUnwb8AxAlGd4REWe01u3ibXx1P9wDvF1ZWTon8knHltOBv0d2ytZ1Qx2Pcge0kNwPu0l6o6Tzgb9ExO01xHAGWXzxfWAyyxIsAJEtOa4gr/JuiYjTKu91s8VKK44ryaKmybGsjfq9ZFcUbwEuJlvYPNDtOMo5uJTcB7+sFKO0LoDmAqMlTQcejIgLuh1D+bzpwDMi4sjK9r8P/DvZNcMHJe1P1kGsVV13JHG0/p9Pto225P+WiPh6Nz4XVqHEX24T7yHLaNcA9pa0GUBE3BMRHwC+SjbZ/G2Z7vqVQyWe15PPDuwTEVeQDyBNVnYRcTVwKvkD8Bzg5xFxYLfjUdYXPCci3hYRZwK/JB8jH1u5qrofaDUfazWX7Np5McR++An5Q9T6UUbSOuWKa1GUVhw1XNG1x3FViWNpuev7Kdlh34HAnyPi4G7HURLpGhGxV0TMYFlvjntU7v4gf5x/EsuajXb1ezpEHItZNs7An8gi0VvJO4+bIuJdZb1u7guVc/Ay8v97bfmD/E5A/gAdATxax7lZtrcT2a3xqWX6reVO7IPkD88R5JPZbwBujIj3tuIf4ed+G/iGpJ9Ieomkp5f5T/j/leSvynelO8cgulgb3s8/siJ3fHm9LfAl4FPA5stZZ1SN8Qh4FU98AOW7wEt7FQ/5w74ty+pyVGKYUFlmAtkW+PG4e7QftqpMjwV2rPO4dHo8yOcr6joeAlYvrw8g7zI+Ws7TK8gOv0YBL+vBvhgqjk+TdyIT6z43K9udCpxbXp9DtnD6aZneFvhSzftiFFnEeDzZ/cEssuj1+HJ+bNztfQEcBswsrz9LtibbD1inzNuM7Hq5tv2+ylzxR1493FteX01eSawH7CxpUinnHtu2Ti0Vd+UXOiLimshKO5Vf8jXInvuQ9Ckt69O76/GUMtOlEXF1lDOIrFReh3KnV8rz74uI4yvrdPMWenn7obXM0eRTij+srNPV49Lh8Tha0saxrN1+V+OoxPBImXUrWal9Eln0+Gfg6eWYXVdHDB3EcXqJY90h1qmrkvsqsgUP5JPaD5B9IlHO3Y+UGLr+XE1lm8eRD+c9D3hTZL3PSeTd8Dpt63RjX6wN/A4gIj5D/ujvSP7QQd6Jni9py7r2+yqT+CETZ+tWqCT/c8imilcD20T2tNiLONqTZ+tkuRFYouxv/rlRYx1D+wmjHExkFPlFb1VmTY5KeXq3T7KV2A9/Xs46vYrjOZF9NdUSR/v2IuJ/I2JBeX0vWZG8wQri7kUcG/UijoqHgY0l/YHsE2sj4I/Kp7qrMXQ9AZZ80Ur+xwDvb52LZV9syLJip9Y63dgXM4B1VYZqjIjzgGvIOr81I+K/ybqWN3W7aKtllUr88MQDE9mx2t7Aj6I8uVtXmf4KYmqdtE8j+5NfFNk2uGfxRETrqdPR5A/h3yPiiB7HMNR+qLWuZSXi6OnxaJG0finvvT2y7qEv+hFH5er5HOB/yJZ3RMSeEfGJXsRQSf4R2XEjkp6hrOD/U2Qlb7f9hayP/GeVbpsjK27vIiuTIbt2/qqv+CuUTTbXWcEykjSBbC9/cJnX1aKMts/rZF8uIdsFtyowu1600sFi6wLXRemPqIYY+r4fBiWODo/Hh8hH/t+9Eus85eIYanuVff2LiDgkIh6pFsf2al8MkVyPIJ9z6WqldqU0YgH5pPZzyUr11pgSzya7DiEi7o9Ktxnd9pR7gEvZx8uDEfEptXXetIL16up751nAPcvbdqtcVU/sa6Sb/Zs8oc+hPsXQ9/0wKHF0cjwqy1b7fen2vuh7HCsTQ51Wcl883tnZSPeFsqPBm8m7ygdUmrCW829TsrXQvmTLqvsjYp/hftZKxfVUSvzKJk8XkGVkzyKf/Lyp/SBVD1zN8VxA9uo4nny8/YbIJ1BbcQz5ZepmfOX2PMjyyA8Bt0bEQ0OdsDXG0Pf9MChxrOTxqCaYbu+LvsexMjHUqV/7QlmPtgnZLHQU2ULp+pL8FcsaEowjW1LdXKZr3z9PqaKeyGHH/p3s12WniPhd5SBtSHkwqEdJ/x1ka5Q9yeZYO5bPn1iSzPPJpmr/0BKgi1+sw8gmYO8AfkZ2+vYmSeuUGDaT9Lqy7KiaYuj7fhiUOIZxPKr1Ud3cF32PY2Vj6MZndiOObu0LZVfeL4yI15Cthn4JfEvSyyJiSSXpbxERj1aSfp0tqB73lEj8bSfGM8iHgJ4h6e2V+S8DXkHp7KwH1iSbnxERp5Pjr65PPpAzlmyl8UnlKD11/RD1vVkYg7EfBiWOQTgegxLHIMTQzzjupgyGHhG3RsQ08jmB0yRtAqDsOPIJA7L34qK19UED/UdldCiyaVVrfNzXlx17UGXZU4CP9iiu9YH/4onjr+5OFj89t0wfSB7s1q1dt2PYguxJcpvKvPcCP6aMOEb2xPkp6nsAp+/7YVDiGITjMShxDEIM/YiD7P8JsmuHG6iM5kc+qHgc2XULZL9Ztfy/V/Q30GX8WtZr4CjyNu0+8uGOD0fELOXj1icCZ0bEV8s6z4ku9WC3nLhEdiD1LrK/kx9FxJXlvf8A/hDZ0ReSnh5ZRFVHHOPJJy4fAL4Xy0biORf4YUR8S9n6aUnU0EJggPbDoMTR1+MxSHEMQgy9jkPZ/9Ei4F8iHu9t9DvkYCpfLMscQD61/uGRfNZIDXRRT0n6In+Rf0aW0V5M3pptHRE/IB+8eHZlnVqSvio9RkZaSFYy3w3sIulfy9vPA/5aWbbrSabsE6LPzcL6vR8GJY5BOR4t/YhD0mr9jmEovYpD0tfJ7j4+WJL+qMhO/g4ADpJ0qrI/pr3IFjx9NZBX/MqxLH8bEb9XPtK/N3B8lN75JL2f7C724Ij4RQ/i+QI5NN7F0dZHurLL1pcAnySvKhZGDU2yNADNwiS9ghzIZWFEPFgqolqV6z3ZD+WzPkyOFnX7EO/16njsRz6I88eI+GPbvuh5M73q51fm9eq8OAb4BfA/0da8upf7QjmIzzzyeYRFvTomknYBZpJ9YN1VflzWIbtwvpjs/O94shfYNSPiPWW9nrQ+HDLmQUv8ktYFXhURl0uaRH65TiMP1tERcXdZ7qNkGdlHao5nOlkxODUqg2FriLFhJT07yiPf6m5b6L43CytXNJsCC8jeCk+OiPvLe+2DYdeyH8r2TgeeFxG7t80XWR/Ui+PxNbJL5evJ5qOHlUTzhHOizuNRtncm2YvneWW6muiqTVfrPi8mkn3cVMev7vW+aMWxkKzruSCWjY9c+76Q9Hnyav5i8gfmUrKO6eqIOHaI70hPm7T+g+hT5cKK/shf5rOArcjOtC4CTib7VOlVDBuSxQdjyvQryavJTdqWe1XbdDfHId0ZuKa8fgHZs9/1VHpwLO9tUWMMp1LGYyXHJz6bHCmrfbna9kPZ3gnA/1amJ5FXU8/s4fHYD7i8vP4n4Ctki6IN2par7XiU7X2B7EL5AeCdT/Y5NZ8Xm/HEMaRfQhatbdjjfXE6OVA9ZD3PxcDaQyzX1TjIYpyvV6Y/T3bs1qrg3Yy8S39Jnf//4fwNTBl/q5y04lqyQ7EDyCvNd5Kter4gae3lrNdNC8gy4/WUPVl+DTgUuFrSa8rnbwe8urpSlKPbJXeTnYkRfWgWVq6QHqGMLxoRV5G9fO7attx25JCWXY+hbH8seXV9jaRnS/oQeTzOAr6iMvZCKRKr83iMIhMuwB5k3ypfBi5TDieJsl/72prplfL0+eQA9W8ATpH0rkp8reVqjYP8fswrn/U+4BvkkIX/1cN9sTbZ9cbHyra/SV4o7ti2XB1xXAHML5XDRMTR5I/LH8v0zWSX1+197Pe9mGWginpat6pa1prneWQTvHXJq8xbyeab03oQy2jygE0nbx//QrYemifpnWSF8/Zka4A6Rs5q7Yu1yU7VvhMRx5b3xgJHA/Mi4uuSNoiIv9QQQ2vcz3FkE8hF5bh8ijx//60s94yI+Fu3P3+IONYim929lDwn3kqWpe4BrBYRn5a0RtQwglfleDyLfBjn5+VztyTPjfeRP3z7AetFKZKsIY7W2M2rkU2bH5b0arKM+aNRRmlSjnCmqKcyu/X9XJ1MfrcAfydb2N1DDhX4GmB/cnjTuvbF+hFxj3JYyIXkd/GxUuwzKyKml+VWI8cf6GpFckn408lWZGcM8X5r9LKDuvm53TCm3wEomze9OiLeX75Y1XLzNcjinSPJQbE/20r6dVWMSHpTRHw3sjxuiaSPkQ+MjSb7TYcsdtqB+pL+J4FnSroxIs4tVyvfkfRoRHyxfPFvIYvBqCnpt2K4PnI4wFa5LeSXe8My70xy+L6Lux1DWxw3RMR5pSz1MOCyiPgT8CdJLwKmANSU9Fsx/Day+d+Lyf//X6J05Szpp+QPUtSY6D5X4rguIs4CHitJ+H/LOXKppEfJpHtVRFxUYwy/iYgzlU9MX0Z+F+4sy1xFFm8sJe9Yu07ZdHJNScdFxB/KvNb5OY8c3Qxl316XRsSPux1DRNxfzsfvSfpbRJxfPnMtsshpYSvp15WvhmsQinquAP5cdhaxrP+ULwNnRMTD5Hi5M6LG/tLLZ54PnC7p1MrnLCBvpx8j+8t+A3n3saimpD+dvCX9DfApSQfHsmZh75R0smpuFtYWw6fLl/vxY0M+T7GJpLPJCtW6kn41jqPLvvgbcFJE3FRZdE+yOKruGD4p6aByTt4JvFLSsWXRjwMPR00VdsrnETYnvy9fkfTK8lZrXNafkcVvZ5NdFNSR9KsxnCrptRExHzgImCTpi5I2JosFH13OprphbTJ/HabStXHF/cBmyjGW164j6bdEdv3+Tsr5Web9lSwdOBAer8gdmKQP9L9yl7xV/0/g0Mq8N5BX16sNsXxdT35OIa/sX0+2Ijq17f11yS/30WTi6Xo8wFsoQ7KV6Z3IARrWKNPjyfL9rwDf6HEMq7PsKeodyCuqE+o6LiuIo1VEuS5ZxNHrffH0Mj2ZLMP9b+CcmvfF9yrTZ5BdB+9MGW60zD+NbHJc174YKobdKsfiP8hmi6fXuC9WK/9+lnxS/0Nk44ONKZW3wHvK+Xl8XXEMEddrgT+WfbJrrz532PH2O4Cyc15C3p7tX6ZHVZLMmB7GsTH5BOhWwNfLCfUPPz6V5bs9JuszKyfvWLI44RpgrSc7kfoUwzrAtLpiWIk41gSO7PO+GEd2Dlfbvmh9Tvn3PeTdzfvJIpZjgNXIQWXeXPMxebIYPlfmj67z3Gzb9pbAUeSY0R8nu0c4u7y3BVlaUHscbTFtCnyAHO/74F585rBj7XcAlZ32z2RnSu/q1clTtn9A9SQp80aXE+tM4IuV5apXV928mjqglUhp+6Ejy89bV7hTKYNk9zGGt9Z5fFYijjfXFcdKxLBnKxl2+3hU4vha27ytKM0lyeakv+cfB4zv9nnRSQxb1RXDUHGQ9SmXltfnki2tpgGb1nVerGS8a/Xjczv9G4QyfgAi4kdka4BPS/qgpN3K/LofcrgCuKtVx1DK45aQJ/PnybExHwbeGGVs0hJXN8vsrgAWlNYxi5VGl9Y7Y4CJpYXA7rFskOx+xbBzdaUajk+ncTyhOWmX4+g0ht2i8lBfl49HK46/tJ2bv4lSiRoRv6f+5oKdxjC6xhhacVTrAn8NXCfp++Q4wW8B7uUfm/L25SGpqLkripEamMQPEBE/J8tRlwDbtypLaraEvDXcr8TQGoNzUWR73JeSD4fsA7U9N7CErDTbv8QQ5BfpMUDAJcBdEXFIDZ89rBhq2g8rHccqHEM1jsfPzdYb5cfoIrLrgV+t4jG04nj8e1rOv9FkRe4byuefFRHn1BzHqqHftxzL+6NHt0u01TGUeaPISuYzq/N6GUOZfxnw7abEMChxDEIMTxYHsAFZvn12ZV5tlYiDEENbHO8o06NZVhc4qldxrAp/fQ9gUP5YVsdw8JO8X3tZ4VAxUOkeoikxDEocgxDDcuJYbwD2RU9jaIvj3W3z+1KW/1T9G6gnd/tN0mvJiqJTgNsi4ntlfs8evqjEcCo5nvAPyvyedeo0CDEMShyDEMMQcdwcEd8v8/t1bvYlhrY4TibHz53Zq89eVTjxt1F237oj8HzgxuhDmWFbDL+NiLObGMOgxDEIMQxKHIMQwyDF8VTlxL8cktaKPtfOO4bBimMQYhiUOAYhhkGK46nEid/MrGEGqjmnmZnVz4nfzKxhnPjNzBrGid/MrGGc+M3MGsaJ38ysYf4/5TXKIMsBNRAAAAAASUVORK5CYII=",
=======
      "image/png": "iVBORw0KGgoAAAANSUhEUgAAAjAAAAHmCAYAAABtfrTAAAAAOXRFWHRTb2Z0d2FyZQBNYXRwbG90bGliIHZlcnNpb24zLjcuMiwgaHR0cHM6Ly9tYXRwbG90bGliLm9yZy8pXeV/AAAACXBIWXMAAA9hAAAPYQGoP6dpAABjKElEQVR4nO3deVxU1fsH8M8AAuKCWwIqCm6IIYuIiLlLolmGK1mmkaktaEr5dckls0JLDXPJLPclMffSKCPXxMgF9yxLRUVAU3Zkm+f3h7+5MgLKkDpzx8/79ZpXce+5M+dx7pl55txzztWIiICIiIhIRSyMXQEiIiIiQzGBISIiItVhAkNERESqwwSGiIiIVIcJDBEREakOExgiIiJSHSYwREREpDpMYIiIiEh1rIxdgQdFq9UiMTERVapUgUajMXZ1iIiIqAxEBBkZGahTpw4sLMrer2I2CUxiYiKcnZ2NXQ0iIiIqh0uXLqFevXplLm82CUyVKlUA3P4HqFq1qpFrQ0RERGWRnp4OZ2dn5Xu8rMwmgdFdNqpatSoTGCIiIpUxdPgHB/ESERGR6jCBISIiItVhAkNERESqwwSGiIiIVIcJDBEREakOExgiIiJSHSYwREREpDpMYIiIiEh1mMAQERGR6jCBISIiItVhAkNERESqwwSGiIiIVIcJDBEREakOExgiIiJSHStjV8CYXMZvf+ivcWFGz4f+GkRERI8b9sAQERGR6jCBISIiItVhAkNERESqwwSGiIiIVIcJDBEREakOExgiIiJSHSYwREREpDrlSmAWLFgAFxcX2Nrawt/fH3FxcaWWPXXqFPr27QsXFxdoNBpERkaWWO7KlSsYNGgQatasiYoVK6JFixY4dOhQeapHREREZs7gBCYqKgrh4eGYOnUqjhw5Ai8vLwQFBSElJaXE8tnZ2WjYsCFmzJgBR0fHEsvcvHkTTz31FCpUqIAffvgBp0+fxuzZs1G9enVDq0dERESPAYNX4p0zZw6GDRuG0NBQAMCiRYuwfft2LF26FOPHjy9W3s/PD35+fgBQ4n4AmDlzJpydnbFs2TJlm6urq6FVIyIioseEQT0weXl5OHz4MAIDA+88gYUFAgMDERsbW+5KbNu2Da1atUL//v1Ru3Zt+Pj44KuvvrrnMbm5uUhPT9d7EBER0ePBoATm+vXrKCwshIODg952BwcHJCUllbsS//zzD7744gs0adIEP/74I9544w2MGjUKK1asKPWYiIgI2NvbKw9nZ+dyvz4RERGpi0nMQtJqtWjZsiU+/vhj+Pj4YPjw4Rg2bBgWLVpU6jETJkxAWlqa8rh06dIjrDEREREZk0EJTK1atWBpaYnk5GS97cnJyaUO0C0LJycnNG/eXG+bu7s7EhISSj3GxsYGVatW1XsQERHR48GgBMba2hq+vr6IiYlRtmm1WsTExCAgIKDclXjqqadw9uxZvW1//vknGjRoUO7nJCIiIvNl8Cyk8PBwDBkyBK1atULr1q0RGRmJrKwsZVbS4MGDUbduXURERAC4PfD39OnTyv9fuXIF8fHxqFy5Mho3bgwAGDNmDNq2bYuPP/4YAwYMQFxcHBYvXozFixc/qDiJiIjIjBicwISEhODatWuYMmUKkpKS4O3tjejoaGVgb0JCAiws7nTsJCYmwsfHR/l71qxZmDVrFjp27Ijdu3cDuD3VevPmzZgwYQI++OADuLq6IjIyEi+99NJ/DI+IiIjMkUZExNiVeBDS09Nhb2+PtLS0Mo+HcRm//SHXCrgwo+dDfw0iIiK1Ks/3N2Ais5CIiIiIDMEEhoiIiFSHCQwRERGpDhMYIiIiUh0mMERERKQ6TGCIiIhIdZjAEBERkeowgSEiIiLVYQJDREREqsMEhoiIiFSHCQwRERGpDhMYIiIiUh0mMERERKQ6TGCIiIhIdZjAEBERkeowgSEiIiLVYQJDREREqsMEhoiIiFSHCQwRERGpDhMYIiIiUh0mMERERKQ6TGCIiIhIdZjAEBERkeowgSEiIiLVYQJDREREqsMEhoiIiFSHCQwRERGpDhMYIiIiUh0mMERERKQ6TGCIiIhIdZjAEBERkeqUK4FZsGABXFxcYGtrC39/f8TFxZVa9tSpU+jbty9cXFyg0WgQGRl5z+eeMWMGNBoNRo8eXZ6qERER0WPA4AQmKioK4eHhmDp1Ko4cOQIvLy8EBQUhJSWlxPLZ2dlo2LAhZsyYAUdHx3s+9++//44vv/wSnp6ehlaLiIiIHiMGJzBz5szBsGHDEBoaiubNm2PRokWws7PD0qVLSyzv5+eHTz/9FC+88AJsbGxKfd7MzEy89NJL+Oqrr1C9enVDq0VERESPEYMSmLy8PBw+fBiBgYF3nsDCAoGBgYiNjf1PFXnrrbfQs2dPvee+l9zcXKSnp+s9iIiI6PFgUAJz/fp1FBYWwsHBQW+7g4MDkpKSyl2JdevW4ciRI4iIiCjzMREREbC3t1cezs7O5X59IiIiUhejz0K6dOkS3n77baxZswa2trZlPm7ChAlIS0tTHpcuXXqItSQiIiJTYmVI4Vq1asHS0hLJycl625OTk+87QLc0hw8fRkpKClq2bKlsKywsxN69ezF//nzk5ubC0tKy2HE2Njb3HFNDRERE5sugHhhra2v4+voiJiZG2abVahETE4OAgIByVaBr1644ceIE4uPjlUerVq3w0ksvIT4+vsTkhYiIiB5vBvXAAEB4eDiGDBmCVq1aoXXr1oiMjERWVhZCQ0MBAIMHD0bdunWV8Sx5eXk4ffq08v9XrlxBfHw8KleujMaNG6NKlSrw8PDQe41KlSqhZs2axbYTERERAeVIYEJCQnDt2jVMmTIFSUlJ8Pb2RnR0tDKwNyEhARYWdzp2EhMT4ePjo/w9a9YszJo1Cx07dsTu3bv/ewRERET02NGIiBi7Eg9Ceno67O3tkZaWhqpVq5bpGJfx2x9yrYALM3o+9NcgIiJSq/J8fwMmMAuJiIiIyFBMYIiIiEh1mMAQERGR6jCBISIiItVhAkNERESqwwSGiIiIVIcJDBEREakOExgiIiJSHSYwREREpDpMYIiIiEh1mMAQERGR6jCBISIiItVhAkNERESqwwSGiIiIVIcJDBEREakOExgiIiJSHSYwREREpDpMYIiIiEh1mMAQERGR6jCBISIiItVhAkNERESqwwSGiIiIVIcJDBEREakOExgiIiJSHSYwREREpDpMYIiIiEh1mMAQERGR6jCBISIiItVhAkNERESqwwSGiIiIVIcJDBEREamOlbErQEREpXMZv/2hPv+FGT0f6vMTPSzl6oFZsGABXFxcYGtrC39/f8TFxZVa9tSpU+jbty9cXFyg0WgQGRlZrExERAT8/PxQpUoV1K5dG8HBwTh79mx5qkZERESPAYMTmKioKISHh2Pq1Kk4cuQIvLy8EBQUhJSUlBLLZ2dno2HDhpgxYwYcHR1LLLNnzx689dZbOHjwIHbu3In8/Hx069YNWVlZhlaPiIiIHgMGX0KaM2cOhg0bhtDQUADAokWLsH37dixduhTjx48vVt7Pzw9+fn4AUOJ+AIiOjtb7e/ny5ahduzYOHz6MDh06GFpFIiIiMnMG9cDk5eXh8OHDCAwMvPMEFhYIDAxEbGzsA6tUWloaAKBGjRqllsnNzUV6erreg4iIiB4PBiUw169fR2FhIRwcHPS2Ozg4ICkp6YFUSKvVYvTo0Xjqqafg4eFRarmIiAjY29srD2dn5wfy+kRERGT6TG4a9VtvvYWTJ09i3bp19yw3YcIEpKWlKY9Lly49ohoSERGRsRk0BqZWrVqwtLREcnKy3vbk5ORSB+gaIiwsDN9//z327t2LevXq3bOsjY0NbGxs/vNrEhERkfoY1ANjbW0NX19fxMTEKNu0Wi1iYmIQEBBQ7kqICMLCwrB582b88ssvcHV1LfdzERERkfkzeBZSeHg4hgwZglatWqF169aIjIxEVlaWMitp8ODBqFu3LiIiIgDcHvh7+vRp5f+vXLmC+Ph4VK5cGY0bNwZw+7LR2rVrsXXrVlSpUkUZT2Nvb4+KFSs+kECJiIjIfBicwISEhODatWuYMmUKkpKS4O3tjejoaGVgb0JCAiws7nTsJCYmwsfHR/l71qxZmDVrFjp27Ijdu3cDAL744gsAQKdOnfRea9myZXjllVcMrSIRERGZuXLdSiAsLAxhYWEl7tMlJTouLi4QkXs+3/32ExERERVlcrOQiIiIiO6HCQwRERGpDhMYIiIiUh0mMERERKQ6TGCIiIhIdZjAEBERkeowgSEiIiLVYQJDREREqsMEhoiIiFSHCQwRERGpTrluJUCmxWX89of6/Bdm9Hyoz09ERGQo9sAQERGR6jCBISIiItVhAkNERESqwwSGiIiIVIeDeIkeoIc9oBrgoGoiIoA9MERERKRCTGCIiIhIdZjAEBERkeowgSEiIiLVYQJDREREqsMEhoiIiFSHCQwRERGpDhMYIiIiUh0mMERERKQ6TGCIiIhIdZjAEBERkeowgSEiIiLVYQJDREREqsMEhoiIiFSHCQwRERGpTrkSmAULFsDFxQW2trbw9/dHXFxcqWVPnTqFvn37wsXFBRqNBpGRkf/5OYmIiOjxZnACExUVhfDwcEydOhVHjhyBl5cXgoKCkJKSUmL57OxsNGzYEDNmzICjo+MDeU4iIiJ6vBmcwMyZMwfDhg1DaGgomjdvjkWLFsHOzg5Lly4tsbyfnx8+/fRTvPDCC7CxsXkgz0lERESPN4MSmLy8PBw+fBiBgYF3nsDCAoGBgYiNjS1XBcr7nLm5uUhPT9d7EBER0ePBoATm+vXrKCwshIODg952BwcHJCUllasC5X3OiIgI2NvbKw9nZ+dyvT4RERGpj2pnIU2YMAFpaWnK49KlS8auEhERET0iVoYUrlWrFiwtLZGcnKy3PTk5udQBug/rOW1sbEodU0NERETmzaAeGGtra/j6+iImJkbZptVqERMTg4CAgHJV4GE8JxEREZk3g3pgACA8PBxDhgxBq1at0Lp1a0RGRiIrKwuhoaEAgMGDB6Nu3bqIiIgAcHuQ7unTp5X/v3LlCuLj41G5cmU0bty4TM9JREREVJTBCUxISAiuXbuGKVOmICkpCd7e3oiOjlYG4SYkJMDC4k7HTmJiInx8fJS/Z82ahVmzZqFjx47YvXt3mZ6TiIiIqCiDExgACAsLQ1hYWIn7dEmJjouLC0TkPz0nERERUVGqnYVEREREjy8mMERERKQ6TGCIiIhIdZjAEBERkeowgSEiIiLVYQJDREREqsMEhoiIiFSHCQwRERGpDhMYIiIiUh0mMERERKQ6TGCIiIhIdcp1LyQiIiJSH5fx2x/6a1yY0fOhvwbAHhgiIiJSISYwREREpDpMYIiIiEh1mMAQERGR6jCBISIiItXhLCQiInqozGnmC5kO9sAQERGR6jCBISIiItVhAkNERESqwwSGiIiIVIeDeInILHHgKJF5Yw8MERERqQ4TGCIiIlIdJjBERESkOkxgiIiISHWYwBAREZHqcBYSERFRGXBmm2lhDwwRERGpDhMYIiIiUh0mMERERKQ65UpgFixYABcXF9ja2sLf3x9xcXH3LP/tt9+iWbNmsLW1RYsWLbBjxw69/ZmZmQgLC0O9evVQsWJFNG/eHIsWLSpP1YiIiOgxYHACExUVhfDwcEydOhVHjhyBl5cXgoKCkJKSUmL5AwcOYODAgRg6dCiOHj2K4OBgBAcH4+TJk0qZ8PBwREdHY/Xq1Thz5gxGjx6NsLAwbNu2rfyRERERkdkyOIGZM2cOhg0bhtDQUKWnxM7ODkuXLi2x/Ny5c9G9e3eMHTsW7u7umD59Olq2bIn58+crZQ4cOIAhQ4agU6dOcHFxwfDhw+Hl5XXfnh0iIiJ6PBmUwOTl5eHw4cMIDAy88wQWFggMDERsbGyJx8TGxuqVB4CgoCC98m3btsW2bdtw5coViAh27dqFP//8E926dSu1Lrm5uUhPT9d7EBER0ePBoATm+vXrKCwshIODg952BwcHJCUllXhMUlLSfcvPmzcPzZs3R7169WBtbY3u3btjwYIF6NChQ6l1iYiIgL29vfJwdnY2JBQiIiJSMZOYhTRv3jwcPHgQ27Ztw+HDhzF79my89dZb+Pnnn0s9ZsKECUhLS1Mely5deoQ1JiIiImMyaCXeWrVqwdLSEsnJyXrbk5OT4ejoWOIxjo6O9yyfk5ODiRMnYvPmzejZ8/YKhJ6enoiPj8esWbOKXX7SsbGxgY2NjSHVJyIiIjNhUA+MtbU1fH19ERMTo2zTarWIiYlBQEBAiccEBATolQeAnTt3KuXz8/ORn58PCwv9qlhaWkKr1RpSPSIiInpMGHwvpPDwcAwZMgStWrVC69atERkZiaysLISGhgIABg8ejLp16yIiIgIA8Pbbb6Njx46YPXs2evbsiXXr1uHQoUNYvHgxAKBq1aro2LEjxo4di4oVK6JBgwbYs2cPVq5ciTlz5jzAUImIiMhcGJzAhISE4Nq1a5gyZQqSkpLg7e2N6OhoZaBuQkKCXm9K27ZtsXbtWkyaNAkTJ05EkyZNsGXLFnh4eChl1q1bhwkTJuCll17CjRs30KBBA3z00Ud4/fXXH0CIREREZG7KdTfqsLAwhIWFlbhv9+7dxbb1798f/fv3L/X5HB0dsWzZsvJUhYiIiB5DJjELiYiIiMgQTGCIiIhIdZjAEBERkeowgSEiIiLVYQJDREREqsMEhoiIiFSnXNOoiR40l/HbH/prXJjR86G/BhERPRrsgSEiIiLVYQJDREREqsMEhoiIiFSHCQwRERGpDhMYIiIiUh0mMERERKQ6TGCIiIhIdZjAEBERkeowgSEiIiLVYQJDREREqsMEhoiIiFSHCQwRERGpDhMYIiIiUh0mMERERKQ6TGCIiIhIdayMXQEiMi0u47c/9Ne4MKPnQ38NIjJv7IEhIiIi1WECQ0RERKrDBIaIiIhUhwkMERERqQ4TGCIiIlIdJjBERESkOkxgiIiISHWYwBAREZHqlCuBWbBgAVxcXGBrawt/f3/ExcXds/y3336LZs2awdbWFi1atMCOHTuKlTlz5gx69eoFe3t7VKpUCX5+fkhISChP9YiIiMjMGZzAREVFITw8HFOnTsWRI0fg5eWFoKAgpKSklFj+wIEDGDhwIIYOHYqjR48iODgYwcHBOHnypFLm77//Rrt27dCsWTPs3r0bx48fx+TJk2Fra1v+yIiIiMhsGZzAzJkzB8OGDUNoaCiaN2+ORYsWwc7ODkuXLi2x/Ny5c9G9e3eMHTsW7u7umD59Olq2bIn58+crZd577z0888wz+OSTT+Dj44NGjRqhV69eqF27dvkjIyIiIrNlUAKTl5eHw4cPIzAw8M4TWFggMDAQsbGxJR4TGxurVx4AgoKClPJarRbbt29H06ZNERQUhNq1a8Pf3x9btmwxMBQiIiJ6XBiUwFy/fh2FhYVwcHDQ2+7g4ICkpKQSj0lKSrpn+ZSUFGRmZmLGjBno3r07fvrpJ/Tu3Rt9+vTBnj17Sq1Lbm4u0tPT9R5ERET0eDD63ai1Wi0A4Pnnn8eYMWMAAN7e3jhw4AAWLVqEjh07lnhcREQEpk2b9sjqSURERKbDoB6YWrVqwdLSEsnJyXrbk5OT4ejoWOIxjo6O9yxfq1YtWFlZoXnz5npl3N3d7zkLacKECUhLS1Mely5dMiQUIiIiUjGDEhhra2v4+voiJiZG2abVahETE4OAgIASjwkICNArDwA7d+5UyltbW8PPzw9nz57VK/Pnn3+iQYMGpdbFxsYGVatW1XsQERHR48HgS0jh4eEYMmQIWrVqhdatWyMyMhJZWVkIDQ0FAAwePBh169ZFREQEAODtt99Gx44dMXv2bPTs2RPr1q3DoUOHsHjxYuU5x44di5CQEHTo0AGdO3dGdHQ0vvvuO+zevfvBRElERERmxeAEJiQkBNeuXcOUKVOQlJQEb29vREdHKwN1ExISYGFxp2Onbdu2WLt2LSZNmoSJEyeiSZMm2LJlCzw8PJQyvXv3xqJFixAREYFRo0bBzc0NGzduRLt27R5AiERERGRuyjWINywsDGFhYSXuK6nXpH///ujfv/89n/PVV1/Fq6++Wp7qEBER0WOG90IiIiIi1WECQ0RERKrDBIaIiIhUhwkMERERqQ4TGCIiIlIdJjBERESkOkxgiIiISHWYwBAREZHqMIEhIiIi1WECQ0RERKrDBIaIiIhUhwkMERERqQ4TGCIiIlIdJjBERESkOkxgiIiISHWYwBAREZHqMIEhIiIi1WECQ0RERKrDBIaIiIhUhwkMERERqQ4TGCIiIlIdJjBERESkOkxgiIiISHWYwBAREZHqMIEhIiIi1WECQ0RERKrDBIaIiIhUhwkMERERqQ4TGCIiIlIdJjBERESkOkxgiIiISHWYwBAREZHqlCuBWbBgAVxcXGBrawt/f3/ExcXds/y3336LZs2awdbWFi1atMCOHTtKLfv6669Do9EgMjKyPFUjIiKix4DBCUxUVBTCw8MxdepUHDlyBF5eXggKCkJKSkqJ5Q8cOICBAwdi6NChOHr0KIKDgxEcHIyTJ08WK7t582YcPHgQderUMTwSIiIiemwYnMDMmTMHw4YNQ2hoKJo3b45FixbBzs4OS5cuLbH83Llz0b17d4wdOxbu7u6YPn06WrZsifnz5+uVu3LlCkaOHIk1a9agQoUK5YuGiIiIHgsGJTB5eXk4fPgwAgMD7zyBhQUCAwMRGxtb4jGxsbF65QEgKChIr7xWq8XLL7+MsWPH4sknnyxTXXJzc5Genq73ICIioseDQQnM9evXUVhYCAcHB73tDg4OSEpKKvGYpKSk+5afOXMmrKysMGrUqDLXJSIiAvb29srD2dnZgEiIiIhIzYw+C+nw4cOYO3culi9fDo1GU+bjJkyYgLS0NOVx6dKlh1hLIiIiMiUGJTC1atWCpaUlkpOT9bYnJyfD0dGxxGMcHR3vWX7fvn1ISUlB/fr1YWVlBSsrK1y8eBHvvPMOXFxcSq2LjY0NqlatqvcgIiKix4NBCYy1tTV8fX0RExOjbNNqtYiJiUFAQECJxwQEBOiVB4CdO3cq5V9++WUcP34c8fHxyqNOnToYO3YsfvzxR0PjISIioseAlaEHhIeHY8iQIWjVqhVat26NyMhIZGVlITQ0FAAwePBg1K1bFxEREQCAt99+Gx07dsTs2bPRs2dPrFu3DocOHcLixYsBADVr1kTNmjX1XqNChQpwdHSEm5vbf42PiIiIzJDBCUxISAiuXbuGKVOmICkpCd7e3oiOjlYG6iYkJMDC4k7HTtu2bbF27VpMmjQJEydORJMmTbBlyxZ4eHg8uCiIiIjosWJwAgMAYWFhCAsLK3Hf7t27i23r378/+vfvX+bnv3DhQnmqRURERI8Jo89CIiIiIjIUExgiIiJSHSYwREREpDpMYIiIiEh1mMAQERGR6jCBISIiItVhAkNERESqwwSGiIiIVIcJDBEREakOExgiIiJSHSYwREREpDpMYIiIiEh1mMAQERGR6jCBISIiItVhAkNERESqwwSGiIiIVIcJDBEREakOExgiIiJSHSYwREREpDpMYIiIiEh1mMAQERGR6jCBISIiItVhAkNERESqwwSGiIiIVIcJDBEREakOExgiIiJSHSYwREREpDpMYIiIiEh1mMAQERGR6jCBISIiItVhAkNERESqwwSGiIiIVKdcCcyCBQvg4uICW1tb+Pv7Iy4u7p7lv/32WzRr1gy2trZo0aIFduzYoezLz8/HuHHj0KJFC1SqVAl16tTB4MGDkZiYWJ6qERER0WPA4AQmKioK4eHhmDp1Ko4cOQIvLy8EBQUhJSWlxPIHDhzAwIEDMXToUBw9ehTBwcEIDg7GyZMnAQDZ2dk4cuQIJk+ejCNHjmDTpk04e/YsevXq9d8iIyIiIrNlcAIzZ84cDBs2DKGhoWjevDkWLVoEOzs7LF26tMTyc+fORffu3TF27Fi4u7tj+vTpaNmyJebPnw8AsLe3x86dOzFgwAC4ubmhTZs2mD9/Pg4fPoyEhIT/Fh0RERGZJYMSmLy8PBw+fBiBgYF3nsDCAoGBgYiNjS3xmNjYWL3yABAUFFRqeQBIS0uDRqNBtWrVSi2Tm5uL9PR0vQcRERE9HgxKYK5fv47CwkI4ODjobXdwcEBSUlKJxyQlJRlU/tatWxg3bhwGDhyIqlWrllqXiIgI2NvbKw9nZ2dDQiEiIiIVM6lZSPn5+RgwYABEBF988cU9y06YMAFpaWnK49KlS4+olkRERGRsVoYUrlWrFiwtLZGcnKy3PTk5GY6OjiUe4+joWKbyuuTl4sWL+OWXX+7Z+wIANjY2sLGxMaT6REREZCYM6oGxtraGr68vYmJilG1arRYxMTEICAgo8ZiAgAC98gCwc+dOvfK65OWvv/7Czz//jJo1axpSLSIiInrMGNQDAwDh4eEYMmQIWrVqhdatWyMyMhJZWVkIDQ0FAAwePBh169ZFREQEAODtt99Gx44dMXv2bPTs2RPr1q3DoUOHsHjxYgC3k5d+/frhyJEj+P7771FYWKiMj6lRowasra0fVKxERERkJgxOYEJCQnDt2jVMmTIFSUlJ8Pb2RnR0tDJQNyEhARYWdzp22rZti7Vr12LSpEmYOHEimjRpgi1btsDDwwMAcOXKFWzbtg0A4O3trfdau3btQqdOncoZGhEREZkrgxMYAAgLC0NYWFiJ+3bv3l1sW//+/dG/f/8Sy7u4uEBEylMNIiIiekyZ1CwkIiIiorJgAkNERESqwwSGiIiIVIcJDBEREakOExgiIiJSHSYwREREpDpMYIiIiEh1mMAQERGR6jCBISIiItVhAkNERESqwwSGiIiIVIcJDBEREakOExgiIiJSHSYwREREpDpMYIiIiEh1mMAQERGR6jCBISIiItVhAkNERESqwwSGiIiIVIcJDBEREakOExgiIiJSHSYwREREpDpMYIiIiEh1mMAQERGR6jCBISIiItVhAkNERESqwwSGiIiIVIcJDBEREakOExgiIiJSHSYwREREpDpMYIiIiEh1ypXALFiwAC4uLrC1tYW/vz/i4uLuWf7bb79Fs2bNYGtrixYtWmDHjh16+0UEU6ZMgZOTEypWrIjAwED89ddf5akaERERPQYMTmCioqIQHh6OqVOn4siRI/Dy8kJQUBBSUlJKLH/gwAEMHDgQQ4cOxdGjRxEcHIzg4GCcPHlSKfPJJ5/g888/x6JFi/Dbb7+hUqVKCAoKwq1bt8ofGREREZktgxOYOXPmYNiwYQgNDUXz5s2xaNEi2NnZYenSpSWWnzt3Lrp3746xY8fC3d0d06dPR8uWLTF//nwAt3tfIiMjMWnSJDz//PPw9PTEypUrkZiYiC1btvyn4IiIiMg8WRlSOC8vD4cPH8aECROUbRYWFggMDERsbGyJx8TGxiI8PFxvW1BQkJKcnD9/HklJSQgMDFT229vbw9/fH7GxsXjhhRdKfN7c3Fzk5uYqf6elpQEA0tPTyxyPNje7zGXLy5D6lNfDjsMcYgAYR1mZQwwA4ygrc4gBYBxlZYox6MqLiEHHGZTAXL9+HYWFhXBwcNDb7uDggD/++KPEY5KSkkosn5SUpOzXbSutTEkiIiIwbdq0YtudnZ3vH8gjZB9p7Br8d+YQA8A4TIk5xACYRxzmEAPAOExJeWPIyMiAvb19mcsblMCYkgkTJuj17Gi1Wty4cQM1a9aERqN54K+Xnp4OZ2dnXLp0CVWrVn3gz/+oMA7TYQ4xAOYRhznEADAOU2IOMQCPJg4RQUZGBurUqWPQcQYlMLVq1YKlpSWSk5P1ticnJ8PR0bHEYxwdHe9ZXvff5ORkODk56ZXx9vYutS42NjawsbHR21atWrWyhlJuVatWVfXJqMM4TIc5xACYRxzmEAPAOEyJOcQAPPw4DOl50TFoEK+1tTV8fX0RExOjbNNqtYiJiUFAQECJxwQEBOiVB4CdO3cq5V1dXeHo6KhXJj09Hb/99lupz0lERESPN4MvIYWHh2PIkCFo1aoVWrdujcjISGRlZSE0NBQAMHjwYNStWxcREREAgLfffhsdO3bE7Nmz0bNnT6xbtw6HDh3C4sWLAQAajQajR4/Ghx9+iCZNmsDV1RWTJ09GnTp1EBwc/OAiJSIiIrNhcAITEhKCa9euYcqUKUhKSoK3tzeio6OVQbgJCQmwsLjTsdO2bVusXbsWkyZNwsSJE9GkSRNs2bIFHh4eSpn//e9/yMrKwvDhw5Gamop27dohOjoatra2DyDEB8PGxgZTp04tdtlKbRiH6TCHGADziMMcYgAYhykxhxgA045DI4bOWyIiIiIyMt4LiYiIiFSHCQwRERGpDhMYIiIiUh0mMPTAcVgVUXHm0i7MJQ5SPyYwRrJhwwZ8++23xq7GA3Xo0CEAeCgrIT8qZ8+eNXYVHghziOPYsWPGrsIDYQ7tAjCPOMzlnFJj+75x48YDf04mMEYwb948DBgwACEhIVizZo2xq/NALF26FK1bt0aPHj2UbWr7pbZy5Ur4+Phg4sSJxq7Kf2IOcSxfvhw+Pj4YMmSIsavyn5hDuwDMIw5zOafU2L7Xrl0Lf39/7N69+8E+sdAjo9VqJTc3V1q0aCHz5s2TKVOmSJUqVWTVqlXGrtp/8vvvv4u1tbV88MEH4urqKj179lT2abVaI9as7H7++WfRaDTSt29f8fT0lEmTJhm7SuWi9ji0Wq3s3btXNBqNvPnmm+Li4iKhoaHGrla5mEO7EFF/HOZ0Tqmxfa9evVo0Go20atVKWrZsKbt3735gz80ExggKCgpEROTixYvyzjvvmEUSc/bsWRER2bNnjzg5OanuQy49PV1Onjwpt27dkmnTpom7u7sqPhzuZi5xnD59WkREVqxYIU5OTqr9wlF7u9AxhzjM4ZxSW/v+559/5NixY7Jr1y45ceKE9O/fXzw9PR9YEsME5hEo2sC1Wq3k5+crfyckJKg6idElY7oYdb921PohJyJy9epV+eCDD0z+w+F+1BiHrm3ozpeMjAxZuXKl6r5wzKVdmEMc5nJO3c3U2/fixYulRYsWcvHiRWXb3r17ZcCAAQ8siWEC85DpPgAKCwtLLXPp0iVVJTH3ikXH1D/kSoqh6DZT/3DQMYc4Soqh6LmSmZmpii8cc2gXIuYRhzmfU2po38eOHZPKlSvL+vXrRUQkKytL2bd///4HlsQwgXmIdCdaenq6DBw4UJ555hlp27atbNiwQS5fvqxXVi1JjC6mzMxM+fTTTyU8PFxWrVolp06dKlbWVD/kdEllVlaWrF+/XpYvXy5xcXHFypnqh4OOOcShiyEzM1O++uormTlzpkRHR8u1a9f0ypn6F445tAsR84jDXM4pNbfv3377Tby9veX06dNy9OhRGTt2rCQnJyv7H1QSwwTmIcvKypLGjRtLUFCQfPTRR9KnTx9xdXWV0NBQOXbsmF5ZtSQxGRkZ0rhxY/Hz85POnTtL9erVpXPnzrJo0aJiZU3tQ0732unp6eLm5ibNmzeXxo0bi4WFhYwaNarYB4QpfjiImEccRWNo0qSJeHp6io+Pj1haWsqAAQNk69ateuVN/QtHze2iKDXHYS7nlNrbd0JCgjRv3lwCAwNFo9HIe++9JyJ3kjKRB5PEMIF5yJYvXy5+fn56414WL14s7du3lz59+sjJkyf1yl+4cEHeeecdqVGjhqxYseJRV7dMxo8fL926dZPs7GwRud1dOHz4cHnyySdl9uzZxcrv3r272IecMRUUFEhISIgEBwdLWlqaZGdny4YNG6Rp06bSp08f+eWXX/TKX716Vd5//31xd3eXyZMnG6nWxZlDHIWFhTJ8+HB59tlnJTMzU0Runy9BQUHSoUMHWbNmjV75zMxMWb58uTg5Ocmrr75qjCqXSu3tQkftcZjLOaXW9q3rxYuKihKNRiPNmjWTP//8U9l/dxLzXwb2MoF5yJYsWSL16tWTq1ev6m1fvXq1PPXUUzJmzBhJTU0t9qulbdu2UqtWLb1uN1PxwgsvSN++ffW2/f333zJmzBjx9vYu9gGh1Wrlzz//FI1GIyNGjHiUVS1Vhw4d5IMPPtDbtmvXLvHz85MBAwbImTNnROTOL6GrV6/KvHnzpHr16iV+iBuLOcTRo0cPeeutt/S2HTlyRPr27Stdu3Yt9kGdkZEhO3bsEI1GI+PHj3+UVb0nc2gXIuYRh7mcU2pt3wUFBTJ27FgZNGiQ1K9fX5599lk5cuSI3n6d/fv3y9ChQ6VBgwby22+/GfQ6XMjuIXviiScAAP/88w8AoKCgAADw0ksvoU+fPli5ciUuX74MjUajLAy1adMmxMbG4uuvv0bt2rWNU/ES6Orn7u6O9PR0JCUlKfsaNmyI119/HQ0bNsSGDRuQk5OjlNdoNNi1axeqVKmCp59+2ih119FqtcjKyoKlpSXS09MBAHl5eRARdOrUCTNmzMCePXuwceNGAHdidnR0xLVr11BYWAgPDw+j1V/HHOIQERQWFqJ27dpITU1FQUEBtFotAMDHxwfjx49HWloa1q9fDwDKvsqVKyM+Ph5VqlRBQECA0eqvYw7tAjCPOMzlnFJj+y4sLFT+39LSEp988glWrVqFH374AUePHsWUKVMQHx+v7NeVf+qpp1ChQgVkZGTg1q1bhr1o+XMsKqtu3bqJu7u7XL9+XURE73JSo0aNil2zTE1NlZ9++umR1tEQP/30k1SuXFlmz56tl0mL3O6q1Wg0cvjwYb3tH3/8sWzatOlRVvOe5s+fLxYWFsq15Ly8PKXrc/78+VKjRg1JSkpSyufl5cnQoUNl7dq1RqlvacwhjqioKLGyspINGzaIyO0uaN0vyg0bNoilpaX8/fffeseMGTOmWE+AsZlDuxAxjzjM5ZxSS/vWnSd//fWXREZGyscffywpKSmSm5srIiInT56UevXqybPPPqs39rOwsFCuXbsmbm5u8s033xj8ukxgHiLdm3rlyhXx8vISLy8vuXLlirI/Pz9fOnXqJAsXLtTbpgazZs0SS0tL+eqrr+TWrVvK9sTERHF3dy9xtLwpyc/Pl5CQEKlRo4YcP35cRO5cu/3xxx+lSZMmxS7f3f1hbgrMJY4xY8aIra1tscT9xIkT0qRJE/nrr7+MVDPDqL1d6JhDHOZwTqmpfZ85c0aqVKkirVu3lmrVqomLi4ts3bpVMjIyROR2EuPi4iJdunSRo0eP6h1748aNcr0mE5j/6O55+qWNwD916pT4+vqKq6urrFq1Snbu3Clff/212NnZyd69ex9FVR+IovFNnTpVNBqNTJ06VeLj4+XWrVvy5ZdfSu3ateWPP/4wYi3L5vTp0/Lcc89JtWrV5Oeff1Z+LSxYsECaNWuml2yagtLOLbXFUZLU1FR57bXXxMbGRpYsWaLUedGiRVK/fn05f/68cSt4H2pqF3cvrFnaPlOP437Ufk7pmHL71iVLOTk58s4778jkyZMlLy9PRER69eolDRs2lA0bNihJzPHjx8XBwUF+//33B/L6TGD+g6Lz9MuShGRmZsqgQYPkySefFEdHR2nevLmsW7fuYVfTIPdbAOpuCxculEaNGkndunXFy8tLqlevbvSYSqpvaYtznTt3Tl577TXRaDTi7+8vTz/9tNjZ2SkLMBmT7vwqyy8qU42jLIui6eTk5Cj3B3Nzc5OAgACpUqWKREVFPcQaPhym2C5E7pxLubm5ZertNcU4SmrfpbURUz6n1Po5FRcXp7e67vnz56VDhw7SvXt3+f777/XKBgcHi6urq2zatEnS09NFRJRk5kHQiKjslqImQqvVwsLCAunp6ejUqRNcXV0xe/ZsuLi4lFpW5/z58wAAKysrODs76w2GM6bCwkJYWlri1q1bOHz4MG7cuIGOHTuiYsWKqFChAkREqWPR/z99+jQSEhKQmZmJJk2awMvLS2+/MWIoKCjAzZs3kZubi3r16untK8l3332H48ePQ6PRoH379mjfvr3RYgDu1DUtLQ0jR47Eu+++C09Pz/seZ0px6GLIyclBdHQ0rl69iueeew716tW7Z30OHDiAP//8E7du3YKPjw/8/f1N4r3Qubs9F2Wq7QK4U++MjAwEBQWhZ8+eGD9+fIltwlTj0L0X+fn5uHLlCjIyMtCiRQsAtydIWFlZlXicqZ5TeXl5uHLlCvLy8uDm5nbf44zZvkUEp06dQvfu3fHjjz/iySefVPa1aNECp06dwoIFC/DGG2/oHdevXz/s2bMHX3zxBfr06QMApbaf8lSKyikrK0s8PDykd+/ekpaWdt9fBqmpqY+yegbR1T0tLU08PDzEzc1NqlatKnXq1JGPPvpI6W7VarVl6hEwxmJWRVc+Dg4OFm9vb3F3d5fBgwcXq1dZegaMtSCX7t83LS1NnJycpFevXsXK6OpvqnEUPZ+8vLykZcuWUqNGDXFycio29sBUYxDRP6d69+6trGdxvyXeS2PsxeoyMjKkSZMm0qdPHzlx4kSJdVZD++7evbu0aNFCnJycpEuXLsXqZcrvRdG20bZtW2nSpInUrVtX2rRpI7/99puy/o6Iab4XuvabkpKidxkuICBAXF1d5ddffy327//ss88Wm7r+IHAa9X8QExMDR0dHREVFoWrVqli+fDmmT5+O6dOn4/Tp09Bqtcqvm8jISEyaNAmXL182cq1LptFoUFBQgIEDB8LNzQ3R0dFITEzEoEGDsHXrVrz33nv466+/oNFolJjWrVuHb7/9ttTne5REBBYWFsjMzISfnx8qVKiAyZMn4/XXX8fRo0fx0Ucf6dVL9wtg+/btSExMLPE5jfHrTERgaWmJjIwMeHp6on379ti6dSsA4NatW8jKygJwu/66mAHTi0Oj0eDWrVvo3r07vL29ER0djevXr6NGjRrYtGmTXlldDOvXr8fvv/9e6vMZg4WFBXJyctCjRw9s2bIFgYGBOHfuHCwsLJQpuEXLAqbVLu726aefwtXVFRs3boSHhweOHTuGrVu34vz580hLSwMAk27fWVlZaN26Nezt7TF37lwsWrQIV69exYgRI/TqZcrnlEajQV5eHrp164Z69eph2bJlWLZsGezs7NCrVy+sWbNGmTqtey9MoX3rzveGDRvi5s2b6NKlCyIjI5UlQg4cOIAaNWrglVdewcGDB/Xax3fffYfOnTsrVxsemAeeEj1GZs+eLf7+/iIiMmjQIGnevLk888wzUrt2bQkICJCVK1cq2fGSJUtEo9GUeE8RU3Hz5k1p0aJFsamEixcvlqeeekpCQ0OVAWOZmZni6+srPj4+xRbpM5aCggJ57bXXJDg4WJk5kZ+fL8OGDSuxF+PKlStiZ2cnzz//vDIwzhTk5uaKh4eHNGvWTNk2bdo06dmzp/j6+krfvn3l33//FZHbvzQvX75sknHExcWJp6ennD59Wtk2dOhQmTFjhkyfPl327NmjzKBIS0uT6tWrS+vWrSUtLc1YVS5Gq9VKZGSkdO3aVb777jvp3r27ODg4lNoTk5WVZXLtoqgXXnhBWRht0KBB4uHhIdWrVxdnZ2cZNmyY8uvaVNv3qFGjJDg4WK+X4qOPPpJ27doVK5+RkWGS55TI7V6Mpk2bysGDB/W2Dx06VOrXry8rVqxQel9MtX3PmDFDGjRoIBMnTpRz584p2319faV58+ayd+9eg8bAlQcTmP9g9erV0q1bNzlw4IC0adNGafxZWVkSHBwsTz31lLL2i4gUu4GjqUlLSxM/Pz/55JNPRER/SveCBQvkySeflOXLlyvbEhMT5ddff33k9SzNzZs3ZcSIEfL555+LyJ0vl23btomXl5dkZ2cXG7i4e/du+fHHHx95Xe8nJCREWrRoId9884307dtXPD09ZcqUKTJt2jTlEl/RqYemGMcPP/wglSpVkkOHDomIyI4dO8TCwkJ69OghPj4+0qhRI/nggw+UL6MLFy7Izp07jVnlEm3evFkWLVokeXl5kpiYKEFBQeLo6FgsidH9WLl8+bJJtYuihg0bJhMnTpQvv/xSvL295dChQ5KWliYLFiyQdu3ayTvvvKMk/6bWvm/duiVvv/22TJs2TW/7r7/+Kg0aNJDr168r7Vv3XpjqOXXs2DGpXbu2Mh296N2ahwwZIrVr15aEhARlmym176JJydy5c6Vu3brFkhg3Nzdp2LCh3Lx586HWhQnMf/DPP/9IxYoVpV27dtK9e3e9XwU3b94UGxsbvcV57v6gM6bS6vDKK69I06ZNlV9dRb/wX375ZWnRooWIGDa75GG5O4Zbt27Jr7/+qnwY6PZv3rxZrzejLM/1KBV97aL/3kOGDBFra2tp06aNnD17Vtl+9epVadq0qQwdOrTY8ca+rn/3//v7+0uNGjUkODhYrKys5IsvvlC+ICdPnizOzs6SmJhoEjHc67V1ddZqtZKQkCBBQUHFemLOnDlT7vUsHrTSpkdPmTJFmjdvLiNHjpQPP/xQr0xERITUr1+/1PF8j1pJS1T8888/xdr3/v37xcXFRa93ouhncdGyxlDaOJZWrVpJ9+7dlb+Lrrfj4+OjjN0zlbZRVGlJTNHFAffv3//Q68ExMPdRdHlk4M51wMLCQri6uiIyMhInTpxAQkKCcg0ZuD3DyNfXF7Vq1VK26a7LGvs6eGFhoTLmJTU1FcnJycq+hQsXwsrKCn379kV2djasrKyU65bBwcEoKChAenr6gxtFXk5arRYajUZ5P27dugUbGxsEBATAzs5O2Q9AmUGlK/vVV1/hmWee0Xs+Y84MKRpH0fNt+fLlCA8Px6BBg9C4cWNlu6OjI7y8vHDt2jUA+nU3Rhx3x5CXl6fsO3jwIObMmYMXX3wR3t7e6NOnj3I+PffccwCAGzduGD0G4E67yM/Px8WLF3H+/Hnk5+cDAGxsbJQ4nZ2dsXjxYnh7e6NDhw44d+4cFixYgN69eytjF4yppDh059W0adNQpUoVzJ8/H3///bfeOIVnn30WFSpUKPZ+GIMUGfOydOlS3Lx5ExqNBi4uLsXat+4zShfj119/jR49eiAnJ0d5PmPPNsrIyMDo0aORnp6u/JvPmDEDf/zxB9566y0At8+x3NxcAED79u1Npn2XpOgYsFGjRuF///sf1qxZg4ULF+LcuXMAbt8i4KHX46G/gorpBuFmZGQgJCQEFy9eVN443eCq559/HmPHjsW5c+cwYcIE/PXXX0hNTcXWrVvxzz//KPdCMhVFY+rTpw969OgBNzc3fPjhh0hMTETFihWxZs0apKSkoEuXLjh79qxy/6Y//vgDlStXfvADscoRg27A7uuvv44ePXrgqaeewi+//KJ8kRZNsOzt7aHRaGBhYYFly5bhzTffRN++fY0YwW0lxdG2bVv88ssvSpmIiAi8/PLLSjy6f/tKlSqhWbNmetuMobQYYmJilDJDhgyBvb09MjMzUbt2bdja2gIAYmNjUb16dVSvXt1Y1VcUbRc9evRA//794ebmhmnTpilfhEXPqfr16+Orr76Cr68vmjZtitGjR2PChAlo0KCBsUIAUHoc77//PjIyMgAAX375Jfz8/BAdHY3t27cr8e3btw+VKlVCxYoVjRkCgNtf1IWFhejVqxfGjRuHBQsWIDU1VblnXNH3onLlysoU6mXLluGNN97A4MGDjR6HLnlJT09Hs2bNcP36dVStWlWpu5+fH0aNGoWYmBgMHz4cwO0kBrj9o8vGxka5/5EpujuJCQsLw6pVq4oNbn+oHnofj8plZ2dL27ZtRaPRSKNGjZTrkkW7BW/cuCHLly+XqlWriouLizRv3lxq165tEoslFaXrfszIyBB3d3fp37+/bNq0SWbOnCmVKlWS1atXK+XOnDkjvr6+ytLPgwcPFmtra9m4caMxQ1BiSE9PV24rP2nSJHnppZfE0tKyxEHSP/zwg/j7+8uSJUvEwsJCuU+IKVyqMCQOneXLl0uNGjVkz549j6q6JTIkhn///Vfq1KkjPXv2lHXr1skHH3wgVapUMfr5JKIfh5ubm/Tv318OHDgg8+bNE41Go3fvFhH97vOJEyeKRqNRFvAylXOqpDji4+NF5Hb9//jjD2ndurU4OTlJQECAvPTSS2JnZ6fcO8gUZGVlSfv27cXT01Patm0r06dPL/F+cnFxceLl5aXcN8iU2ndaWprUr19fevfurbdf9/1x48YNWbhwodSrV09atWolkyZNkrFjx4qVlZV89913j7zeOob82xVtDxcuXHgY1SkVE5h70Gq1MmfOHOnatats27ZNOnXqJM7OziUmMSIily5dkg0bNsjmzZuVez2YyjVLnYKCAmVWTtFrrm+++ab4+/sXG+Q6Z84cCQsLk9GjRyuD4YwdU15envTt21f69u2r9x506tRJwsPDRUS/UW3btk00Go1oNBq9Dzc1xFG0jocPH5awsDCxt7c3meS4LDEUFBRIYWGhREdHi6enp7i6ukr79u1l27ZtImL880nkdhz9+vWT3r1767WBoKAgiY2NlZMnT+rNxiksLJTNmzeLRqNRxrmZyjl1rzhOnDihd/O/zz//XMLDw2XixInKOh3GjqGoDz74QDZs2CDvvfeeeHt7y/Tp00VE9G4muW/fPqV9m9J7kZOTI97e3uLj46Nsmzt3rrzxxhsSFBQkUVFRkpmZKSIif/zxhwwYMEC6du0qzz333CNvG6WNaSzrfZWMNb6z5GULCQCU6939+vVT1rN4+eWX0a5dO+zfvx/Ozs5KN6FWq0W9evWUVV+LPocpuXbtGm7cuIGQkBDY2Ngo9ff29sZvv/2mrGSp2z5mzBi948UEujPPnTuHCxcuYPr06XqriDZq1AhXrlwBoN/d37hxY7i5uWHmzJno1auXyax8XJY4dHUsKChAbm4ucnNzsXbtWjzzzDNGXUlUp6zvhUajQVBQEJ5++mkkJyfD1tYW1atXN4nzCQCuXr0KT09PPPPMM0obWL9+PX766Sdcv34dCQkJ8PX1xejRoxEUFAQLCwvY2Nhg165d6Nixo8mcU2WJo2XLlhg5ciR69uyJkSNH6h1vKu+HTmpqKvbt24fIyEhkZmZi+/bt+OWXX7B7925cunQJdevWRdOmTeHn54cJEyYgODjYZN6L06dPw9raGk888QR+//13fPnllzh69Cjq16+PihUrYvDgwRg1ahQmTJgANzc3REVFAQByc3NhY2PzyN4L3Wd9VlYWFi9ejOvXr6Nhw4bo1asXnnjiiTJ9zhhtfOcjTZdUSje6XTcK/u6emMLCQjl79qySTZu6n376SbkfhS7D3r59u7Rq1UpE7mTRRWdUGPvXzN3Wrl2r3FtD90tzypQp0qdPHxHRX5EzJydHea9M4ZdZUWWNQ6foDAxTieN+Meh+nelu8maqLl++rLSHAwcOiEajkU8++UQSEhJk79690qFDBxk1apTB9wt71MoaR0FBgVJvU6q/yJ36bN26VQYMGKBsb9u2rdjY2MjAgQOVz9u8vDxlXSRTahciIjExMdKrVy9xcHAQLy8vOXv2rNLz/dVXX4mVlZVER0frHWOM+mdkZEjDhg2lU6dO4unpKV5eXlKnTh2JjY0tVtaU/n2ZwJRR0TdNl8TUr19fEhIS5PPPPxcPDw+9efum6O4Tr+gH8aZNm6RevXrKh8I333wjw4YNM+nbH4jox/Dhhx9K165dlb+joqL01q0xZWWJwxSmrt/L/WIoujiXqbt8+XKxdTeGDRsm3t7eJrWY2P2oPY4TJ04oSzdERERIxYoVpVevXtKmTRuZNGmSyUxbv1vRz9qff/5ZBg0aJFu2bClWzsPDQ954441HWbUSjRo1Sjp06CAFBQWSn58vZ86ckRdeeEEqVaok27dvFxH99n3ixAnlu8GYn0uchVRGRbvGXF1dsWzZMjRt2hSNGjXC6NGjMXbsWDg7Oxuxhvd3d/de0cssFSpUgK2tLSpVqoQ1a9bgxRdfRNeuXWFvb/+oq2kQ3ZL6gP5N9latWoUXXngBlSpVMmb1yqwscRh76vr93C8GOzu7Um+maWrq1q2Lbt26AbizdIKdnR06dOhQ6g0DTZHa46hZsyaqVauGt956Cx9++CG2bNmCrVu3wsfHB9999x3+/fdfY1exRLrZUgDQtWtXTJ48GR07dlT2iwjS0tJQrVo1+Pj4GKuaihs3buDJJ5+EpaUlrKys0KxZM6xYsQIvvvgiQkJCcPLkSWXWUVZWFp5//nkMGDAAwAO8MWM5mPYnoglzcXFBq1atUFBQgG3btmHw4MEmd/24LHR1trS0hIuLC1avXo3BgwdjzZo1CAkJUUVMug/mgoIC1KlTB9u3b8eQIUOwdu1a9OvXTxUxAOYRhznEcDcLCwusXLkS33zzDXr16mXyiWRp1BiHk5MTatasiRUrVmDt2rVKMrZw4UJ88803eusjmZqiSUzTpk1RrVo1vX2bN2/GpUuXTCKBsbe3xy+//KK0X61WC2tra3z22Wfo3LkzhgwZgszMTFhYWKBSpUr4/PPPAQAXL140ZrU5Bqa8Nm7cKBqNRtatWycipnft1VDff/+9MpJfdy8ktcU0a9Ys0Wg0YmVlJatWrRIR9cUgYh5xmEMMIiI7d+5Upnzr2roaqTmOEydO6E1lV8tlyNL88ssvMn36dLGzszP6bEJde9y3b5/4+PjIpEmTlDE6uktDP/zwgzRs2FDvPUhISJAhQ4YY/RKe6fchPkRLly5FpUqVEBISYvCxFSpUQExMjN4dNo096v2/qFKlCmxsbLBp0yb06NFDlTHZ2dkBADZv3oxnn31WlTEA5hGHOcQAADk5OYiLi0NUVJTSLtQWA6DuODw8PPT+VstlyNIkJiZi06ZNSk+YMd8L3eu2bt0aXbt2xY8//ogqVaogLCxMacNubm7Iy8tTFkIUETg7O+PLL79UFt4zFo2ICvt0H4Bt27YhODgYmzZtQnBwMAAUW8G1rEzlw0BXj/LW58KFC3BxcTGJL5vyxFBYWIizZ8+iefPmJhEDYB5xqD2G/9oubt68qTflm3GU33+NwdSUN46kpCQ4Ojoa/ZwC7nzvZWdnY/To0Th+/DhatmyJ2bNno7CwEOvXr8f777+PmJgYNGnSRDnOFN7Dxy6Bkdszr/Daa68hLy8Pq1evVubrm/L11HvRzePXnVC6E7KsJ9jd5Y1xYpaWPOpiM5SxGpc5xGEOMQDF49DVo6xxmMIHNGAecfzXGEzFg24bj0Jp73/RWHT/n5OTg88++wwbNmzAqVOn4O3tjbNnz+LLL78s15WKh+2xS2B0Pv/8c0yaNAkzZ87EyJEjMWfOHIwaNcrY1TKY7sTLyMjA+PHjkZqaCgB455134O3trYqBeg9iISVTYA5xmEMMgP49miIiIpTehxEjRqB+/frGrl6ZmUMc5hADoM62oavzrVu3cOjQIeTn58PV1RUuLi56+4v+f2FhIW7evIkffvgB1atXh5OTE3x9fU0yvsc2gcnKysKgQYPw3XffoV+/fli3bl2x7rzSfjWYmqysLHh6eqJp06ZwcHBAYmIiYmJi8OGHH2Lw4MGoW7cugDu9T4b0zjwqmZmZ8PLyQv369ZW74V67dg0bN25EmzZt9MqaWt2LMoc4zCEG4HYcnp6eaNSoETQaDdLS0nD69Gl8+eWX6N27t97N/sp7+fhRMIc4zCEGQF1tQ/f6GRkZCAgIQIUKFXDy5En4+Pigffv2mD17NoA7d5O/X12NHU+J/tMQYBW7fv26NGzYUDw8PKRBgwayY8cOESm+2Nv+/fvlq6++MkYVy2z27Nni5+ent+2TTz6RGjVqyMSJE/XufSIi8vvvvys3CjOVWSFqXUjpbuYQhznEICIyefJkCQgIEJHb9crMzJTw8HCxsrKShQsXFlsZ+OjRo3L8+HGlvKkwhzjMIQYR9bWN/Px8CQwMlOeee06uXr0qhw8flk8++URq1aol/fr1U8rp6vb1118rcajBY5XAFP2yTk9Pl127dskff/whoaGh4uzsrCQxurL5+fnyv//9T+zs7OT06dPGqHKZfPzxx9K2bVvJzc3Vm2I4d+5cqVKlinzxxRcicmeZ906dOkmdOnWMUtfSDBo0qNiKlLm5uTJs2DCpXLmynDhxQkTufPg1bNhQunXrZoyq3pM5xGEOMYiIjB49WrkLcNEvj8mTJ4u1tbXS3nVfRj4+PuLl5WWMqt6TOcRhDjGIqK9tpKamir+/v94qwFlZWbJ9+3apWbOmvPDCC8r2xMRE6d27tzg6Osq1a9dM5sftvTw2CYzuiz0lJUXOnDkjiYmJyr4jR47Iq6++Ks7OzsWyzz///FOefvpp2b9//yOtryEWLVokVatWVXpaii4RPmXKFLGzs5OLFy8q23JycsTPz082bNjwyOtamrfeekvc3NyUDzfdfzMzM+W5556Tli1bKvdvErm9bk23bt0e+e3b78cc4jCHGEREpk2bJk888YRy/6iiv/KHDRsmTk5Oyj10REROnTolbdu2lQMHDjzyut6LOcRhDjGIqK9tZGZmSt26dWXq1Kl62wsKCmTz5s3i6Ogon3zyibI9NjZW707fps40LzQ+BJaWljh27Bjat2+Prl27onfv3vjoo48AAD4+Phg5ciSefvppjBw5Etu2bVOOa9KkCYKDg1GnTh1jVf2+Xn31VXh7e6N3795IT0+HtbU1bt26BQB499134ejoiJ9//hnA7RVSLS0tMXz4cLRr186Y1QZwZyVg3VLzU6dORW5urrJsdaVKlfDmm28iNTUV//zzj3Kcp6cnnJycULVqVWNVXY85xGEOMQB34hg8eDBcXFwwfPhwZGVloUKFCsjLywMAjB49GtbW1jh06JBynJOTE7p27ao3VdSYzCEOc4gBUEfbKCwsBHBnNWwAqFSpEgYNGoTdu3fj119/VbZbWloq34MHDx5Ebm4uAKBNmzZo2bLlQ6/rA2PE5OmhKbriZ9EMuU2bNjJx4kT5/vvvZdy4cdKoUSMZM2aMclx8fLwMHDhQnJycJCUlRbnkogbbt2+X1q1bS48ePZQ7A4vcjtvT01NZXVfH1FazzM3NlXfffVf8/Pxk5syZyi81kds3z6xXr57SC6Z7b3UrRpoSc4jDHGIQuX2OL1iwQFq3bi1vvPGG3i/jlJQUadSokXz//fcicicOU7xjtjnEYQ4xiJhu29B9nqempsprr70mf/31l7Lv4MGD4uXlJYMHD5b4+Hi94xYuXCj16tXT6/1SE7NMYHRvpu4EunDhgkyePFmGDx8uN2/eFBGRf//9Vz777DNxcXHRS2KOHDmit2SyKbj7WmRJ1ybz8/Nl7dq14ufnJ82bN5dDhw5JfHy8rFixQqpVqyZxcXGPqroG0yWZWVlZMmzYMPH395c33nhDsrOzJSMjQ5YsWSLOzs7y559/6h1natdozSEOc4hBRP/L4+OPPxZ/f3/p0aOHJCYmyuXLl2XFihVSu3Ztk2vrd1NLHPd6/9USw/2YatvQfd+lpaVJnTp15JlnnilWZuvWreLi4iKDBg2Sn376Sdn+ySefSMeOHZWBxmpjdgnMxo0bxc/PTwoKCqSgoEDy8vLkgw8+kBo1aoi7u7te2evXr8tnn30mjRs3NolbmpdEd3LeunWr1GuTugZSUFAgsbGx0qtXL7G3t5eGDRuKs7OzfPPNN4+svveq392KDubT/X92drZ89NFH4uPjI9bW1tK6dWuxt7c3ifu3lBZH0e2mHofufLpX76KpxyBS+oyOoj2LujK5ubmydu1aeeqpp6RChQrSvHlzeeKJJ4zeLu52v3ZiqnHo/s1zc3Pl3LlzJZYx9RhE1Nm+dXVLT08XV1dXvZlFt27dkuzsbOX92bZtm7Rv317c3d2la9euMmTIELGxsTGpsZCGMrt1YHbt2gWtVouuXbsq89b/+OMPrFy5EnPmzMG0adMwbtw4pfyNGzfw9ddf4/PPP8fOnTvh7u5uxNrr062HkJ6ejqCgILRt2xYjR45UFiEq6u6VIA8ePIjKlSvD2toaTZs2NdqS1eaykJKubnl5ebhw4QLS09Ph5uaGKlWqlFrW1OLQ1SstLQ2enp5Yv349/P3971nW1GIoWresrCzMnz8f2dnZqFGjBt5+++1SywK329OPP/6IqlWromrVqmjRooVJxFG0jqXVx1TjKPoZ9eyzzyIoKAivvPKKsvZUUaYaQ9G6qbF95+XlwdXVFU888QTi4+MBANOnT8fRo0eRlJSERo0aYd68eahWrRqOHz+OM2fO4Ntvv0Xjxo3RuXNnBAUFmeYaL2VhlLTpETh//rx06dJFudb6zz//yP/+9z9p1qyZzJo1S6/s9evX5fz580ao5f1lZWWJu7u79OrVS/79998SfyWYWve9TtFfB08++aR4e3uLlZWV+Pn5SXh4uFKusLCwTDEYK07dr6709HRp166dtGrVSjQajQwYMED27NmjV9ZU4yjazdywYUPp3r17ieXKesdoY70XRc8pd3d36dChg7Rv317q1q0rEREReuVMtV2I3DmnMjIy5MUXX5RFixYV26djynGI3B5n5+bmpqw1cnd9CwoKTDoGc2jf/fv3l9q1a8tPP/0kAwcOlCeffFLee+89efvtt8XHx0dcXFz0xkYWZept5V7MNoHZt2+fNGzYUPz9/SUzM1NERP766y8ZN26cuLm5yWeffWbcCt6H7oT68ssvJTAwUNm+fv16+eKLL2TevHl606VFRCIjI2XmzJmPtJ73Yy4LKekGQ4eEhMixY8fkxx9/lBYtWuiNnyrKFONIT0+XBg0aSN++fZVtqampcuHCBb1zSXfumWIMIrcHd3bu3Fn69esnhYWFcu3aNRk2bJhMnDixxPKfffaZrF279hHX8v6ys7OlQ4cOotFopGvXrrJixQplX0mXyEwtDt15MmPGDL21TqKjo2X9+vWyfv36YseYWgw6amvfGzZsKDYx48UXXxSNRiP+/v5643BOnjwp7u7uMmrUKFUnKyUx2wSmsLBQdu3aJb6+vuLr66uXxEycOFHq1q2rN//dVE2ZMkUGDBggIiIDBgwQT09PadmypdSsWVN8fX2V1Spzc3Plww8/FI1GI//8848xq6zHHBZSKiwslIkTJ0qPHj30BrstW7ZMnnjiCbl+/bpe+aSkJJOLo7CwUIKDg0Wj0SjbRo4cKZ06dRIrKyvp2bOnzJ07V9lnqu+FiMjff/8tvr6+cujQIWXb+PHj5fnnn5dRo0bJ+PHjlYQsNTVVhg0bJhqNRhITE01qVdcFCxZIhw4dZOvWrRIcHCwdOnSQ5cuXK/uL1jUjI8Nk4xg5cqS8/fbbIiISEhIi3t7e4urqKvb29tKtWzdJS0sTEZGbN2+aZAxqbN8LFiyQoKAgycrK0hvPNmHCBJk5c2axRCUoKEj69+//yOv5sJllAqObfldYWCj79+8Xb29vvSTm7Nmz8u6778ru3buNWc170p1848aNk2eeeUbi4uKkTZs2cuHCBUlNTZXU1FTx9PSUp556SjkmKyur1EF0xmIOCyllZmbKu+++K/PmzdO73BUbGyt169Yt9gEncvsWFKYUR35+vmzatElq1qwpI0aMkBEjRoiPj48sXrxYVq9eLa+++qp4eHjIwoULlWNM8b0QEbl8+bJUr15dOafWrVsnGo1GXnzxRRk+fLg4OTnp9VpeuHBBWSHVlJw5c0bmz58vIre/FJ9//vliSUzRL6Fz586ZVBy6ur300ksyZMgQiYmJkVatWsm5c+ckISFB4uPjxcXFRXr16qUcY4rvhRrb96+//ioBAQHK0IecnBxlny5hFLmTBA8ePFimTJkiIqZ/SdIQqk1gSupCE7kzuyI/P182btwoIqL0xPj7+ytjYnTz9039zTx+/LjUr19fOnbsKH379pW8vDxlPMOFCxekRo0a8sMPPxQ7zhhxlfaa48aNk44dOxZbzTg9PV3eeOMN6dOnj0mtI1JSHCdOnFDOGd2HwoULF8TNzU2Zmi8iJjOWqrSp9tu3bxd7e3txcXGRP/74Q9l36dIl6du3r/Tr16/YpUljKimO7OxsmT59ulSsWFG6dOkiGo1GPv30U2X/qVOnpFKlSvLtt9+W6fkehdLej6K9EJcvXy6xJ2bfvn1ler6HrbTX3LFjh/j4+Ej37t1lxIgRevt2794tTk5OJS7jYKz3oqQ1sE6fPq2q9i0i0qVLF70p06XNLFyxYoXUrFlT9u7d+6iq9siodiXe5ORkrFy5EtnZ2co2rVYLKysraLVatGnTBhs2bAAAdOjQAbNnz0ZaWhratWsHrVYLW1tbAI9+Vk5JdCsolvR3gwYN0K9fP5w4cQI3btxAhQoVYGlpCa1Wi8LCQjg5OaFGjRrFntMYs400Gg0KCgpw/fp1/Pvvv0oczz33HFJTU7F48WIcO3ZMOaZKlSpo0aIF4uLikJWV9UjrW5q747h27RoKCwvh4eEBOzs7vTvlZmVlISkpCWlpaQCA1atXY+DAgbh06ZIxQygWw/Xr11FYWAgrKyt07doVGzduxAcffIAGDRoAuD3zpV69emjWrBmOHz+OgoICo9Zfp7Q4KlasiLfeeguHDx/GzJkz4efnhxdeeEE5zsLCAvXq1UOtWrWKPaexZn9pNBrk5eXh1KlTOHToEHJzc2FlZaXMDtRqtahbty7mzZuHGjVqYOnSpVi1ahUiIyPRsWNHnDx50qhxlBSDbiXdpk2bolGjRti1axdu3rypd1zlypVhZ2eHypUrF3tOY7wXIgJLS0tkZGTgyy+/VLa7u7urpn3rVtp9//33kZSUhFmzZgGA3vkEAPHx8Xj33XcRFhaGhQsXon379kap70Nl3Pyp/O7uQiu6eJ2Xl5cEBQXpjbouLCyUmJgYk7unUdHZCK+//nqxeERudzXrBmjpBpVlZ2fLunXrpHHjxnLmzJlHXu+iio7i79Onj/j4+Iinp6e8+eabkp2dLSK31yAw9YWUSovjrbfeKrGH6PTp01KtWjVJT0+XtWvXikajKbFX8FG6Vwy6buZbt27pxaP7JTxmzBgZMmSISaxAfa9zqmh3+dWrV6VJkybKKq4iIitXrpTGjRvLqVOnHnm976aLIy0tTTp37iweHh7i7OwsXbp00YtD5E6bv3z5svTt21ecnJxEo9EYfY2U0mLo3Lmz0r7j4uKkbdu2YmVlpUwk0Gq1snr1amnRooXJjMvTarVSWFgofn5+otFo5H//+5/evqJMsX0XlZqaqtwdu2iPne6GmDt27JDXXntNGWxs6lcbykO1CYxI8S40rVYr165dkzFjxuglL6b+xmVlZUnr1q1Fo9FIly5dlBt/Ff0iOXfunEycOFHs7OzE1dVV2rRpI/b29hIVFWWsaovInX/bjIwMcXNzkz59+sjGjRtlypQpEhAQIPPmzVPK/vDDDya7kNL94liwYEGxY86fPy9t2rSRWbNmiYWFhTK7wtiXKQyJQeT2mLFly5ZJ9erVJTo6+lFWuURljaOwsFD+/fdfefbZZ+Xpp5+W4cOHy4QJE0q9fPSo3R3HgAEDJC4uTjZs2CCNGzfWu/R7980Bp06dKhqNRrZt26Y8lzEvG5UWQ9GZOHFxcfLSSy9JlSpVxMPDQ4KCgqRy5colzkYytjfeeEMGDRok1apVkzfffLPEMqbWvkuSkJAgffr0kU6dOhVbHiQvL0/5YWhus490VJnA6Br53r17pWXLlnrXv9WmoKBAxo4dK4GBgRIZGSmBgYHSoUMHpSemaBKTk5Mjf/31l0RERMiKFSskNjZWRIzfoPLz8+XVV1+V559/Xu/+Jf369dMbwCdy+1fNunXrpG/fvjJu3DjlC9PYMYgYFofI7bEWGo1G71eysT8oDI1h37598u677+olw2p7L2JjYyUsLEy8vLwkJCTEpH5x5uXlSa9evYqNLXr66adl8+bNsmvXLrlx44beMatWrRKNRqN88Rv7nLpfDL/88osy0PXq1avy66+/yujRo2Xu3LnKOiqm8F6I3KnH66+/LmPGjJHvv/9ebGxsZOTIkSIiEhMTo3z2mmL7LsnFixclLCxMWrVqJc8884wkJSXpDeQ1Z6pMYHTu1YWmJosXL5aZM2dKQUGBfPfdd9KlSxe9JOZ+8Ri7QSUnJ8uIESPkq6++EpE7SdfGjRulXbt2kpeXd8/LEqbyoVCWOIq+FxcvXhQ/Pz/ll7QpxGFoDCdPnpT3339ffvnlFxExjRhEDD+ncnJyJD8/X29wvinEkZeXJ5999pleb8uGDRvEyspK3N3dxc3NTZ544gm9+wBlZ2fLjz/+KCKmEUdZYqhZs2axGwUWZewYdHQ/fqOiomT06NEicnsWW8WKFaVVq1ZSt25d5ZJ8QkKCybXv0ty8eVP27t0r7du3lzZt2kjnzp1lz549JnlDzAdJ1QmMyL270ExVSTOoil4P37Jli3Tt2lU6dOigXE4qKCgwqTuGFo0hJydHduzYoVwP14mKihIPD48S709jKsobh+7/r127JiLG/XD7rzEUPfeM+QFtjueUyO01mnT1PXjwoDg6OsqcOXPk/PnzkpqaKt27d5c2bdqIVqstluibwjklYlgMpqS02ap79uwRDw8P5fwKCQkRKyurYitU6z5zTTl5udu+ffvk66+/liVLlhQbZ2VuVDsLScfZ2RmfffYZPDw8sG7dOvTs2RPJycnIzMw0dtVKVXQGlfz/qHFbW1tl1s7zzz+PkSNHokKFChgyZAguXryIhQsXokOHDsjIyDBm1RW6GLKysmBra4sePXqgYsWKeqPgLSws9GZUrVq1Cn369FFG0ZuC8sbRu3dvaLVaVK9eHcDtGRXGmtH2X98La2trZbsxZ+WZ2zmlmyFpbW2t3AOoZs2aWLVqFcaMGQMXFxfY29sjICAAeXl5KCgogJWVld5zGfucKk8MpqSk2aqFhYWoU6cObGxsULFiRXz22WfYtm0bRo8ejQMHDmD48OFKWVNo32Wlayft2rXD0KFDERoaqsy2NVeqT2AAoH79+pg+fTrmzJmDjIwMBAcHo1evXti7dy/y8/ONXb1ivL29kZ6ejpSUFGg0GuUD2dLSUjkJdUmMjY0NAgICEB4ejnfffbfEm4sZgy6Ga9euAYDywVW0kdesWRO2trawtLTE8uXLERoain79+inTFE1BeeMYMGAALCws9G6gaSzljaF///6wsLAwmffD3M6plJQUAHeWRRARNG7cGIGBgcrfAJCTk6PczLBosmZM5hADUHIclpaWaNy4MVxdXdGtWzdMnDgRUVFR+PTTT7Fw4UIsW7YMp0+fBmAay2yUlZrq+sAYodfnoVNDF9rdM6iKdoMX7ap8+eWXi81GMBX3ikFE5Pvvv5d27drJV199JZaWliY5il/EPOIwhxhEHp84dJYvXy7VqlXTW1rAVJhDDCLF48jLy5OcnBwJDg6W2rVry3fffafsKygokMTERGNUk8rBrBKYuz/ETO1DTeTeM6juTmKWLVsmGo1GmRJqKtdhyxrDhg0blFH8Rb9oTCEGEfOIwxxiEHn84oiPj5fx48dLtWrVTGr2l4h5xCBy/9mqycnJevfTupspxUIlM51+1wdADV1ouq5uT09PtGvXDt999x1WrFih7NN11Wo0GuTk5GDLli3o16+f0i1rCjGWNYYGDRqgadOm2Lp1KwYOHGhSMQDmEYc5xAA8XnEUFBQgJSUF2dnZ+OabbzBgwACTuuxiDjEA944DAGrXrg1fX99SjzeVc4pKpxFTO+seI5cuXcLo0aNx48YNPPvss3jnnXcAQG85awAm9yFdVGkxAEBmZiaSkpLQuHFjk44BMI84zCEG4PGIo6CgADk5OahSpYpJx2EOMQD3joPUiwmMkSUkJODTTz/FwYMHUbt2bSxduhSVKlVC5cqVISIm+4FQVEkx2Nrawt7e3thVM4g5xGEOMQDmHUfFihVRtWpVY1etzMwhBuDen7WkTkxgTEBqaipOnDiB9957D/n5+ahYsSLef/99BAQEoEKFCsauXpmYQwyAecRhDjEAjMOUmEMMgPnEQbcxgTEx+/fvx9mzZ6HRaPDiiy+qch6/OcQAmEcc5hADwDhMiTnEAJhPHI8zJjAm4u7LRWq5fFSUOcQAmEcc5hADwDhMiTnEAJhPHGQmC9mZA3NoQOYQA2AecZhDDADjMCXmEANgPnEQe2CIiIhIhdgDQ0RERKrDBIaIiIhUhwkMERERqQ4TGCIiIlIdJjBERESkOkxgiMgsuLi4IDIyUvlbo9Fgy5YtRqsPET1cTGCIqFxiY2NhaWmJnj17GrsqJbp69Sp69Ohh7GoQ0UPCBIaIymXJkiUYOXIk9u7di8TERGNXpxhHR0fY2NgYuxpE9JAwgSEig2VmZiIqKgpvvPEGevbsieXLl+vt37ZtG5o0aQJbW1t07twZK1asgEajQWpqqlJm//79aN++PSpWrAhnZ2eMGjUKWVlZZXr9lJQUPPfcc6hYsSJcXV2xZs2aYmWKXkLKy8tDWFgYnJycYGtriwYNGiAiIkIpm5qaihEjRsDBwQG2trbw8PDA999/b/C/CxE9OkxgiMhg69evR7NmzeDm5oZBgwZh6dKl0C3qff78efTr1w/BwcE4duwYRowYgffee0/v+L///hvdu3dH3759cfz4cURFRWH//v0ICwsr0+u/8soruHTpEnbt2oUNGzZg4cKFSElJKbX8559/jm3btmH9+vU4e/Ys1qxZAxcXFwCAVqtFjx498Ouvv2L16tU4ffo0ZsyYAUtLy/L94xDRoyFERAZq27atREZGiohIfn6+1KpVS3bt2iUiIuPGjRMPDw+98u+9954AkJs3b4qIyNChQ2X48OF6Zfbt2ycWFhaSk5Nzz9c+e/asAJC4uDhl25kzZwSAfPbZZ8o2ALJ582YRERk5cqR06dJFtFptsef78ccfxcLCQs6ePVuW0InIRLAHhogMcvbsWcTFxWHgwIEAACsrK4SEhGDJkiXKfj8/P71jWrdurff3sWPHsHz5clSuXFl5BAUFQavV4vz58/d8/TNnzsDKygq+vr7KtmbNmqFatWqlHvPKK68gPj4ebm5uGDVqFH766SdlX3x8POrVq4emTZuWKX4iMg1Wxq4AEanLkiVLUFBQgDp16ijbRAQ2NjaYP39+mZ4jMzMTI0aMwKhRo4rtq1+//gOrq07Lli1x/vx5/PDDD/j5558xYMAABAYGYsOGDahYseIDfz0ieviYwBBRmRUUFGDlypWYPXs2unXrprcvODgY33zzDdzc3LBjxw69fb///rve3y1btsTp06fRuHFjg+vQrFkzFBQU4PDhw0pPz9mzZ/UGCJekatWqCAkJQUhICPr164fu3bvjxo0b8PT0xOXLl/Hnn3+yF4ZIRZjAEFGZff/997h58yaGDh0Ke3t7vX19+/bFkiVLsH79esyZMwfjxo3D0KFDER8fr8xS0mg0AIBx48ahTZs2CAsLw2uvvYZKlSrh9OnT2Llz5317cdzc3NC9e3eMGDECX3zxBaysrDB69Oh79qTMmTMHTk5O8PHxgYWFBb799ls4OjqiWrVq6NixIzp06IC+fftizpw5aNy4Mf744w9oNBp07979v/2DEdFDwzEwRFRmS5YsQWBgYLHkBbidwBw6dAgZGRnYsGEDNm3aBE9PT3zxxRfKLCTduiyenp7Ys2cP/vzzT7Rv3x4+Pj6YMmWK3mWpe1m2bBnq1KmDjh07ok+fPhg+fDhq165davkqVargk08+QatWreDn54cLFy5gx44dsLC4/RG4ceNG+Pn5YeDAgWjevDn+97//obCw0NB/HiJ6hDQi/z/3kYjoIfnoo4+waNEiXLp0ydhVISIzwUtIRPTALVy4EH5+fqhZsyZ+/fVXfPrpp2Ve44WIqCyYwBDRA/fXX3/hww8/xI0bN1C/fn288847mDBhQpmO3bdv3z3vYZSZmfmgqklEKsZLSERkUnJycnDlypVS95dn5hIRmR8mMERERKQ6nIVEREREqsMEhoiIiFSHCQwRERGpDhMYIiIiUh0mMERERKQ6TGCIiIhIdZjAEBERkeowgSEiIiLV+T/mbbNqY1COpAAAAABJRU5ErkJggg==",
>>>>>>> 6c701644f6cc21bda7b47781abc6d3b67cf0b0d2
      "text/plain": [
       "<Figure size 640x480 with 1 Axes>"
      ]
     },
     "metadata": {},
     "output_type": "display_data"
    }
   ],
   "source": [
    "# let's check that we have equal frequency (equal number of observations per bin)\n",
    "X_test['Age_disc'].value_counts(normalize=True).sort_index().plot.bar(rot=45)"
   ]
  },
  {
   "cell_type": "markdown",
   "metadata": {},
   "source": [
    "If some intervals have less observations, which can happen with skewed distributions, to make the value spread more homogeneous, we could try using less intervals."
   ]
  },
  {
   "cell_type": "code",
   "execution_count": null,
   "metadata": {},
   "outputs": [],
   "source": []
  }
 ],
 "metadata": {
  "kernelspec": {
   "display_name": "Python 3",
   "language": "python",
   "name": "python3"
  },
  "language_info": {
   "codemirror_mode": {
    "name": "ipython",
    "version": 3
   },
   "file_extension": ".py",
   "mimetype": "text/x-python",
   "name": "python",
   "nbconvert_exporter": "python",
   "pygments_lexer": "ipython3",
   "version": "3.11.4"
  },
  "toc": {
   "base_numbering": 1,
   "nav_menu": {},
   "number_sections": true,
   "sideBar": true,
   "skip_h1_title": false,
   "title_cell": "Table of Contents",
   "title_sidebar": "Contents",
   "toc_cell": false,
   "toc_position": {},
   "toc_section_display": "block",
   "toc_window_display": true
  }
 },
 "nbformat": 4,
 "nbformat_minor": 2
}
