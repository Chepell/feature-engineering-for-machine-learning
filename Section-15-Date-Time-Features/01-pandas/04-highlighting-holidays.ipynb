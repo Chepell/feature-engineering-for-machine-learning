{
 "cells": [
  {
   "cell_type": "markdown",
   "id": "4e0042ce",
   "metadata": {},
   "source": [
    "# Flagging holidays\n",
    "\n",
    "In this notebook, we will discuss 3 methods to flag holidays in our data:\n",
    "\n",
    "- Manually\n",
    "- Using the `holidays` package\n",
    "- Using pandas\n",
    "\n",
    "We will use the **online_retail dataset**, which you can obtain following the instructions in the notebook: `02-create-online-retail-II-datasets` in the **01-Create-Datasets** folder."
   ]
  },
  {
   "cell_type": "code",
   "execution_count": 15,
   "id": "edb15f46",
   "metadata": {},
   "outputs": [],
   "source": [
    "import numpy as np\n",
    "import pandas as pd\n",
    "import matplotlib.pyplot as plt"
   ]
  },
  {
   "cell_type": "markdown",
   "id": "7e9ceba3",
   "metadata": {},
   "source": [
    "## Load data and prepare data"
   ]
  },
  {
   "cell_type": "code",
   "execution_count": 16,
   "id": "46419a3f",
   "metadata": {},
   "outputs": [],
   "source": [
    "df = pd.read_csv(\"../../data/online_retail_II.csv\")\n",
    "\n",
    "# Rename columns\n",
    "df.columns = [\n",
    "    \"invoice\",\n",
    "    \"stock_code\",\n",
    "    \"description\",\n",
    "    \"quantity\",\n",
    "    \"invoice_date\",\n",
    "    \"price\",\n",
    "    \"customer_id\",\n",
    "    \"country\",\n",
    "]\n",
    "\n",
    "df[\"invoice_date\"] = pd.to_datetime(df[\"invoice_date\"])\n",
    "df.set_index(\"invoice_date\", inplace=True)"
   ]
  },
  {
   "cell_type": "code",
   "execution_count": 17,
   "id": "51cfe4fa",
   "metadata": {},
   "outputs": [
    {
     "ename": "KeyError",
     "evalue": "\"['invoice_date'] not in index\"",
     "output_type": "error",
     "traceback": [
      "\u001b[1;31m---------------------------------------------------------------------------\u001b[0m",
      "\u001b[1;31mKeyError\u001b[0m                                  Traceback (most recent call last)",
      "Cell \u001b[1;32mIn[17], line 13\u001b[0m\n\u001b[0;32m      9\u001b[0m mask \u001b[39m=\u001b[39m (\u001b[39m~\u001b[39mdf[\u001b[39m\"\u001b[39m\u001b[39mcustomer_id\u001b[39m\u001b[39m\"\u001b[39m]\u001b[39m.\u001b[39misnull()) \u001b[39m&\u001b[39m (\u001b[39m~\u001b[39mdf[\u001b[39m\"\u001b[39m\u001b[39mis_cancelled\u001b[39m\u001b[39m\"\u001b[39m])\n\u001b[0;32m     11\u001b[0m \u001b[39m# resample for total daily revenue\u001b[39;00m\n\u001b[0;32m     12\u001b[0m df \u001b[39m=\u001b[39m (\n\u001b[1;32m---> 13\u001b[0m     df\u001b[39m.\u001b[39;49mloc[mask, [\u001b[39m\"\u001b[39;49m\u001b[39minvoice_date\u001b[39;49m\u001b[39m\"\u001b[39;49m, \u001b[39m\"\u001b[39;49m\u001b[39mquantity\u001b[39;49m\u001b[39m\"\u001b[39;49m, \u001b[39m\"\u001b[39;49m\u001b[39mrevenue\u001b[39;49m\u001b[39m\"\u001b[39;49m]]\n\u001b[0;32m     14\u001b[0m     \u001b[39m.\u001b[39mresample(\u001b[39m\"\u001b[39m\u001b[39mD\u001b[39m\u001b[39m\"\u001b[39m, on\u001b[39m=\u001b[39m\u001b[39m\"\u001b[39m\u001b[39minvoice_date\u001b[39m\u001b[39m\"\u001b[39m)\n\u001b[0;32m     15\u001b[0m     \u001b[39m.\u001b[39msum()\n\u001b[0;32m     16\u001b[0m )\n\u001b[0;32m     18\u001b[0m df\u001b[39m.\u001b[39mhead()\n",
      "File \u001b[1;32mc:\\Users\\avvoy\\AppData\\Local\\Programs\\Python\\Python311\\Lib\\site-packages\\pandas\\core\\indexing.py:1097\u001b[0m, in \u001b[0;36m_LocationIndexer.__getitem__\u001b[1;34m(self, key)\u001b[0m\n\u001b[0;32m   1095\u001b[0m     \u001b[39mif\u001b[39;00m \u001b[39mself\u001b[39m\u001b[39m.\u001b[39m_is_scalar_access(key):\n\u001b[0;32m   1096\u001b[0m         \u001b[39mreturn\u001b[39;00m \u001b[39mself\u001b[39m\u001b[39m.\u001b[39mobj\u001b[39m.\u001b[39m_get_value(\u001b[39m*\u001b[39mkey, takeable\u001b[39m=\u001b[39m\u001b[39mself\u001b[39m\u001b[39m.\u001b[39m_takeable)\n\u001b[1;32m-> 1097\u001b[0m     \u001b[39mreturn\u001b[39;00m \u001b[39mself\u001b[39;49m\u001b[39m.\u001b[39;49m_getitem_tuple(key)\n\u001b[0;32m   1098\u001b[0m \u001b[39melse\u001b[39;00m:\n\u001b[0;32m   1099\u001b[0m     \u001b[39m# we by definition only have the 0th axis\u001b[39;00m\n\u001b[0;32m   1100\u001b[0m     axis \u001b[39m=\u001b[39m \u001b[39mself\u001b[39m\u001b[39m.\u001b[39maxis \u001b[39mor\u001b[39;00m \u001b[39m0\u001b[39m\n",
      "File \u001b[1;32mc:\\Users\\avvoy\\AppData\\Local\\Programs\\Python\\Python311\\Lib\\site-packages\\pandas\\core\\indexing.py:1289\u001b[0m, in \u001b[0;36m_LocIndexer._getitem_tuple\u001b[1;34m(self, tup)\u001b[0m\n\u001b[0;32m   1286\u001b[0m \u001b[39mif\u001b[39;00m \u001b[39mself\u001b[39m\u001b[39m.\u001b[39m_multi_take_opportunity(tup):\n\u001b[0;32m   1287\u001b[0m     \u001b[39mreturn\u001b[39;00m \u001b[39mself\u001b[39m\u001b[39m.\u001b[39m_multi_take(tup)\n\u001b[1;32m-> 1289\u001b[0m \u001b[39mreturn\u001b[39;00m \u001b[39mself\u001b[39;49m\u001b[39m.\u001b[39;49m_getitem_tuple_same_dim(tup)\n",
      "File \u001b[1;32mc:\\Users\\avvoy\\AppData\\Local\\Programs\\Python\\Python311\\Lib\\site-packages\\pandas\\core\\indexing.py:955\u001b[0m, in \u001b[0;36m_LocationIndexer._getitem_tuple_same_dim\u001b[1;34m(self, tup)\u001b[0m\n\u001b[0;32m    952\u001b[0m \u001b[39mif\u001b[39;00m com\u001b[39m.\u001b[39mis_null_slice(key):\n\u001b[0;32m    953\u001b[0m     \u001b[39mcontinue\u001b[39;00m\n\u001b[1;32m--> 955\u001b[0m retval \u001b[39m=\u001b[39m \u001b[39mgetattr\u001b[39;49m(retval, \u001b[39mself\u001b[39;49m\u001b[39m.\u001b[39;49mname)\u001b[39m.\u001b[39;49m_getitem_axis(key, axis\u001b[39m=\u001b[39;49mi)\n\u001b[0;32m    956\u001b[0m \u001b[39m# We should never have retval.ndim < self.ndim, as that should\u001b[39;00m\n\u001b[0;32m    957\u001b[0m \u001b[39m#  be handled by the _getitem_lowerdim call above.\u001b[39;00m\n\u001b[0;32m    958\u001b[0m \u001b[39massert\u001b[39;00m retval\u001b[39m.\u001b[39mndim \u001b[39m==\u001b[39m \u001b[39mself\u001b[39m\u001b[39m.\u001b[39mndim\n",
      "File \u001b[1;32mc:\\Users\\avvoy\\AppData\\Local\\Programs\\Python\\Python311\\Lib\\site-packages\\pandas\\core\\indexing.py:1332\u001b[0m, in \u001b[0;36m_LocIndexer._getitem_axis\u001b[1;34m(self, key, axis)\u001b[0m\n\u001b[0;32m   1329\u001b[0m     \u001b[39mif\u001b[39;00m \u001b[39mhasattr\u001b[39m(key, \u001b[39m\"\u001b[39m\u001b[39mndim\u001b[39m\u001b[39m\"\u001b[39m) \u001b[39mand\u001b[39;00m key\u001b[39m.\u001b[39mndim \u001b[39m>\u001b[39m \u001b[39m1\u001b[39m:\n\u001b[0;32m   1330\u001b[0m         \u001b[39mraise\u001b[39;00m \u001b[39mValueError\u001b[39;00m(\u001b[39m\"\u001b[39m\u001b[39mCannot index with multidimensional key\u001b[39m\u001b[39m\"\u001b[39m)\n\u001b[1;32m-> 1332\u001b[0m     \u001b[39mreturn\u001b[39;00m \u001b[39mself\u001b[39;49m\u001b[39m.\u001b[39;49m_getitem_iterable(key, axis\u001b[39m=\u001b[39;49maxis)\n\u001b[0;32m   1334\u001b[0m \u001b[39m# nested tuple slicing\u001b[39;00m\n\u001b[0;32m   1335\u001b[0m \u001b[39mif\u001b[39;00m is_nested_tuple(key, labels):\n",
      "File \u001b[1;32mc:\\Users\\avvoy\\AppData\\Local\\Programs\\Python\\Python311\\Lib\\site-packages\\pandas\\core\\indexing.py:1272\u001b[0m, in \u001b[0;36m_LocIndexer._getitem_iterable\u001b[1;34m(self, key, axis)\u001b[0m\n\u001b[0;32m   1269\u001b[0m \u001b[39mself\u001b[39m\u001b[39m.\u001b[39m_validate_key(key, axis)\n\u001b[0;32m   1271\u001b[0m \u001b[39m# A collection of keys\u001b[39;00m\n\u001b[1;32m-> 1272\u001b[0m keyarr, indexer \u001b[39m=\u001b[39m \u001b[39mself\u001b[39;49m\u001b[39m.\u001b[39;49m_get_listlike_indexer(key, axis)\n\u001b[0;32m   1273\u001b[0m \u001b[39mreturn\u001b[39;00m \u001b[39mself\u001b[39m\u001b[39m.\u001b[39mobj\u001b[39m.\u001b[39m_reindex_with_indexers(\n\u001b[0;32m   1274\u001b[0m     {axis: [keyarr, indexer]}, copy\u001b[39m=\u001b[39m\u001b[39mTrue\u001b[39;00m, allow_dups\u001b[39m=\u001b[39m\u001b[39mTrue\u001b[39;00m\n\u001b[0;32m   1275\u001b[0m )\n",
      "File \u001b[1;32mc:\\Users\\avvoy\\AppData\\Local\\Programs\\Python\\Python311\\Lib\\site-packages\\pandas\\core\\indexing.py:1462\u001b[0m, in \u001b[0;36m_LocIndexer._get_listlike_indexer\u001b[1;34m(self, key, axis)\u001b[0m\n\u001b[0;32m   1459\u001b[0m ax \u001b[39m=\u001b[39m \u001b[39mself\u001b[39m\u001b[39m.\u001b[39mobj\u001b[39m.\u001b[39m_get_axis(axis)\n\u001b[0;32m   1460\u001b[0m axis_name \u001b[39m=\u001b[39m \u001b[39mself\u001b[39m\u001b[39m.\u001b[39mobj\u001b[39m.\u001b[39m_get_axis_name(axis)\n\u001b[1;32m-> 1462\u001b[0m keyarr, indexer \u001b[39m=\u001b[39m ax\u001b[39m.\u001b[39;49m_get_indexer_strict(key, axis_name)\n\u001b[0;32m   1464\u001b[0m \u001b[39mreturn\u001b[39;00m keyarr, indexer\n",
      "File \u001b[1;32mc:\\Users\\avvoy\\AppData\\Local\\Programs\\Python\\Python311\\Lib\\site-packages\\pandas\\core\\indexes\\base.py:5877\u001b[0m, in \u001b[0;36mIndex._get_indexer_strict\u001b[1;34m(self, key, axis_name)\u001b[0m\n\u001b[0;32m   5874\u001b[0m \u001b[39melse\u001b[39;00m:\n\u001b[0;32m   5875\u001b[0m     keyarr, indexer, new_indexer \u001b[39m=\u001b[39m \u001b[39mself\u001b[39m\u001b[39m.\u001b[39m_reindex_non_unique(keyarr)\n\u001b[1;32m-> 5877\u001b[0m \u001b[39mself\u001b[39;49m\u001b[39m.\u001b[39;49m_raise_if_missing(keyarr, indexer, axis_name)\n\u001b[0;32m   5879\u001b[0m keyarr \u001b[39m=\u001b[39m \u001b[39mself\u001b[39m\u001b[39m.\u001b[39mtake(indexer)\n\u001b[0;32m   5880\u001b[0m \u001b[39mif\u001b[39;00m \u001b[39misinstance\u001b[39m(key, Index):\n\u001b[0;32m   5881\u001b[0m     \u001b[39m# GH 42790 - Preserve name from an Index\u001b[39;00m\n",
      "File \u001b[1;32mc:\\Users\\avvoy\\AppData\\Local\\Programs\\Python\\Python311\\Lib\\site-packages\\pandas\\core\\indexes\\base.py:5941\u001b[0m, in \u001b[0;36mIndex._raise_if_missing\u001b[1;34m(self, key, indexer, axis_name)\u001b[0m\n\u001b[0;32m   5938\u001b[0m     \u001b[39mraise\u001b[39;00m \u001b[39mKeyError\u001b[39;00m(\u001b[39mf\u001b[39m\u001b[39m\"\u001b[39m\u001b[39mNone of [\u001b[39m\u001b[39m{\u001b[39;00mkey\u001b[39m}\u001b[39;00m\u001b[39m] are in the [\u001b[39m\u001b[39m{\u001b[39;00maxis_name\u001b[39m}\u001b[39;00m\u001b[39m]\u001b[39m\u001b[39m\"\u001b[39m)\n\u001b[0;32m   5940\u001b[0m not_found \u001b[39m=\u001b[39m \u001b[39mlist\u001b[39m(ensure_index(key)[missing_mask\u001b[39m.\u001b[39mnonzero()[\u001b[39m0\u001b[39m]]\u001b[39m.\u001b[39munique())\n\u001b[1;32m-> 5941\u001b[0m \u001b[39mraise\u001b[39;00m \u001b[39mKeyError\u001b[39;00m(\u001b[39mf\u001b[39m\u001b[39m\"\u001b[39m\u001b[39m{\u001b[39;00mnot_found\u001b[39m}\u001b[39;00m\u001b[39m not in index\u001b[39m\u001b[39m\"\u001b[39m)\n",
      "\u001b[1;31mKeyError\u001b[0m: \"['invoice_date'] not in index\""
     ]
    }
   ],
   "source": [
    "# just UK\n",
    "df = df[df[\"country\"] == \"United Kingdom\"]\n",
    "\n",
    "# add revenue variable\n",
    "df[\"revenue\"] = df[\"quantity\"] * df[\"price\"]\n",
    "\n",
    "# remove cancelled orders and missing customer ids\n",
    "df[\"is_cancelled\"] = df[\"invoice\"].apply(lambda x: str(x)[0] == \"C\")\n",
    "mask = (~df[\"customer_id\"].isnull()) & (~df[\"is_cancelled\"])\n",
    "\n",
    "# resample for total daily revenue\n",
    "df = (\n",
    "    df.loc[mask, [\"invoice_date\", \"quantity\", \"revenue\"]]\n",
    "    .resample(\"D\", on=\"invoice_date\")\n",
    "    .sum()\n",
    ")\n",
    "\n",
    "df.head()"
   ]
  },
  {
   "cell_type": "markdown",
   "id": "76168c4c",
   "metadata": {},
   "source": [
    "## Flag specific dates - manually\n",
    "\n",
    "First, we create a list with the specific holidays we want to highlight, for example Black Fridays. And then we add an indicator to flag those dates in our dataset.\n",
    "\n",
    "- Pros: Easy\n",
    "- Con: We need to enter manually each date, for each year ==> impractical"
   ]
  },
  {
   "cell_type": "code",
   "execution_count": 3,
   "id": "be9249ce",
   "metadata": {},
   "outputs": [],
   "source": [
    "import datetime"
   ]
  },
  {
   "cell_type": "code",
   "execution_count": 4,
   "id": "b8530b68",
   "metadata": {},
   "outputs": [
    {
     "data": {
      "text/plain": [
       "[datetime.date(2010, 11, 26), datetime.date(2011, 11, 25)]"
      ]
     },
     "execution_count": 4,
     "metadata": {},
     "output_type": "execute_result"
    }
   ],
   "source": [
    "# Black Friday dates in 2010 and 2011\n",
    "\n",
    "black_friday = [datetime.date(2010, 11, 26), datetime.date(2011, 11, 25)]\n",
    "\n",
    "black_friday"
   ]
  },
  {
   "cell_type": "code",
   "execution_count": 5,
   "id": "f38f5218",
   "metadata": {},
   "outputs": [
    {
     "data": {
      "text/html": [
       "<div>\n",
       "<style scoped>\n",
       "    .dataframe tbody tr th:only-of-type {\n",
       "        vertical-align: middle;\n",
       "    }\n",
       "\n",
       "    .dataframe tbody tr th {\n",
       "        vertical-align: top;\n",
       "    }\n",
       "\n",
       "    .dataframe thead th {\n",
       "        text-align: right;\n",
       "    }\n",
       "</style>\n",
       "<table border=\"1\" class=\"dataframe\">\n",
       "  <thead>\n",
       "    <tr style=\"text-align: right;\">\n",
       "      <th></th>\n",
       "      <th>quantity</th>\n",
       "      <th>revenue</th>\n",
       "      <th>holidays</th>\n",
       "    </tr>\n",
       "    <tr>\n",
       "      <th>invoice_date</th>\n",
       "      <th></th>\n",
       "      <th></th>\n",
       "      <th></th>\n",
       "    </tr>\n",
       "  </thead>\n",
       "  <tbody>\n",
       "    <tr>\n",
       "      <th>2010-11-26</th>\n",
       "      <td>11107</td>\n",
       "      <td>20950.99</td>\n",
       "      <td>1</td>\n",
       "    </tr>\n",
       "    <tr>\n",
       "      <th>2011-11-25</th>\n",
       "      <td>25197</td>\n",
       "      <td>22978.56</td>\n",
       "      <td>1</td>\n",
       "    </tr>\n",
       "  </tbody>\n",
       "</table>\n",
       "</div>"
      ],
      "text/plain": [
       "              quantity   revenue  holidays\n",
       "invoice_date                              \n",
       "2010-11-26       11107  20950.99         1\n",
       "2011-11-25       25197  22978.56         1"
      ]
     },
     "execution_count": 5,
     "metadata": {},
     "output_type": "execute_result"
    }
   ],
   "source": [
    "# flag Black Fridays\n",
    "\n",
    "df[\"holidays\"] = np.where(df.index.isin(black_friday), 1, 0)\n",
    "\n",
    "df[df[\"holidays\"] == 1]"
   ]
  },
  {
   "cell_type": "code",
   "execution_count": 6,
   "id": "3a397361",
   "metadata": {},
   "outputs": [
    {
     "data": {
      "text/plain": [
       "Int64Index([4, 4], dtype='int64', name='invoice_date')"
      ]
     },
     "execution_count": 6,
     "metadata": {},
     "output_type": "execute_result"
    }
   ],
   "source": [
    "# let's double check that it was Friday\n",
    "\n",
    "df[df[\"holidays\"] == 1].index.weekday"
   ]
  },
  {
   "cell_type": "markdown",
   "id": "e07a4f82",
   "metadata": {},
   "source": [
    "## With the holidays library\n",
    "\n",
    "- https://pypi.org/project/holidays/\n",
    "- https://python-holidays.readthedocs.io/en/latest/\n",
    "\n",
    "**Pros**: contains the holidays from several countries."
   ]
  },
  {
   "cell_type": "code",
   "execution_count": 7,
   "id": "2ef127a4",
   "metadata": {},
   "outputs": [],
   "source": [
    "import holidays"
   ]
  },
  {
   "cell_type": "code",
   "execution_count": 8,
   "id": "7b9c52c0",
   "metadata": {},
   "outputs": [
    {
     "data": {
      "text/plain": [
       "holidays.country_holidays('GB', subdiv='UK')"
      ]
     },
     "execution_count": 8,
     "metadata": {},
     "output_type": "execute_result"
    }
   ],
   "source": [
    "uk_holidays = holidays.UK()\n",
    "\n",
    "uk_holidays"
   ]
  },
  {
   "cell_type": "code",
   "execution_count": 9,
   "id": "93c59989",
   "metadata": {},
   "outputs": [
    {
     "name": "stdout",
     "output_type": "stream",
     "text": [
      "2010-01-01 New Year's Day\n",
      "2010-01-02 New Year Holiday [Scotland]\n",
      "2010-01-04 New Year Holiday [Scotland] (Observed)\n",
      "2010-03-17 St. Patrick's Day [Northern Ireland]\n",
      "2010-04-02 Good Friday\n",
      "2010-04-05 Easter Monday [England/Wales/Northern Ireland]\n",
      "2010-05-03 May Day\n",
      "2010-05-31 Spring Bank Holiday\n",
      "2010-07-12 Battle of the Boyne [Northern Ireland]\n",
      "2010-08-02 Summer Bank Holiday [Scotland]\n",
      "2010-08-30 Late Summer Bank Holiday [England/Wales/Northern Ireland]\n",
      "2010-11-30 St. Andrew's Day [Scotland]\n",
      "2010-12-25 Christmas Day\n",
      "2010-12-26 Boxing Day\n",
      "2010-12-27 Christmas Day (Observed)\n",
      "2010-12-28 Boxing Day (Observed)\n",
      "2011-01-01 New Year's Day\n",
      "2011-01-02 New Year Holiday [Scotland]\n",
      "2011-01-03 New Year's Day (Observed)\n",
      "2011-01-04 New Year Holiday [Scotland] (Observed)\n",
      "2011-03-17 St. Patrick's Day [Northern Ireland]\n",
      "2011-04-22 Good Friday\n",
      "2011-04-25 Easter Monday [England/Wales/Northern Ireland]\n",
      "2011-04-29 Wedding of William and Catherine\n",
      "2011-05-02 May Day\n",
      "2011-05-30 Spring Bank Holiday\n",
      "2011-07-12 Battle of the Boyne [Northern Ireland]\n",
      "2011-08-01 Summer Bank Holiday [Scotland]\n",
      "2011-08-29 Late Summer Bank Holiday [England/Wales/Northern Ireland]\n",
      "2011-11-30 St. Andrew's Day [Scotland]\n",
      "2011-12-25 Christmas Day\n",
      "2011-12-26 Boxing Day\n",
      "2011-12-27 Christmas Day (Observed)\n"
     ]
    }
   ],
   "source": [
    "# let's check the holidays available for the UK\n",
    "for date, name in sorted(holidays.UK(subdiv=\"UK\", years=[2010, 2011]).items()):\n",
    "    print(date, name)"
   ]
  },
  {
   "cell_type": "code",
   "execution_count": 10,
   "id": "1c577992",
   "metadata": {},
   "outputs": [
    {
     "data": {
      "text/plain": [
       "[datetime.date(2010, 1, 1),\n",
       " datetime.date(2010, 1, 2),\n",
       " datetime.date(2010, 1, 4),\n",
       " datetime.date(2010, 3, 17),\n",
       " datetime.date(2010, 7, 12),\n",
       " datetime.date(2010, 8, 2),\n",
       " datetime.date(2010, 11, 30),\n",
       " datetime.date(2010, 12, 25),\n",
       " datetime.date(2010, 12, 27),\n",
       " datetime.date(2010, 4, 2),\n",
       " datetime.date(2010, 4, 5),\n",
       " datetime.date(2010, 5, 3),\n",
       " datetime.date(2010, 5, 31),\n",
       " datetime.date(2010, 8, 30),\n",
       " datetime.date(2010, 12, 26),\n",
       " datetime.date(2010, 12, 28),\n",
       " datetime.date(2011, 1, 1),\n",
       " datetime.date(2011, 1, 3),\n",
       " datetime.date(2011, 1, 2),\n",
       " datetime.date(2011, 1, 4),\n",
       " datetime.date(2011, 3, 17),\n",
       " datetime.date(2011, 7, 12),\n",
       " datetime.date(2011, 8, 1),\n",
       " datetime.date(2011, 11, 30),\n",
       " datetime.date(2011, 12, 25),\n",
       " datetime.date(2011, 12, 27),\n",
       " datetime.date(2011, 4, 22),\n",
       " datetime.date(2011, 4, 25),\n",
       " datetime.date(2011, 5, 2),\n",
       " datetime.date(2011, 5, 30),\n",
       " datetime.date(2011, 8, 29),\n",
       " datetime.date(2011, 12, 26),\n",
       " datetime.date(2011, 4, 29)]"
      ]
     },
     "execution_count": 10,
     "metadata": {},
     "output_type": "execute_result"
    }
   ],
   "source": [
    "# let's capture the dates in a list:\n",
    "uk_holidays = [\n",
    "    items[0] for items in holidays.UK(subdiv=\"UK\", years=[2010, 2011]).items()\n",
    "]\n",
    "\n",
    "uk_holidays"
   ]
  },
  {
   "cell_type": "code",
   "execution_count": 11,
   "id": "88e0e189",
   "metadata": {},
   "outputs": [
    {
     "data": {
      "text/html": [
       "<div>\n",
       "<style scoped>\n",
       "    .dataframe tbody tr th:only-of-type {\n",
       "        vertical-align: middle;\n",
       "    }\n",
       "\n",
       "    .dataframe tbody tr th {\n",
       "        vertical-align: top;\n",
       "    }\n",
       "\n",
       "    .dataframe thead th {\n",
       "        text-align: right;\n",
       "    }\n",
       "</style>\n",
       "<table border=\"1\" class=\"dataframe\">\n",
       "  <thead>\n",
       "    <tr style=\"text-align: right;\">\n",
       "      <th></th>\n",
       "      <th>quantity</th>\n",
       "      <th>revenue</th>\n",
       "      <th>holidays</th>\n",
       "    </tr>\n",
       "    <tr>\n",
       "      <th>invoice_date</th>\n",
       "      <th></th>\n",
       "      <th></th>\n",
       "      <th></th>\n",
       "    </tr>\n",
       "  </thead>\n",
       "  <tbody>\n",
       "    <tr>\n",
       "      <th>2010-01-01</th>\n",
       "      <td>0</td>\n",
       "      <td>0.00</td>\n",
       "      <td>1</td>\n",
       "    </tr>\n",
       "    <tr>\n",
       "      <th>2010-01-02</th>\n",
       "      <td>0</td>\n",
       "      <td>0.00</td>\n",
       "      <td>1</td>\n",
       "    </tr>\n",
       "    <tr>\n",
       "      <th>2010-01-04</th>\n",
       "      <td>10601</td>\n",
       "      <td>13450.54</td>\n",
       "      <td>1</td>\n",
       "    </tr>\n",
       "    <tr>\n",
       "      <th>2010-03-17</th>\n",
       "      <td>13010</td>\n",
       "      <td>19504.10</td>\n",
       "      <td>1</td>\n",
       "    </tr>\n",
       "    <tr>\n",
       "      <th>2010-04-02</th>\n",
       "      <td>0</td>\n",
       "      <td>0.00</td>\n",
       "      <td>1</td>\n",
       "    </tr>\n",
       "    <tr>\n",
       "      <th>2010-04-05</th>\n",
       "      <td>0</td>\n",
       "      <td>0.00</td>\n",
       "      <td>1</td>\n",
       "    </tr>\n",
       "    <tr>\n",
       "      <th>2010-05-03</th>\n",
       "      <td>0</td>\n",
       "      <td>0.00</td>\n",
       "      <td>1</td>\n",
       "    </tr>\n",
       "    <tr>\n",
       "      <th>2010-05-31</th>\n",
       "      <td>0</td>\n",
       "      <td>0.00</td>\n",
       "      <td>1</td>\n",
       "    </tr>\n",
       "    <tr>\n",
       "      <th>2010-07-12</th>\n",
       "      <td>8234</td>\n",
       "      <td>14555.73</td>\n",
       "      <td>1</td>\n",
       "    </tr>\n",
       "    <tr>\n",
       "      <th>2010-08-02</th>\n",
       "      <td>11753</td>\n",
       "      <td>25839.08</td>\n",
       "      <td>1</td>\n",
       "    </tr>\n",
       "    <tr>\n",
       "      <th>2010-08-30</th>\n",
       "      <td>0</td>\n",
       "      <td>0.00</td>\n",
       "      <td>1</td>\n",
       "    </tr>\n",
       "    <tr>\n",
       "      <th>2010-11-30</th>\n",
       "      <td>19481</td>\n",
       "      <td>40759.92</td>\n",
       "      <td>1</td>\n",
       "    </tr>\n",
       "    <tr>\n",
       "      <th>2010-12-25</th>\n",
       "      <td>0</td>\n",
       "      <td>0.00</td>\n",
       "      <td>1</td>\n",
       "    </tr>\n",
       "    <tr>\n",
       "      <th>2010-12-26</th>\n",
       "      <td>0</td>\n",
       "      <td>0.00</td>\n",
       "      <td>1</td>\n",
       "    </tr>\n",
       "    <tr>\n",
       "      <th>2010-12-27</th>\n",
       "      <td>0</td>\n",
       "      <td>0.00</td>\n",
       "      <td>1</td>\n",
       "    </tr>\n",
       "    <tr>\n",
       "      <th>2010-12-28</th>\n",
       "      <td>0</td>\n",
       "      <td>0.00</td>\n",
       "      <td>1</td>\n",
       "    </tr>\n",
       "    <tr>\n",
       "      <th>2011-01-01</th>\n",
       "      <td>0</td>\n",
       "      <td>0.00</td>\n",
       "      <td>1</td>\n",
       "    </tr>\n",
       "    <tr>\n",
       "      <th>2011-01-02</th>\n",
       "      <td>0</td>\n",
       "      <td>0.00</td>\n",
       "      <td>1</td>\n",
       "    </tr>\n",
       "    <tr>\n",
       "      <th>2011-01-03</th>\n",
       "      <td>0</td>\n",
       "      <td>0.00</td>\n",
       "      <td>1</td>\n",
       "    </tr>\n",
       "    <tr>\n",
       "      <th>2011-01-04</th>\n",
       "      <td>6666</td>\n",
       "      <td>11577.90</td>\n",
       "      <td>1</td>\n",
       "    </tr>\n",
       "    <tr>\n",
       "      <th>2011-03-17</th>\n",
       "      <td>16490</td>\n",
       "      <td>25166.96</td>\n",
       "      <td>1</td>\n",
       "    </tr>\n",
       "    <tr>\n",
       "      <th>2011-04-22</th>\n",
       "      <td>0</td>\n",
       "      <td>0.00</td>\n",
       "      <td>1</td>\n",
       "    </tr>\n",
       "    <tr>\n",
       "      <th>2011-04-25</th>\n",
       "      <td>0</td>\n",
       "      <td>0.00</td>\n",
       "      <td>1</td>\n",
       "    </tr>\n",
       "    <tr>\n",
       "      <th>2011-04-29</th>\n",
       "      <td>0</td>\n",
       "      <td>0.00</td>\n",
       "      <td>1</td>\n",
       "    </tr>\n",
       "    <tr>\n",
       "      <th>2011-05-02</th>\n",
       "      <td>0</td>\n",
       "      <td>0.00</td>\n",
       "      <td>1</td>\n",
       "    </tr>\n",
       "    <tr>\n",
       "      <th>2011-05-30</th>\n",
       "      <td>0</td>\n",
       "      <td>0.00</td>\n",
       "      <td>1</td>\n",
       "    </tr>\n",
       "    <tr>\n",
       "      <th>2011-07-12</th>\n",
       "      <td>10256</td>\n",
       "      <td>15680.52</td>\n",
       "      <td>1</td>\n",
       "    </tr>\n",
       "    <tr>\n",
       "      <th>2011-08-01</th>\n",
       "      <td>10486</td>\n",
       "      <td>17959.66</td>\n",
       "      <td>1</td>\n",
       "    </tr>\n",
       "    <tr>\n",
       "      <th>2011-08-29</th>\n",
       "      <td>0</td>\n",
       "      <td>0.00</td>\n",
       "      <td>1</td>\n",
       "    </tr>\n",
       "    <tr>\n",
       "      <th>2011-11-30</th>\n",
       "      <td>18911</td>\n",
       "      <td>31900.70</td>\n",
       "      <td>1</td>\n",
       "    </tr>\n",
       "  </tbody>\n",
       "</table>\n",
       "</div>"
      ],
      "text/plain": [
       "              quantity   revenue  holidays\n",
       "invoice_date                              \n",
       "2010-01-01           0      0.00         1\n",
       "2010-01-02           0      0.00         1\n",
       "2010-01-04       10601  13450.54         1\n",
       "2010-03-17       13010  19504.10         1\n",
       "2010-04-02           0      0.00         1\n",
       "2010-04-05           0      0.00         1\n",
       "2010-05-03           0      0.00         1\n",
       "2010-05-31           0      0.00         1\n",
       "2010-07-12        8234  14555.73         1\n",
       "2010-08-02       11753  25839.08         1\n",
       "2010-08-30           0      0.00         1\n",
       "2010-11-30       19481  40759.92         1\n",
       "2010-12-25           0      0.00         1\n",
       "2010-12-26           0      0.00         1\n",
       "2010-12-27           0      0.00         1\n",
       "2010-12-28           0      0.00         1\n",
       "2011-01-01           0      0.00         1\n",
       "2011-01-02           0      0.00         1\n",
       "2011-01-03           0      0.00         1\n",
       "2011-01-04        6666  11577.90         1\n",
       "2011-03-17       16490  25166.96         1\n",
       "2011-04-22           0      0.00         1\n",
       "2011-04-25           0      0.00         1\n",
       "2011-04-29           0      0.00         1\n",
       "2011-05-02           0      0.00         1\n",
       "2011-05-30           0      0.00         1\n",
       "2011-07-12       10256  15680.52         1\n",
       "2011-08-01       10486  17959.66         1\n",
       "2011-08-29           0      0.00         1\n",
       "2011-11-30       18911  31900.70         1"
      ]
     },
     "execution_count": 11,
     "metadata": {},
     "output_type": "execute_result"
    }
   ],
   "source": [
    "# flag holidays\n",
    "\n",
    "df[\"holidays\"] = np.where(df.index.isin(uk_holidays), 1, 0)\n",
    "\n",
    "df[df[\"holidays\"] == 1]"
   ]
  },
  {
   "cell_type": "markdown",
   "id": "f6c9b6a7",
   "metadata": {},
   "source": [
    "Check for other countries in the documentation: https://python-holidays.readthedocs.io/en/latest/index.html#available-countries"
   ]
  },
  {
   "cell_type": "markdown",
   "id": "1a8bed59",
   "metadata": {},
   "source": [
    "## With pandas\n",
    "\n",
    "Pandas supports the US Federal Holidays by default. For any other country, we need to create a special calendar. \n",
    "\n",
    "Let's create a calendar for the UK.\n",
    "\n",
    "### Rules\n",
    "\n",
    "Most holidays occur on a certain date, but are observed on a different day if they fall on a weekend. With this information, we can create rules to automatically assign the holidays to the correct date for every year.\n",
    "\n",
    "**Pandas supports the following default rules:**\n",
    "\n",
    "- nearest_workday ==> move Saturday to Friday and Sunday to Monday\n",
    "- sunday_to_monday ==> move Sunday to following Monday\n",
    "- next_monday_or_tuesday ==> move Saturday to Monday and Sunday/Monday to Tuesday\n",
    "- previous_friday ==> move Saturday and Sunday to previous Friday\n",
    "- next_monday ==> move Saturday and Sunday to following Monday\n",
    "\n",
    "It also allows us to speficy a day in a month, for example, first Monday or 3rd Friday through the MO, TU, WE, TH, FR, SA, SU functions."
   ]
  },
  {
   "cell_type": "code",
   "execution_count": 12,
   "id": "1232b17c",
   "metadata": {},
   "outputs": [],
   "source": [
    "from pandas.tseries.holiday import (\n",
    "    Holiday,\n",
    "    AbstractHolidayCalendar,  # provides all the necessary methods to return a list of holidays\n",
    "    nearest_workday,  # rule\n",
    "    GoodFriday,\n",
    "    EasterMonday,\n",
    "    MO,  # rule\n",
    "    FR,  # rule\n",
    ")"
   ]
  },
  {
   "cell_type": "code",
   "execution_count": 13,
   "id": "b0b07d37",
   "metadata": {},
   "outputs": [],
   "source": [
    "# let's create our calendar\n",
    "\n",
    "\n",
    "class UKHolidays(AbstractHolidayCalendar):\n",
    "    rules = [\n",
    "        GoodFriday,\n",
    "        EasterMonday,\n",
    "        Holiday(\"New Year's Day\", month=1, day=1),\n",
    "        Holiday(\n",
    "            \"May Day\", month=5, day=1, offset=pd.DateOffset(weekday=MO(1))\n",
    "        ),  # first monday\n",
    "        Holiday(\n",
    "            \"Spring Bank Holiday\", month=5, day=31, offset=pd.DateOffset(weekday=MO(-1))\n",
    "        ),  # last monday\n",
    "        Holiday(\n",
    "            \"Black Fridays\", month=11, day=25, offset=pd.DateOffset(weekday=FR(-1))\n",
    "        ),  # third friday\n",
    "        Holiday(\"Company's birthday\", month=8, day=29, observance=nearest_workday),\n",
    "    ]"
   ]
  },
  {
   "cell_type": "markdown",
   "id": "e9c65a5f",
   "metadata": {},
   "source": [
    "For more information about how MO, TU, WE, TH, FR, SA and SU work, check the library [relativedelta](https://dateutil.readthedocs.io/en/stable/relativedelta.html#dateutil.relativedelta.relativedelta).\n",
    "\n",
    "**weekday:**\n",
    "\n",
    "One of the weekday instances (MO, TU, etc) available in the\n",
    "relativedelta module. These instances may receive a parameter N,\n",
    "specifying the Nth weekday, which could be positive or negative\n",
    "(like MO(+1) or MO(-2)). Not specifying it is the same as specifying\n",
    "+1. You can also use an integer, where 0=MO. This argument is always\n",
    "relative e.g. if the calculated date is already Monday, using MO(1)\n",
    "or MO(-1) won't change the day. To effectively make it absolute, use\n",
    "it in combination with the day argument (e.g. day=1, MO(1) for first\n",
    "Monday of the month)."
   ]
  },
  {
   "cell_type": "code",
   "execution_count": 14,
   "id": "1f1fbd9f",
   "metadata": {},
   "outputs": [],
   "source": [
    "# set up the calendar\n",
    "\n",
    "cal = UKHolidays()"
   ]
  },
  {
   "cell_type": "code",
   "execution_count": 15,
   "id": "a93659d1",
   "metadata": {},
   "outputs": [
    {
     "data": {
      "text/plain": [
       "[Holiday: Good Friday (month=1, day=1, offset=[<Easter>, <-2 * Days>]),\n",
       " Holiday: Easter Monday (month=1, day=1, offset=[<Easter>, <Day>]),\n",
       " Holiday: New Year's Day (month=1, day=1, ),\n",
       " Holiday: May Day (month=5, day=1, offset=<DateOffset: weekday=MO(+1)>),\n",
       " Holiday: Spring Bank Holiday (month=5, day=31, offset=<DateOffset: weekday=MO(-1)>),\n",
       " Holiday: Black Fridays (month=11, day=25, offset=<DateOffset: weekday=FR(-1)>),\n",
       " Holiday: Company's birthday (month=8, day=29, observance=<function nearest_workday at 0x0000025104503E20>)]"
      ]
     },
     "execution_count": 15,
     "metadata": {},
     "output_type": "execute_result"
    }
   ],
   "source": [
    "cal.rules"
   ]
  },
  {
   "cell_type": "code",
   "execution_count": 16,
   "id": "091d8cea",
   "metadata": {},
   "outputs": [
    {
     "data": {
      "text/plain": [
       "DatetimeIndex(['2010-11-19', '2011-01-01', '2011-04-22', '2011-04-25',\n",
       "               '2011-05-02', '2011-05-30', '2011-08-29', '2011-11-25',\n",
       "               '2012-01-01'],\n",
       "              dtype='datetime64[ns]', freq=None)"
      ]
     },
     "execution_count": 16,
     "metadata": {},
     "output_type": "execute_result"
    }
   ],
   "source": [
    "# find the holiday dates in a certain period of time\n",
    "\n",
    "uk_holidays = cal.holidays(\n",
    "    datetime.datetime(2010, 11, 1), datetime.datetime(2012, 3, 31)\n",
    ")\n",
    "\n",
    "uk_holidays"
   ]
  },
  {
   "cell_type": "code",
   "execution_count": 17,
   "id": "1e80d878",
   "metadata": {},
   "outputs": [
    {
     "data": {
      "text/html": [
       "<div>\n",
       "<style scoped>\n",
       "    .dataframe tbody tr th:only-of-type {\n",
       "        vertical-align: middle;\n",
       "    }\n",
       "\n",
       "    .dataframe tbody tr th {\n",
       "        vertical-align: top;\n",
       "    }\n",
       "\n",
       "    .dataframe thead th {\n",
       "        text-align: right;\n",
       "    }\n",
       "</style>\n",
       "<table border=\"1\" class=\"dataframe\">\n",
       "  <thead>\n",
       "    <tr style=\"text-align: right;\">\n",
       "      <th></th>\n",
       "      <th>quantity</th>\n",
       "      <th>revenue</th>\n",
       "      <th>holidays</th>\n",
       "    </tr>\n",
       "    <tr>\n",
       "      <th>invoice_date</th>\n",
       "      <th></th>\n",
       "      <th></th>\n",
       "      <th></th>\n",
       "    </tr>\n",
       "  </thead>\n",
       "  <tbody>\n",
       "    <tr>\n",
       "      <th>2010-11-19</th>\n",
       "      <td>18837</td>\n",
       "      <td>30229.20</td>\n",
       "      <td>1</td>\n",
       "    </tr>\n",
       "    <tr>\n",
       "      <th>2011-01-01</th>\n",
       "      <td>0</td>\n",
       "      <td>0.00</td>\n",
       "      <td>1</td>\n",
       "    </tr>\n",
       "    <tr>\n",
       "      <th>2011-04-22</th>\n",
       "      <td>0</td>\n",
       "      <td>0.00</td>\n",
       "      <td>1</td>\n",
       "    </tr>\n",
       "    <tr>\n",
       "      <th>2011-04-25</th>\n",
       "      <td>0</td>\n",
       "      <td>0.00</td>\n",
       "      <td>1</td>\n",
       "    </tr>\n",
       "    <tr>\n",
       "      <th>2011-05-02</th>\n",
       "      <td>0</td>\n",
       "      <td>0.00</td>\n",
       "      <td>1</td>\n",
       "    </tr>\n",
       "    <tr>\n",
       "      <th>2011-05-30</th>\n",
       "      <td>0</td>\n",
       "      <td>0.00</td>\n",
       "      <td>1</td>\n",
       "    </tr>\n",
       "    <tr>\n",
       "      <th>2011-08-29</th>\n",
       "      <td>0</td>\n",
       "      <td>0.00</td>\n",
       "      <td>1</td>\n",
       "    </tr>\n",
       "    <tr>\n",
       "      <th>2011-11-25</th>\n",
       "      <td>25197</td>\n",
       "      <td>22978.56</td>\n",
       "      <td>1</td>\n",
       "    </tr>\n",
       "  </tbody>\n",
       "</table>\n",
       "</div>"
      ],
      "text/plain": [
       "              quantity   revenue  holidays\n",
       "invoice_date                              \n",
       "2010-11-19       18837  30229.20         1\n",
       "2011-01-01           0      0.00         1\n",
       "2011-04-22           0      0.00         1\n",
       "2011-04-25           0      0.00         1\n",
       "2011-05-02           0      0.00         1\n",
       "2011-05-30           0      0.00         1\n",
       "2011-08-29           0      0.00         1\n",
       "2011-11-25       25197  22978.56         1"
      ]
     },
     "execution_count": 17,
     "metadata": {},
     "output_type": "execute_result"
    }
   ],
   "source": [
    "# flag holidays\n",
    "\n",
    "df[\"holidays\"] = np.where(df.index.isin(uk_holidays), 1, 0)\n",
    "\n",
    "df[df[\"holidays\"] == 1]"
   ]
  },
  {
   "cell_type": "markdown",
   "id": "4f41cd92",
   "metadata": {},
   "source": [
    "I have to say, I am not amazed by the documentation on this topic. These are the available links:\n",
    "\n",
    "- source code: https://github.com/pandas-dev/pandas/blob/main/pandas/tseries/holiday.py\n",
    "- docs: https://pandas.pydata.org/pandas-docs/stable/user_guide/timeseries.html?highlight=holiday#holidays-holiday-calendars"
   ]
  },
  {
   "cell_type": "markdown",
   "id": "376ea488",
   "metadata": {},
   "source": [
    "## Default US calendar"
   ]
  },
  {
   "cell_type": "code",
   "execution_count": 18,
   "id": "bd53ad56",
   "metadata": {},
   "outputs": [],
   "source": [
    "from pandas.tseries.holiday import USFederalHolidayCalendar"
   ]
  },
  {
   "cell_type": "code",
   "execution_count": 19,
   "id": "b9a87690",
   "metadata": {},
   "outputs": [
    {
     "data": {
      "text/plain": [
       "[Holiday: New Year's Day (month=1, day=1, observance=<function nearest_workday at 0x0000025104503E20>),\n",
       " Holiday: Birthday of Martin Luther King, Jr. (month=1, day=1, offset=<DateOffset: weekday=MO(+3)>),\n",
       " Holiday: Washington’s Birthday (month=2, day=1, offset=<DateOffset: weekday=MO(+3)>),\n",
       " Holiday: Memorial Day (month=5, day=31, offset=<DateOffset: weekday=MO(-1)>),\n",
       " Holiday: Juneteenth National Independence Day (month=6, day=19, observance=<function nearest_workday at 0x0000025104503E20>),\n",
       " Holiday: Independence Day (month=7, day=4, observance=<function nearest_workday at 0x0000025104503E20>),\n",
       " Holiday: Labor Day (month=9, day=1, offset=<DateOffset: weekday=MO(+1)>),\n",
       " Holiday: Columbus Day (month=10, day=1, offset=<DateOffset: weekday=MO(+2)>),\n",
       " Holiday: Veterans Day (month=11, day=11, observance=<function nearest_workday at 0x0000025104503E20>),\n",
       " Holiday: Thanksgiving Day (month=11, day=1, offset=<DateOffset: weekday=TH(+4)>),\n",
       " Holiday: Christmas Day (month=12, day=25, observance=<function nearest_workday at 0x0000025104503E20>)]"
      ]
     },
     "execution_count": 19,
     "metadata": {},
     "output_type": "execute_result"
    }
   ],
   "source": [
    "cal = USFederalHolidayCalendar()\n",
    "\n",
    "cal.rules"
   ]
  },
  {
   "cell_type": "code",
   "execution_count": null,
   "id": "c2a424a6",
   "metadata": {},
   "outputs": [],
   "source": []
  }
 ],
 "metadata": {
  "kernelspec": {
   "display_name": "Python 3",
   "language": "python",
   "name": "python3"
  },
  "language_info": {
   "codemirror_mode": {
    "name": "ipython",
    "version": 3
   },
   "file_extension": ".py",
   "mimetype": "text/x-python",
   "name": "python",
   "nbconvert_exporter": "python",
   "pygments_lexer": "ipython3",
   "version": "3.11.4"
  },
  "toc": {
   "base_numbering": 1,
   "nav_menu": {},
   "number_sections": true,
   "sideBar": true,
   "skip_h1_title": false,
   "title_cell": "Table of Contents",
   "title_sidebar": "Contents",
   "toc_cell": false,
   "toc_position": {
    "height": "calc(100% - 180px)",
    "left": "10px",
    "top": "150px",
    "width": "165px"
   },
   "toc_section_display": true,
   "toc_window_display": true
  }
 },
 "nbformat": 4,
 "nbformat_minor": 5
}
